{
  "nbformat": 4,
  "nbformat_minor": 0,
  "metadata": {
    "colab": {
      "provenance": [],
      "gpuType": "T4"
    },
    "kernelspec": {
      "name": "python3",
      "display_name": "Python 3"
    },
    "language_info": {
      "name": "python"
    },
    "accelerator": "GPU",
    "widgets": {
      "application/vnd.jupyter.widget-state+json": {
        "d43bf0f6bdfb44bcab3003e8a7cca11a": {
          "model_module": "@jupyter-widgets/controls",
          "model_name": "HBoxModel",
          "model_module_version": "1.5.0",
          "state": {
            "_dom_classes": [],
            "_model_module": "@jupyter-widgets/controls",
            "_model_module_version": "1.5.0",
            "_model_name": "HBoxModel",
            "_view_count": null,
            "_view_module": "@jupyter-widgets/controls",
            "_view_module_version": "1.5.0",
            "_view_name": "HBoxView",
            "box_style": "",
            "children": [
              "IPY_MODEL_fdffcfa007b9480fa10c8d56bdd568d1",
              "IPY_MODEL_a6a1758b4299430fa1ceb13c057a12ae",
              "IPY_MODEL_99b5cc8ef78747918d9dcdfad71858ca"
            ],
            "layout": "IPY_MODEL_38e938d57428456bbfc8481f55dfea3b"
          }
        },
        "fdffcfa007b9480fa10c8d56bdd568d1": {
          "model_module": "@jupyter-widgets/controls",
          "model_name": "HTMLModel",
          "model_module_version": "1.5.0",
          "state": {
            "_dom_classes": [],
            "_model_module": "@jupyter-widgets/controls",
            "_model_module_version": "1.5.0",
            "_model_name": "HTMLModel",
            "_view_count": null,
            "_view_module": "@jupyter-widgets/controls",
            "_view_module_version": "1.5.0",
            "_view_name": "HTMLView",
            "description": "",
            "description_tooltip": null,
            "layout": "IPY_MODEL_e1bcc9d96b65404486522e522117372b",
            "placeholder": "​",
            "style": "IPY_MODEL_880a33bf459844fb969d91836db62592",
            "value": "tokenizer_config.json: 100%"
          }
        },
        "a6a1758b4299430fa1ceb13c057a12ae": {
          "model_module": "@jupyter-widgets/controls",
          "model_name": "FloatProgressModel",
          "model_module_version": "1.5.0",
          "state": {
            "_dom_classes": [],
            "_model_module": "@jupyter-widgets/controls",
            "_model_module_version": "1.5.0",
            "_model_name": "FloatProgressModel",
            "_view_count": null,
            "_view_module": "@jupyter-widgets/controls",
            "_view_module_version": "1.5.0",
            "_view_name": "ProgressView",
            "bar_style": "success",
            "description": "",
            "description_tooltip": null,
            "layout": "IPY_MODEL_e89f0abf56e04fb2ad363a8659bc604a",
            "max": 43,
            "min": 0,
            "orientation": "horizontal",
            "style": "IPY_MODEL_aa9c25526f234790891060e12b025fe4",
            "value": 43
          }
        },
        "99b5cc8ef78747918d9dcdfad71858ca": {
          "model_module": "@jupyter-widgets/controls",
          "model_name": "HTMLModel",
          "model_module_version": "1.5.0",
          "state": {
            "_dom_classes": [],
            "_model_module": "@jupyter-widgets/controls",
            "_model_module_version": "1.5.0",
            "_model_name": "HTMLModel",
            "_view_count": null,
            "_view_module": "@jupyter-widgets/controls",
            "_view_module_version": "1.5.0",
            "_view_name": "HTMLView",
            "description": "",
            "description_tooltip": null,
            "layout": "IPY_MODEL_9e5ecc8479b64ef5989b271dff3bd732",
            "placeholder": "​",
            "style": "IPY_MODEL_6ea4e89f0b734bf1b3b0e1e552bfb220",
            "value": " 43.0/43.0 [00:00&lt;00:00, 4.71kB/s]"
          }
        },
        "38e938d57428456bbfc8481f55dfea3b": {
          "model_module": "@jupyter-widgets/base",
          "model_name": "LayoutModel",
          "model_module_version": "1.2.0",
          "state": {
            "_model_module": "@jupyter-widgets/base",
            "_model_module_version": "1.2.0",
            "_model_name": "LayoutModel",
            "_view_count": null,
            "_view_module": "@jupyter-widgets/base",
            "_view_module_version": "1.2.0",
            "_view_name": "LayoutView",
            "align_content": null,
            "align_items": null,
            "align_self": null,
            "border": null,
            "bottom": null,
            "display": null,
            "flex": null,
            "flex_flow": null,
            "grid_area": null,
            "grid_auto_columns": null,
            "grid_auto_flow": null,
            "grid_auto_rows": null,
            "grid_column": null,
            "grid_gap": null,
            "grid_row": null,
            "grid_template_areas": null,
            "grid_template_columns": null,
            "grid_template_rows": null,
            "height": null,
            "justify_content": null,
            "justify_items": null,
            "left": null,
            "margin": null,
            "max_height": null,
            "max_width": null,
            "min_height": null,
            "min_width": null,
            "object_fit": null,
            "object_position": null,
            "order": null,
            "overflow": null,
            "overflow_x": null,
            "overflow_y": null,
            "padding": null,
            "right": null,
            "top": null,
            "visibility": null,
            "width": null
          }
        },
        "e1bcc9d96b65404486522e522117372b": {
          "model_module": "@jupyter-widgets/base",
          "model_name": "LayoutModel",
          "model_module_version": "1.2.0",
          "state": {
            "_model_module": "@jupyter-widgets/base",
            "_model_module_version": "1.2.0",
            "_model_name": "LayoutModel",
            "_view_count": null,
            "_view_module": "@jupyter-widgets/base",
            "_view_module_version": "1.2.0",
            "_view_name": "LayoutView",
            "align_content": null,
            "align_items": null,
            "align_self": null,
            "border": null,
            "bottom": null,
            "display": null,
            "flex": null,
            "flex_flow": null,
            "grid_area": null,
            "grid_auto_columns": null,
            "grid_auto_flow": null,
            "grid_auto_rows": null,
            "grid_column": null,
            "grid_gap": null,
            "grid_row": null,
            "grid_template_areas": null,
            "grid_template_columns": null,
            "grid_template_rows": null,
            "height": null,
            "justify_content": null,
            "justify_items": null,
            "left": null,
            "margin": null,
            "max_height": null,
            "max_width": null,
            "min_height": null,
            "min_width": null,
            "object_fit": null,
            "object_position": null,
            "order": null,
            "overflow": null,
            "overflow_x": null,
            "overflow_y": null,
            "padding": null,
            "right": null,
            "top": null,
            "visibility": null,
            "width": null
          }
        },
        "880a33bf459844fb969d91836db62592": {
          "model_module": "@jupyter-widgets/controls",
          "model_name": "DescriptionStyleModel",
          "model_module_version": "1.5.0",
          "state": {
            "_model_module": "@jupyter-widgets/controls",
            "_model_module_version": "1.5.0",
            "_model_name": "DescriptionStyleModel",
            "_view_count": null,
            "_view_module": "@jupyter-widgets/base",
            "_view_module_version": "1.2.0",
            "_view_name": "StyleView",
            "description_width": ""
          }
        },
        "e89f0abf56e04fb2ad363a8659bc604a": {
          "model_module": "@jupyter-widgets/base",
          "model_name": "LayoutModel",
          "model_module_version": "1.2.0",
          "state": {
            "_model_module": "@jupyter-widgets/base",
            "_model_module_version": "1.2.0",
            "_model_name": "LayoutModel",
            "_view_count": null,
            "_view_module": "@jupyter-widgets/base",
            "_view_module_version": "1.2.0",
            "_view_name": "LayoutView",
            "align_content": null,
            "align_items": null,
            "align_self": null,
            "border": null,
            "bottom": null,
            "display": null,
            "flex": null,
            "flex_flow": null,
            "grid_area": null,
            "grid_auto_columns": null,
            "grid_auto_flow": null,
            "grid_auto_rows": null,
            "grid_column": null,
            "grid_gap": null,
            "grid_row": null,
            "grid_template_areas": null,
            "grid_template_columns": null,
            "grid_template_rows": null,
            "height": null,
            "justify_content": null,
            "justify_items": null,
            "left": null,
            "margin": null,
            "max_height": null,
            "max_width": null,
            "min_height": null,
            "min_width": null,
            "object_fit": null,
            "object_position": null,
            "order": null,
            "overflow": null,
            "overflow_x": null,
            "overflow_y": null,
            "padding": null,
            "right": null,
            "top": null,
            "visibility": null,
            "width": null
          }
        },
        "aa9c25526f234790891060e12b025fe4": {
          "model_module": "@jupyter-widgets/controls",
          "model_name": "ProgressStyleModel",
          "model_module_version": "1.5.0",
          "state": {
            "_model_module": "@jupyter-widgets/controls",
            "_model_module_version": "1.5.0",
            "_model_name": "ProgressStyleModel",
            "_view_count": null,
            "_view_module": "@jupyter-widgets/base",
            "_view_module_version": "1.2.0",
            "_view_name": "StyleView",
            "bar_color": null,
            "description_width": ""
          }
        },
        "9e5ecc8479b64ef5989b271dff3bd732": {
          "model_module": "@jupyter-widgets/base",
          "model_name": "LayoutModel",
          "model_module_version": "1.2.0",
          "state": {
            "_model_module": "@jupyter-widgets/base",
            "_model_module_version": "1.2.0",
            "_model_name": "LayoutModel",
            "_view_count": null,
            "_view_module": "@jupyter-widgets/base",
            "_view_module_version": "1.2.0",
            "_view_name": "LayoutView",
            "align_content": null,
            "align_items": null,
            "align_self": null,
            "border": null,
            "bottom": null,
            "display": null,
            "flex": null,
            "flex_flow": null,
            "grid_area": null,
            "grid_auto_columns": null,
            "grid_auto_flow": null,
            "grid_auto_rows": null,
            "grid_column": null,
            "grid_gap": null,
            "grid_row": null,
            "grid_template_areas": null,
            "grid_template_columns": null,
            "grid_template_rows": null,
            "height": null,
            "justify_content": null,
            "justify_items": null,
            "left": null,
            "margin": null,
            "max_height": null,
            "max_width": null,
            "min_height": null,
            "min_width": null,
            "object_fit": null,
            "object_position": null,
            "order": null,
            "overflow": null,
            "overflow_x": null,
            "overflow_y": null,
            "padding": null,
            "right": null,
            "top": null,
            "visibility": null,
            "width": null
          }
        },
        "6ea4e89f0b734bf1b3b0e1e552bfb220": {
          "model_module": "@jupyter-widgets/controls",
          "model_name": "DescriptionStyleModel",
          "model_module_version": "1.5.0",
          "state": {
            "_model_module": "@jupyter-widgets/controls",
            "_model_module_version": "1.5.0",
            "_model_name": "DescriptionStyleModel",
            "_view_count": null,
            "_view_module": "@jupyter-widgets/base",
            "_view_module_version": "1.2.0",
            "_view_name": "StyleView",
            "description_width": ""
          }
        },
        "d6cf145084804576b0f0434e366bad35": {
          "model_module": "@jupyter-widgets/controls",
          "model_name": "HBoxModel",
          "model_module_version": "1.5.0",
          "state": {
            "_dom_classes": [],
            "_model_module": "@jupyter-widgets/controls",
            "_model_module_version": "1.5.0",
            "_model_name": "HBoxModel",
            "_view_count": null,
            "_view_module": "@jupyter-widgets/controls",
            "_view_module_version": "1.5.0",
            "_view_name": "HBoxView",
            "box_style": "",
            "children": [
              "IPY_MODEL_c595deb9074f4166bed805db9b395ed7",
              "IPY_MODEL_1b21e10414bc44f695e9940dca0f895b",
              "IPY_MODEL_87ed9305e8954d228b4ca3ac1bbd91d3"
            ],
            "layout": "IPY_MODEL_358cafe0fa82404097da92210c2a59b7"
          }
        },
        "c595deb9074f4166bed805db9b395ed7": {
          "model_module": "@jupyter-widgets/controls",
          "model_name": "HTMLModel",
          "model_module_version": "1.5.0",
          "state": {
            "_dom_classes": [],
            "_model_module": "@jupyter-widgets/controls",
            "_model_module_version": "1.5.0",
            "_model_name": "HTMLModel",
            "_view_count": null,
            "_view_module": "@jupyter-widgets/controls",
            "_view_module_version": "1.5.0",
            "_view_name": "HTMLView",
            "description": "",
            "description_tooltip": null,
            "layout": "IPY_MODEL_d88bef9f33cb43df9e0253bd057fa3c5",
            "placeholder": "​",
            "style": "IPY_MODEL_1eec3035622742b1a72d14d737cfd703",
            "value": "vocab.txt: "
          }
        },
        "1b21e10414bc44f695e9940dca0f895b": {
          "model_module": "@jupyter-widgets/controls",
          "model_name": "FloatProgressModel",
          "model_module_version": "1.5.0",
          "state": {
            "_dom_classes": [],
            "_model_module": "@jupyter-widgets/controls",
            "_model_module_version": "1.5.0",
            "_model_name": "FloatProgressModel",
            "_view_count": null,
            "_view_module": "@jupyter-widgets/controls",
            "_view_module_version": "1.5.0",
            "_view_name": "ProgressView",
            "bar_style": "success",
            "description": "",
            "description_tooltip": null,
            "layout": "IPY_MODEL_cea600e848d54a77acffee85b560b009",
            "max": 1,
            "min": 0,
            "orientation": "horizontal",
            "style": "IPY_MODEL_ccac0ba911664f3bb1a871b07e1989f7",
            "value": 1
          }
        },
        "87ed9305e8954d228b4ca3ac1bbd91d3": {
          "model_module": "@jupyter-widgets/controls",
          "model_name": "HTMLModel",
          "model_module_version": "1.5.0",
          "state": {
            "_dom_classes": [],
            "_model_module": "@jupyter-widgets/controls",
            "_model_module_version": "1.5.0",
            "_model_name": "HTMLModel",
            "_view_count": null,
            "_view_module": "@jupyter-widgets/controls",
            "_view_module_version": "1.5.0",
            "_view_name": "HTMLView",
            "description": "",
            "description_tooltip": null,
            "layout": "IPY_MODEL_acf420571ebc41808c0173006b188c44",
            "placeholder": "​",
            "style": "IPY_MODEL_64df3596fea44359b2fe6a6dc0011a9d",
            "value": " 210k/? [00:00&lt;00:00, 10.9MB/s]"
          }
        },
        "358cafe0fa82404097da92210c2a59b7": {
          "model_module": "@jupyter-widgets/base",
          "model_name": "LayoutModel",
          "model_module_version": "1.2.0",
          "state": {
            "_model_module": "@jupyter-widgets/base",
            "_model_module_version": "1.2.0",
            "_model_name": "LayoutModel",
            "_view_count": null,
            "_view_module": "@jupyter-widgets/base",
            "_view_module_version": "1.2.0",
            "_view_name": "LayoutView",
            "align_content": null,
            "align_items": null,
            "align_self": null,
            "border": null,
            "bottom": null,
            "display": null,
            "flex": null,
            "flex_flow": null,
            "grid_area": null,
            "grid_auto_columns": null,
            "grid_auto_flow": null,
            "grid_auto_rows": null,
            "grid_column": null,
            "grid_gap": null,
            "grid_row": null,
            "grid_template_areas": null,
            "grid_template_columns": null,
            "grid_template_rows": null,
            "height": null,
            "justify_content": null,
            "justify_items": null,
            "left": null,
            "margin": null,
            "max_height": null,
            "max_width": null,
            "min_height": null,
            "min_width": null,
            "object_fit": null,
            "object_position": null,
            "order": null,
            "overflow": null,
            "overflow_x": null,
            "overflow_y": null,
            "padding": null,
            "right": null,
            "top": null,
            "visibility": null,
            "width": null
          }
        },
        "d88bef9f33cb43df9e0253bd057fa3c5": {
          "model_module": "@jupyter-widgets/base",
          "model_name": "LayoutModel",
          "model_module_version": "1.2.0",
          "state": {
            "_model_module": "@jupyter-widgets/base",
            "_model_module_version": "1.2.0",
            "_model_name": "LayoutModel",
            "_view_count": null,
            "_view_module": "@jupyter-widgets/base",
            "_view_module_version": "1.2.0",
            "_view_name": "LayoutView",
            "align_content": null,
            "align_items": null,
            "align_self": null,
            "border": null,
            "bottom": null,
            "display": null,
            "flex": null,
            "flex_flow": null,
            "grid_area": null,
            "grid_auto_columns": null,
            "grid_auto_flow": null,
            "grid_auto_rows": null,
            "grid_column": null,
            "grid_gap": null,
            "grid_row": null,
            "grid_template_areas": null,
            "grid_template_columns": null,
            "grid_template_rows": null,
            "height": null,
            "justify_content": null,
            "justify_items": null,
            "left": null,
            "margin": null,
            "max_height": null,
            "max_width": null,
            "min_height": null,
            "min_width": null,
            "object_fit": null,
            "object_position": null,
            "order": null,
            "overflow": null,
            "overflow_x": null,
            "overflow_y": null,
            "padding": null,
            "right": null,
            "top": null,
            "visibility": null,
            "width": null
          }
        },
        "1eec3035622742b1a72d14d737cfd703": {
          "model_module": "@jupyter-widgets/controls",
          "model_name": "DescriptionStyleModel",
          "model_module_version": "1.5.0",
          "state": {
            "_model_module": "@jupyter-widgets/controls",
            "_model_module_version": "1.5.0",
            "_model_name": "DescriptionStyleModel",
            "_view_count": null,
            "_view_module": "@jupyter-widgets/base",
            "_view_module_version": "1.2.0",
            "_view_name": "StyleView",
            "description_width": ""
          }
        },
        "cea600e848d54a77acffee85b560b009": {
          "model_module": "@jupyter-widgets/base",
          "model_name": "LayoutModel",
          "model_module_version": "1.2.0",
          "state": {
            "_model_module": "@jupyter-widgets/base",
            "_model_module_version": "1.2.0",
            "_model_name": "LayoutModel",
            "_view_count": null,
            "_view_module": "@jupyter-widgets/base",
            "_view_module_version": "1.2.0",
            "_view_name": "LayoutView",
            "align_content": null,
            "align_items": null,
            "align_self": null,
            "border": null,
            "bottom": null,
            "display": null,
            "flex": null,
            "flex_flow": null,
            "grid_area": null,
            "grid_auto_columns": null,
            "grid_auto_flow": null,
            "grid_auto_rows": null,
            "grid_column": null,
            "grid_gap": null,
            "grid_row": null,
            "grid_template_areas": null,
            "grid_template_columns": null,
            "grid_template_rows": null,
            "height": null,
            "justify_content": null,
            "justify_items": null,
            "left": null,
            "margin": null,
            "max_height": null,
            "max_width": null,
            "min_height": null,
            "min_width": null,
            "object_fit": null,
            "object_position": null,
            "order": null,
            "overflow": null,
            "overflow_x": null,
            "overflow_y": null,
            "padding": null,
            "right": null,
            "top": null,
            "visibility": null,
            "width": "20px"
          }
        },
        "ccac0ba911664f3bb1a871b07e1989f7": {
          "model_module": "@jupyter-widgets/controls",
          "model_name": "ProgressStyleModel",
          "model_module_version": "1.5.0",
          "state": {
            "_model_module": "@jupyter-widgets/controls",
            "_model_module_version": "1.5.0",
            "_model_name": "ProgressStyleModel",
            "_view_count": null,
            "_view_module": "@jupyter-widgets/base",
            "_view_module_version": "1.2.0",
            "_view_name": "StyleView",
            "bar_color": null,
            "description_width": ""
          }
        },
        "acf420571ebc41808c0173006b188c44": {
          "model_module": "@jupyter-widgets/base",
          "model_name": "LayoutModel",
          "model_module_version": "1.2.0",
          "state": {
            "_model_module": "@jupyter-widgets/base",
            "_model_module_version": "1.2.0",
            "_model_name": "LayoutModel",
            "_view_count": null,
            "_view_module": "@jupyter-widgets/base",
            "_view_module_version": "1.2.0",
            "_view_name": "LayoutView",
            "align_content": null,
            "align_items": null,
            "align_self": null,
            "border": null,
            "bottom": null,
            "display": null,
            "flex": null,
            "flex_flow": null,
            "grid_area": null,
            "grid_auto_columns": null,
            "grid_auto_flow": null,
            "grid_auto_rows": null,
            "grid_column": null,
            "grid_gap": null,
            "grid_row": null,
            "grid_template_areas": null,
            "grid_template_columns": null,
            "grid_template_rows": null,
            "height": null,
            "justify_content": null,
            "justify_items": null,
            "left": null,
            "margin": null,
            "max_height": null,
            "max_width": null,
            "min_height": null,
            "min_width": null,
            "object_fit": null,
            "object_position": null,
            "order": null,
            "overflow": null,
            "overflow_x": null,
            "overflow_y": null,
            "padding": null,
            "right": null,
            "top": null,
            "visibility": null,
            "width": null
          }
        },
        "64df3596fea44359b2fe6a6dc0011a9d": {
          "model_module": "@jupyter-widgets/controls",
          "model_name": "DescriptionStyleModel",
          "model_module_version": "1.5.0",
          "state": {
            "_model_module": "@jupyter-widgets/controls",
            "_model_module_version": "1.5.0",
            "_model_name": "DescriptionStyleModel",
            "_view_count": null,
            "_view_module": "@jupyter-widgets/base",
            "_view_module_version": "1.2.0",
            "_view_name": "StyleView",
            "description_width": ""
          }
        },
        "f64e5355fc81410d9a1a58eeb6e6600f": {
          "model_module": "@jupyter-widgets/controls",
          "model_name": "HBoxModel",
          "model_module_version": "1.5.0",
          "state": {
            "_dom_classes": [],
            "_model_module": "@jupyter-widgets/controls",
            "_model_module_version": "1.5.0",
            "_model_name": "HBoxModel",
            "_view_count": null,
            "_view_module": "@jupyter-widgets/controls",
            "_view_module_version": "1.5.0",
            "_view_name": "HBoxView",
            "box_style": "",
            "children": [
              "IPY_MODEL_8eaafbd57d0e403e8a78d46530aa7704",
              "IPY_MODEL_1f6716a8754441d4972950f962293494",
              "IPY_MODEL_481e1bcaaefd4c6f9e64a5b289de503f"
            ],
            "layout": "IPY_MODEL_dbbc00dbeb9b495299c88f3e0cda56bc"
          }
        },
        "8eaafbd57d0e403e8a78d46530aa7704": {
          "model_module": "@jupyter-widgets/controls",
          "model_name": "HTMLModel",
          "model_module_version": "1.5.0",
          "state": {
            "_dom_classes": [],
            "_model_module": "@jupyter-widgets/controls",
            "_model_module_version": "1.5.0",
            "_model_name": "HTMLModel",
            "_view_count": null,
            "_view_module": "@jupyter-widgets/controls",
            "_view_module_version": "1.5.0",
            "_view_name": "HTMLView",
            "description": "",
            "description_tooltip": null,
            "layout": "IPY_MODEL_84be8e23dd5644c8b3350b519df0044f",
            "placeholder": "​",
            "style": "IPY_MODEL_97d4a3278eda47cabf25c3c3bb2e2f16",
            "value": "added_tokens.json: 100%"
          }
        },
        "1f6716a8754441d4972950f962293494": {
          "model_module": "@jupyter-widgets/controls",
          "model_name": "FloatProgressModel",
          "model_module_version": "1.5.0",
          "state": {
            "_dom_classes": [],
            "_model_module": "@jupyter-widgets/controls",
            "_model_module_version": "1.5.0",
            "_model_name": "FloatProgressModel",
            "_view_count": null,
            "_view_module": "@jupyter-widgets/controls",
            "_view_module_version": "1.5.0",
            "_view_name": "ProgressView",
            "bar_style": "success",
            "description": "",
            "description_tooltip": null,
            "layout": "IPY_MODEL_11d5dfec86814ababfc089409974b8b0",
            "max": 2,
            "min": 0,
            "orientation": "horizontal",
            "style": "IPY_MODEL_45bfc13780fb4374b8c51022b3cb1937",
            "value": 2
          }
        },
        "481e1bcaaefd4c6f9e64a5b289de503f": {
          "model_module": "@jupyter-widgets/controls",
          "model_name": "HTMLModel",
          "model_module_version": "1.5.0",
          "state": {
            "_dom_classes": [],
            "_model_module": "@jupyter-widgets/controls",
            "_model_module_version": "1.5.0",
            "_model_name": "HTMLModel",
            "_view_count": null,
            "_view_module": "@jupyter-widgets/controls",
            "_view_module_version": "1.5.0",
            "_view_name": "HTMLView",
            "description": "",
            "description_tooltip": null,
            "layout": "IPY_MODEL_7280fb1197a94926afa98d4e864abab5",
            "placeholder": "​",
            "style": "IPY_MODEL_37ab9a87316046dfb3d60aab5b2ebafe",
            "value": " 2.00/2.00 [00:00&lt;00:00, 204B/s]"
          }
        },
        "dbbc00dbeb9b495299c88f3e0cda56bc": {
          "model_module": "@jupyter-widgets/base",
          "model_name": "LayoutModel",
          "model_module_version": "1.2.0",
          "state": {
            "_model_module": "@jupyter-widgets/base",
            "_model_module_version": "1.2.0",
            "_model_name": "LayoutModel",
            "_view_count": null,
            "_view_module": "@jupyter-widgets/base",
            "_view_module_version": "1.2.0",
            "_view_name": "LayoutView",
            "align_content": null,
            "align_items": null,
            "align_self": null,
            "border": null,
            "bottom": null,
            "display": null,
            "flex": null,
            "flex_flow": null,
            "grid_area": null,
            "grid_auto_columns": null,
            "grid_auto_flow": null,
            "grid_auto_rows": null,
            "grid_column": null,
            "grid_gap": null,
            "grid_row": null,
            "grid_template_areas": null,
            "grid_template_columns": null,
            "grid_template_rows": null,
            "height": null,
            "justify_content": null,
            "justify_items": null,
            "left": null,
            "margin": null,
            "max_height": null,
            "max_width": null,
            "min_height": null,
            "min_width": null,
            "object_fit": null,
            "object_position": null,
            "order": null,
            "overflow": null,
            "overflow_x": null,
            "overflow_y": null,
            "padding": null,
            "right": null,
            "top": null,
            "visibility": null,
            "width": null
          }
        },
        "84be8e23dd5644c8b3350b519df0044f": {
          "model_module": "@jupyter-widgets/base",
          "model_name": "LayoutModel",
          "model_module_version": "1.2.0",
          "state": {
            "_model_module": "@jupyter-widgets/base",
            "_model_module_version": "1.2.0",
            "_model_name": "LayoutModel",
            "_view_count": null,
            "_view_module": "@jupyter-widgets/base",
            "_view_module_version": "1.2.0",
            "_view_name": "LayoutView",
            "align_content": null,
            "align_items": null,
            "align_self": null,
            "border": null,
            "bottom": null,
            "display": null,
            "flex": null,
            "flex_flow": null,
            "grid_area": null,
            "grid_auto_columns": null,
            "grid_auto_flow": null,
            "grid_auto_rows": null,
            "grid_column": null,
            "grid_gap": null,
            "grid_row": null,
            "grid_template_areas": null,
            "grid_template_columns": null,
            "grid_template_rows": null,
            "height": null,
            "justify_content": null,
            "justify_items": null,
            "left": null,
            "margin": null,
            "max_height": null,
            "max_width": null,
            "min_height": null,
            "min_width": null,
            "object_fit": null,
            "object_position": null,
            "order": null,
            "overflow": null,
            "overflow_x": null,
            "overflow_y": null,
            "padding": null,
            "right": null,
            "top": null,
            "visibility": null,
            "width": null
          }
        },
        "97d4a3278eda47cabf25c3c3bb2e2f16": {
          "model_module": "@jupyter-widgets/controls",
          "model_name": "DescriptionStyleModel",
          "model_module_version": "1.5.0",
          "state": {
            "_model_module": "@jupyter-widgets/controls",
            "_model_module_version": "1.5.0",
            "_model_name": "DescriptionStyleModel",
            "_view_count": null,
            "_view_module": "@jupyter-widgets/base",
            "_view_module_version": "1.2.0",
            "_view_name": "StyleView",
            "description_width": ""
          }
        },
        "11d5dfec86814ababfc089409974b8b0": {
          "model_module": "@jupyter-widgets/base",
          "model_name": "LayoutModel",
          "model_module_version": "1.2.0",
          "state": {
            "_model_module": "@jupyter-widgets/base",
            "_model_module_version": "1.2.0",
            "_model_name": "LayoutModel",
            "_view_count": null,
            "_view_module": "@jupyter-widgets/base",
            "_view_module_version": "1.2.0",
            "_view_name": "LayoutView",
            "align_content": null,
            "align_items": null,
            "align_self": null,
            "border": null,
            "bottom": null,
            "display": null,
            "flex": null,
            "flex_flow": null,
            "grid_area": null,
            "grid_auto_columns": null,
            "grid_auto_flow": null,
            "grid_auto_rows": null,
            "grid_column": null,
            "grid_gap": null,
            "grid_row": null,
            "grid_template_areas": null,
            "grid_template_columns": null,
            "grid_template_rows": null,
            "height": null,
            "justify_content": null,
            "justify_items": null,
            "left": null,
            "margin": null,
            "max_height": null,
            "max_width": null,
            "min_height": null,
            "min_width": null,
            "object_fit": null,
            "object_position": null,
            "order": null,
            "overflow": null,
            "overflow_x": null,
            "overflow_y": null,
            "padding": null,
            "right": null,
            "top": null,
            "visibility": null,
            "width": null
          }
        },
        "45bfc13780fb4374b8c51022b3cb1937": {
          "model_module": "@jupyter-widgets/controls",
          "model_name": "ProgressStyleModel",
          "model_module_version": "1.5.0",
          "state": {
            "_model_module": "@jupyter-widgets/controls",
            "_model_module_version": "1.5.0",
            "_model_name": "ProgressStyleModel",
            "_view_count": null,
            "_view_module": "@jupyter-widgets/base",
            "_view_module_version": "1.2.0",
            "_view_name": "StyleView",
            "bar_color": null,
            "description_width": ""
          }
        },
        "7280fb1197a94926afa98d4e864abab5": {
          "model_module": "@jupyter-widgets/base",
          "model_name": "LayoutModel",
          "model_module_version": "1.2.0",
          "state": {
            "_model_module": "@jupyter-widgets/base",
            "_model_module_version": "1.2.0",
            "_model_name": "LayoutModel",
            "_view_count": null,
            "_view_module": "@jupyter-widgets/base",
            "_view_module_version": "1.2.0",
            "_view_name": "LayoutView",
            "align_content": null,
            "align_items": null,
            "align_self": null,
            "border": null,
            "bottom": null,
            "display": null,
            "flex": null,
            "flex_flow": null,
            "grid_area": null,
            "grid_auto_columns": null,
            "grid_auto_flow": null,
            "grid_auto_rows": null,
            "grid_column": null,
            "grid_gap": null,
            "grid_row": null,
            "grid_template_areas": null,
            "grid_template_columns": null,
            "grid_template_rows": null,
            "height": null,
            "justify_content": null,
            "justify_items": null,
            "left": null,
            "margin": null,
            "max_height": null,
            "max_width": null,
            "min_height": null,
            "min_width": null,
            "object_fit": null,
            "object_position": null,
            "order": null,
            "overflow": null,
            "overflow_x": null,
            "overflow_y": null,
            "padding": null,
            "right": null,
            "top": null,
            "visibility": null,
            "width": null
          }
        },
        "37ab9a87316046dfb3d60aab5b2ebafe": {
          "model_module": "@jupyter-widgets/controls",
          "model_name": "DescriptionStyleModel",
          "model_module_version": "1.5.0",
          "state": {
            "_model_module": "@jupyter-widgets/controls",
            "_model_module_version": "1.5.0",
            "_model_name": "DescriptionStyleModel",
            "_view_count": null,
            "_view_module": "@jupyter-widgets/base",
            "_view_module_version": "1.2.0",
            "_view_name": "StyleView",
            "description_width": ""
          }
        },
        "1748655eb08243d1b8ca2afb20fdd186": {
          "model_module": "@jupyter-widgets/controls",
          "model_name": "HBoxModel",
          "model_module_version": "1.5.0",
          "state": {
            "_dom_classes": [],
            "_model_module": "@jupyter-widgets/controls",
            "_model_module_version": "1.5.0",
            "_model_name": "HBoxModel",
            "_view_count": null,
            "_view_module": "@jupyter-widgets/controls",
            "_view_module_version": "1.5.0",
            "_view_name": "HBoxView",
            "box_style": "",
            "children": [
              "IPY_MODEL_7d5533ac06e1496eaa70743aa20544d8",
              "IPY_MODEL_2123f54c86c943a7a76bf40105af362f",
              "IPY_MODEL_9441479b8c38488ea9c0a9b4e668f57b"
            ],
            "layout": "IPY_MODEL_c4a3301b9d7149f9bdc4d01adf4b8666"
          }
        },
        "7d5533ac06e1496eaa70743aa20544d8": {
          "model_module": "@jupyter-widgets/controls",
          "model_name": "HTMLModel",
          "model_module_version": "1.5.0",
          "state": {
            "_dom_classes": [],
            "_model_module": "@jupyter-widgets/controls",
            "_model_module_version": "1.5.0",
            "_model_name": "HTMLModel",
            "_view_count": null,
            "_view_module": "@jupyter-widgets/controls",
            "_view_module_version": "1.5.0",
            "_view_name": "HTMLView",
            "description": "",
            "description_tooltip": null,
            "layout": "IPY_MODEL_555f7e9b71b041c19a1b7956263d7b4a",
            "placeholder": "​",
            "style": "IPY_MODEL_59a7ca814ef64bda9f248865cd1c8d51",
            "value": "special_tokens_map.json: 100%"
          }
        },
        "2123f54c86c943a7a76bf40105af362f": {
          "model_module": "@jupyter-widgets/controls",
          "model_name": "FloatProgressModel",
          "model_module_version": "1.5.0",
          "state": {
            "_dom_classes": [],
            "_model_module": "@jupyter-widgets/controls",
            "_model_module_version": "1.5.0",
            "_model_name": "FloatProgressModel",
            "_view_count": null,
            "_view_module": "@jupyter-widgets/controls",
            "_view_module_version": "1.5.0",
            "_view_name": "ProgressView",
            "bar_style": "success",
            "description": "",
            "description_tooltip": null,
            "layout": "IPY_MODEL_90039f67f64d497a85381ea2000d014e",
            "max": 112,
            "min": 0,
            "orientation": "horizontal",
            "style": "IPY_MODEL_7e1a81e3219f41309f858e4f364b262d",
            "value": 112
          }
        },
        "9441479b8c38488ea9c0a9b4e668f57b": {
          "model_module": "@jupyter-widgets/controls",
          "model_name": "HTMLModel",
          "model_module_version": "1.5.0",
          "state": {
            "_dom_classes": [],
            "_model_module": "@jupyter-widgets/controls",
            "_model_module_version": "1.5.0",
            "_model_name": "HTMLModel",
            "_view_count": null,
            "_view_module": "@jupyter-widgets/controls",
            "_view_module_version": "1.5.0",
            "_view_name": "HTMLView",
            "description": "",
            "description_tooltip": null,
            "layout": "IPY_MODEL_1d72c1decd604b4a9533508b1208f11d",
            "placeholder": "​",
            "style": "IPY_MODEL_3b2f0d2238c3497f96dbc9cb8fb951e3",
            "value": " 112/112 [00:00&lt;00:00, 12.8kB/s]"
          }
        },
        "c4a3301b9d7149f9bdc4d01adf4b8666": {
          "model_module": "@jupyter-widgets/base",
          "model_name": "LayoutModel",
          "model_module_version": "1.2.0",
          "state": {
            "_model_module": "@jupyter-widgets/base",
            "_model_module_version": "1.2.0",
            "_model_name": "LayoutModel",
            "_view_count": null,
            "_view_module": "@jupyter-widgets/base",
            "_view_module_version": "1.2.0",
            "_view_name": "LayoutView",
            "align_content": null,
            "align_items": null,
            "align_self": null,
            "border": null,
            "bottom": null,
            "display": null,
            "flex": null,
            "flex_flow": null,
            "grid_area": null,
            "grid_auto_columns": null,
            "grid_auto_flow": null,
            "grid_auto_rows": null,
            "grid_column": null,
            "grid_gap": null,
            "grid_row": null,
            "grid_template_areas": null,
            "grid_template_columns": null,
            "grid_template_rows": null,
            "height": null,
            "justify_content": null,
            "justify_items": null,
            "left": null,
            "margin": null,
            "max_height": null,
            "max_width": null,
            "min_height": null,
            "min_width": null,
            "object_fit": null,
            "object_position": null,
            "order": null,
            "overflow": null,
            "overflow_x": null,
            "overflow_y": null,
            "padding": null,
            "right": null,
            "top": null,
            "visibility": null,
            "width": null
          }
        },
        "555f7e9b71b041c19a1b7956263d7b4a": {
          "model_module": "@jupyter-widgets/base",
          "model_name": "LayoutModel",
          "model_module_version": "1.2.0",
          "state": {
            "_model_module": "@jupyter-widgets/base",
            "_model_module_version": "1.2.0",
            "_model_name": "LayoutModel",
            "_view_count": null,
            "_view_module": "@jupyter-widgets/base",
            "_view_module_version": "1.2.0",
            "_view_name": "LayoutView",
            "align_content": null,
            "align_items": null,
            "align_self": null,
            "border": null,
            "bottom": null,
            "display": null,
            "flex": null,
            "flex_flow": null,
            "grid_area": null,
            "grid_auto_columns": null,
            "grid_auto_flow": null,
            "grid_auto_rows": null,
            "grid_column": null,
            "grid_gap": null,
            "grid_row": null,
            "grid_template_areas": null,
            "grid_template_columns": null,
            "grid_template_rows": null,
            "height": null,
            "justify_content": null,
            "justify_items": null,
            "left": null,
            "margin": null,
            "max_height": null,
            "max_width": null,
            "min_height": null,
            "min_width": null,
            "object_fit": null,
            "object_position": null,
            "order": null,
            "overflow": null,
            "overflow_x": null,
            "overflow_y": null,
            "padding": null,
            "right": null,
            "top": null,
            "visibility": null,
            "width": null
          }
        },
        "59a7ca814ef64bda9f248865cd1c8d51": {
          "model_module": "@jupyter-widgets/controls",
          "model_name": "DescriptionStyleModel",
          "model_module_version": "1.5.0",
          "state": {
            "_model_module": "@jupyter-widgets/controls",
            "_model_module_version": "1.5.0",
            "_model_name": "DescriptionStyleModel",
            "_view_count": null,
            "_view_module": "@jupyter-widgets/base",
            "_view_module_version": "1.2.0",
            "_view_name": "StyleView",
            "description_width": ""
          }
        },
        "90039f67f64d497a85381ea2000d014e": {
          "model_module": "@jupyter-widgets/base",
          "model_name": "LayoutModel",
          "model_module_version": "1.2.0",
          "state": {
            "_model_module": "@jupyter-widgets/base",
            "_model_module_version": "1.2.0",
            "_model_name": "LayoutModel",
            "_view_count": null,
            "_view_module": "@jupyter-widgets/base",
            "_view_module_version": "1.2.0",
            "_view_name": "LayoutView",
            "align_content": null,
            "align_items": null,
            "align_self": null,
            "border": null,
            "bottom": null,
            "display": null,
            "flex": null,
            "flex_flow": null,
            "grid_area": null,
            "grid_auto_columns": null,
            "grid_auto_flow": null,
            "grid_auto_rows": null,
            "grid_column": null,
            "grid_gap": null,
            "grid_row": null,
            "grid_template_areas": null,
            "grid_template_columns": null,
            "grid_template_rows": null,
            "height": null,
            "justify_content": null,
            "justify_items": null,
            "left": null,
            "margin": null,
            "max_height": null,
            "max_width": null,
            "min_height": null,
            "min_width": null,
            "object_fit": null,
            "object_position": null,
            "order": null,
            "overflow": null,
            "overflow_x": null,
            "overflow_y": null,
            "padding": null,
            "right": null,
            "top": null,
            "visibility": null,
            "width": null
          }
        },
        "7e1a81e3219f41309f858e4f364b262d": {
          "model_module": "@jupyter-widgets/controls",
          "model_name": "ProgressStyleModel",
          "model_module_version": "1.5.0",
          "state": {
            "_model_module": "@jupyter-widgets/controls",
            "_model_module_version": "1.5.0",
            "_model_name": "ProgressStyleModel",
            "_view_count": null,
            "_view_module": "@jupyter-widgets/base",
            "_view_module_version": "1.2.0",
            "_view_name": "StyleView",
            "bar_color": null,
            "description_width": ""
          }
        },
        "1d72c1decd604b4a9533508b1208f11d": {
          "model_module": "@jupyter-widgets/base",
          "model_name": "LayoutModel",
          "model_module_version": "1.2.0",
          "state": {
            "_model_module": "@jupyter-widgets/base",
            "_model_module_version": "1.2.0",
            "_model_name": "LayoutModel",
            "_view_count": null,
            "_view_module": "@jupyter-widgets/base",
            "_view_module_version": "1.2.0",
            "_view_name": "LayoutView",
            "align_content": null,
            "align_items": null,
            "align_self": null,
            "border": null,
            "bottom": null,
            "display": null,
            "flex": null,
            "flex_flow": null,
            "grid_area": null,
            "grid_auto_columns": null,
            "grid_auto_flow": null,
            "grid_auto_rows": null,
            "grid_column": null,
            "grid_gap": null,
            "grid_row": null,
            "grid_template_areas": null,
            "grid_template_columns": null,
            "grid_template_rows": null,
            "height": null,
            "justify_content": null,
            "justify_items": null,
            "left": null,
            "margin": null,
            "max_height": null,
            "max_width": null,
            "min_height": null,
            "min_width": null,
            "object_fit": null,
            "object_position": null,
            "order": null,
            "overflow": null,
            "overflow_x": null,
            "overflow_y": null,
            "padding": null,
            "right": null,
            "top": null,
            "visibility": null,
            "width": null
          }
        },
        "3b2f0d2238c3497f96dbc9cb8fb951e3": {
          "model_module": "@jupyter-widgets/controls",
          "model_name": "DescriptionStyleModel",
          "model_module_version": "1.5.0",
          "state": {
            "_model_module": "@jupyter-widgets/controls",
            "_model_module_version": "1.5.0",
            "_model_name": "DescriptionStyleModel",
            "_view_count": null,
            "_view_module": "@jupyter-widgets/base",
            "_view_module_version": "1.2.0",
            "_view_name": "StyleView",
            "description_width": ""
          }
        },
        "ea6e7178de424997b02ce01413bba5b4": {
          "model_module": "@jupyter-widgets/controls",
          "model_name": "HBoxModel",
          "model_module_version": "1.5.0",
          "state": {
            "_dom_classes": [],
            "_model_module": "@jupyter-widgets/controls",
            "_model_module_version": "1.5.0",
            "_model_name": "HBoxModel",
            "_view_count": null,
            "_view_module": "@jupyter-widgets/controls",
            "_view_module_version": "1.5.0",
            "_view_name": "HBoxView",
            "box_style": "",
            "children": [
              "IPY_MODEL_017869eac9ed4d76b8d84e7c8bb80412",
              "IPY_MODEL_390330d9ad3748c2800eb2cd4c745db2",
              "IPY_MODEL_4a1989401bb445609835f40be20148ef"
            ],
            "layout": "IPY_MODEL_381ff52739ec411fb83dfc097e4c6c66"
          }
        },
        "017869eac9ed4d76b8d84e7c8bb80412": {
          "model_module": "@jupyter-widgets/controls",
          "model_name": "HTMLModel",
          "model_module_version": "1.5.0",
          "state": {
            "_dom_classes": [],
            "_model_module": "@jupyter-widgets/controls",
            "_model_module_version": "1.5.0",
            "_model_name": "HTMLModel",
            "_view_count": null,
            "_view_module": "@jupyter-widgets/controls",
            "_view_module_version": "1.5.0",
            "_view_name": "HTMLView",
            "description": "",
            "description_tooltip": null,
            "layout": "IPY_MODEL_61d038903a4844d4ba854ff192fc5a0d",
            "placeholder": "​",
            "style": "IPY_MODEL_8b8a0d50595f44b5a2b54ffb481fe396",
            "value": "config.json: 100%"
          }
        },
        "390330d9ad3748c2800eb2cd4c745db2": {
          "model_module": "@jupyter-widgets/controls",
          "model_name": "FloatProgressModel",
          "model_module_version": "1.5.0",
          "state": {
            "_dom_classes": [],
            "_model_module": "@jupyter-widgets/controls",
            "_model_module_version": "1.5.0",
            "_model_name": "FloatProgressModel",
            "_view_count": null,
            "_view_module": "@jupyter-widgets/controls",
            "_view_module_version": "1.5.0",
            "_view_name": "ProgressView",
            "bar_style": "success",
            "description": "",
            "description_tooltip": null,
            "layout": "IPY_MODEL_0dd7caf173674c1e937682c98b49767b",
            "max": 647,
            "min": 0,
            "orientation": "horizontal",
            "style": "IPY_MODEL_e57c9458ec0e4a2993f41e9187d540f6",
            "value": 647
          }
        },
        "4a1989401bb445609835f40be20148ef": {
          "model_module": "@jupyter-widgets/controls",
          "model_name": "HTMLModel",
          "model_module_version": "1.5.0",
          "state": {
            "_dom_classes": [],
            "_model_module": "@jupyter-widgets/controls",
            "_model_module_version": "1.5.0",
            "_model_name": "HTMLModel",
            "_view_count": null,
            "_view_module": "@jupyter-widgets/controls",
            "_view_module_version": "1.5.0",
            "_view_name": "HTMLView",
            "description": "",
            "description_tooltip": null,
            "layout": "IPY_MODEL_483ddef04e8247aa9674c4a4378b33d6",
            "placeholder": "​",
            "style": "IPY_MODEL_695e95ef2d774cdba14978ea6287b10b",
            "value": " 647/647 [00:00&lt;00:00, 49.7kB/s]"
          }
        },
        "381ff52739ec411fb83dfc097e4c6c66": {
          "model_module": "@jupyter-widgets/base",
          "model_name": "LayoutModel",
          "model_module_version": "1.2.0",
          "state": {
            "_model_module": "@jupyter-widgets/base",
            "_model_module_version": "1.2.0",
            "_model_name": "LayoutModel",
            "_view_count": null,
            "_view_module": "@jupyter-widgets/base",
            "_view_module_version": "1.2.0",
            "_view_name": "LayoutView",
            "align_content": null,
            "align_items": null,
            "align_self": null,
            "border": null,
            "bottom": null,
            "display": null,
            "flex": null,
            "flex_flow": null,
            "grid_area": null,
            "grid_auto_columns": null,
            "grid_auto_flow": null,
            "grid_auto_rows": null,
            "grid_column": null,
            "grid_gap": null,
            "grid_row": null,
            "grid_template_areas": null,
            "grid_template_columns": null,
            "grid_template_rows": null,
            "height": null,
            "justify_content": null,
            "justify_items": null,
            "left": null,
            "margin": null,
            "max_height": null,
            "max_width": null,
            "min_height": null,
            "min_width": null,
            "object_fit": null,
            "object_position": null,
            "order": null,
            "overflow": null,
            "overflow_x": null,
            "overflow_y": null,
            "padding": null,
            "right": null,
            "top": null,
            "visibility": null,
            "width": null
          }
        },
        "61d038903a4844d4ba854ff192fc5a0d": {
          "model_module": "@jupyter-widgets/base",
          "model_name": "LayoutModel",
          "model_module_version": "1.2.0",
          "state": {
            "_model_module": "@jupyter-widgets/base",
            "_model_module_version": "1.2.0",
            "_model_name": "LayoutModel",
            "_view_count": null,
            "_view_module": "@jupyter-widgets/base",
            "_view_module_version": "1.2.0",
            "_view_name": "LayoutView",
            "align_content": null,
            "align_items": null,
            "align_self": null,
            "border": null,
            "bottom": null,
            "display": null,
            "flex": null,
            "flex_flow": null,
            "grid_area": null,
            "grid_auto_columns": null,
            "grid_auto_flow": null,
            "grid_auto_rows": null,
            "grid_column": null,
            "grid_gap": null,
            "grid_row": null,
            "grid_template_areas": null,
            "grid_template_columns": null,
            "grid_template_rows": null,
            "height": null,
            "justify_content": null,
            "justify_items": null,
            "left": null,
            "margin": null,
            "max_height": null,
            "max_width": null,
            "min_height": null,
            "min_width": null,
            "object_fit": null,
            "object_position": null,
            "order": null,
            "overflow": null,
            "overflow_x": null,
            "overflow_y": null,
            "padding": null,
            "right": null,
            "top": null,
            "visibility": null,
            "width": null
          }
        },
        "8b8a0d50595f44b5a2b54ffb481fe396": {
          "model_module": "@jupyter-widgets/controls",
          "model_name": "DescriptionStyleModel",
          "model_module_version": "1.5.0",
          "state": {
            "_model_module": "@jupyter-widgets/controls",
            "_model_module_version": "1.5.0",
            "_model_name": "DescriptionStyleModel",
            "_view_count": null,
            "_view_module": "@jupyter-widgets/base",
            "_view_module_version": "1.2.0",
            "_view_name": "StyleView",
            "description_width": ""
          }
        },
        "0dd7caf173674c1e937682c98b49767b": {
          "model_module": "@jupyter-widgets/base",
          "model_name": "LayoutModel",
          "model_module_version": "1.2.0",
          "state": {
            "_model_module": "@jupyter-widgets/base",
            "_model_module_version": "1.2.0",
            "_model_name": "LayoutModel",
            "_view_count": null,
            "_view_module": "@jupyter-widgets/base",
            "_view_module_version": "1.2.0",
            "_view_name": "LayoutView",
            "align_content": null,
            "align_items": null,
            "align_self": null,
            "border": null,
            "bottom": null,
            "display": null,
            "flex": null,
            "flex_flow": null,
            "grid_area": null,
            "grid_auto_columns": null,
            "grid_auto_flow": null,
            "grid_auto_rows": null,
            "grid_column": null,
            "grid_gap": null,
            "grid_row": null,
            "grid_template_areas": null,
            "grid_template_columns": null,
            "grid_template_rows": null,
            "height": null,
            "justify_content": null,
            "justify_items": null,
            "left": null,
            "margin": null,
            "max_height": null,
            "max_width": null,
            "min_height": null,
            "min_width": null,
            "object_fit": null,
            "object_position": null,
            "order": null,
            "overflow": null,
            "overflow_x": null,
            "overflow_y": null,
            "padding": null,
            "right": null,
            "top": null,
            "visibility": null,
            "width": null
          }
        },
        "e57c9458ec0e4a2993f41e9187d540f6": {
          "model_module": "@jupyter-widgets/controls",
          "model_name": "ProgressStyleModel",
          "model_module_version": "1.5.0",
          "state": {
            "_model_module": "@jupyter-widgets/controls",
            "_model_module_version": "1.5.0",
            "_model_name": "ProgressStyleModel",
            "_view_count": null,
            "_view_module": "@jupyter-widgets/base",
            "_view_module_version": "1.2.0",
            "_view_name": "StyleView",
            "bar_color": null,
            "description_width": ""
          }
        },
        "483ddef04e8247aa9674c4a4378b33d6": {
          "model_module": "@jupyter-widgets/base",
          "model_name": "LayoutModel",
          "model_module_version": "1.2.0",
          "state": {
            "_model_module": "@jupyter-widgets/base",
            "_model_module_version": "1.2.0",
            "_model_name": "LayoutModel",
            "_view_count": null,
            "_view_module": "@jupyter-widgets/base",
            "_view_module_version": "1.2.0",
            "_view_name": "LayoutView",
            "align_content": null,
            "align_items": null,
            "align_self": null,
            "border": null,
            "bottom": null,
            "display": null,
            "flex": null,
            "flex_flow": null,
            "grid_area": null,
            "grid_auto_columns": null,
            "grid_auto_flow": null,
            "grid_auto_rows": null,
            "grid_column": null,
            "grid_gap": null,
            "grid_row": null,
            "grid_template_areas": null,
            "grid_template_columns": null,
            "grid_template_rows": null,
            "height": null,
            "justify_content": null,
            "justify_items": null,
            "left": null,
            "margin": null,
            "max_height": null,
            "max_width": null,
            "min_height": null,
            "min_width": null,
            "object_fit": null,
            "object_position": null,
            "order": null,
            "overflow": null,
            "overflow_x": null,
            "overflow_y": null,
            "padding": null,
            "right": null,
            "top": null,
            "visibility": null,
            "width": null
          }
        },
        "695e95ef2d774cdba14978ea6287b10b": {
          "model_module": "@jupyter-widgets/controls",
          "model_name": "DescriptionStyleModel",
          "model_module_version": "1.5.0",
          "state": {
            "_model_module": "@jupyter-widgets/controls",
            "_model_module_version": "1.5.0",
            "_model_name": "DescriptionStyleModel",
            "_view_count": null,
            "_view_module": "@jupyter-widgets/base",
            "_view_module_version": "1.2.0",
            "_view_name": "StyleView",
            "description_width": ""
          }
        }
      }
    }
  },
  "cells": [
    {
      "cell_type": "markdown",
      "source": [
        "##Importação do *dataset*"
      ],
      "metadata": {
        "id": "A96ACVVh3XDO"
      }
    },
    {
      "cell_type": "code",
      "execution_count": 100,
      "metadata": {
        "id": "Fw_Gx_jwW_er",
        "colab": {
          "base_uri": "https://localhost:8080/",
          "height": 423
        },
        "outputId": "c29ee502-2061-4804-e065-48a85c5b841e"
      },
      "outputs": [
        {
          "output_type": "execute_result",
          "data": {
            "text/plain": [
              "      index label                                  preprocessed_news\n",
              "0         0  fake  katia abreu diz vai colocar expulsao moldura n...\n",
              "1         1  fake  ray peita bolsonaro conservador fake entrevist...\n",
              "2         2  fake  reinaldo azevedo desmascarado policia federal ...\n",
              "3         3  fake  relatorio assustador bndes mostra dinheiro pub...\n",
              "4         4  fake  radialista americano fala sobre pt vendem ilus...\n",
              "...     ...   ...                                                ...\n",
              "7195   7195  true  jornal britanico acao contra lula lava jato se...\n",
              "7196   7196  true  temer diz acionou pf cade investigar aumentos ...\n",
              "7197   7197  true  obstaculos politicos temer especialistas ouvid...\n",
              "7198   7198  true  setembro boa noite aqui estao principais notic...\n",
              "7199   7199  true  envolvo politica diz brasileiro preso venezuel...\n",
              "\n",
              "[7200 rows x 3 columns]"
            ],
            "text/html": [
              "\n",
              "  <div id=\"df-27bfce46-e36f-4b76-b04c-df860efa3937\" class=\"colab-df-container\">\n",
              "    <div>\n",
              "<style scoped>\n",
              "    .dataframe tbody tr th:only-of-type {\n",
              "        vertical-align: middle;\n",
              "    }\n",
              "\n",
              "    .dataframe tbody tr th {\n",
              "        vertical-align: top;\n",
              "    }\n",
              "\n",
              "    .dataframe thead th {\n",
              "        text-align: right;\n",
              "    }\n",
              "</style>\n",
              "<table border=\"1\" class=\"dataframe\">\n",
              "  <thead>\n",
              "    <tr style=\"text-align: right;\">\n",
              "      <th></th>\n",
              "      <th>index</th>\n",
              "      <th>label</th>\n",
              "      <th>preprocessed_news</th>\n",
              "    </tr>\n",
              "  </thead>\n",
              "  <tbody>\n",
              "    <tr>\n",
              "      <th>0</th>\n",
              "      <td>0</td>\n",
              "      <td>fake</td>\n",
              "      <td>katia abreu diz vai colocar expulsao moldura n...</td>\n",
              "    </tr>\n",
              "    <tr>\n",
              "      <th>1</th>\n",
              "      <td>1</td>\n",
              "      <td>fake</td>\n",
              "      <td>ray peita bolsonaro conservador fake entrevist...</td>\n",
              "    </tr>\n",
              "    <tr>\n",
              "      <th>2</th>\n",
              "      <td>2</td>\n",
              "      <td>fake</td>\n",
              "      <td>reinaldo azevedo desmascarado policia federal ...</td>\n",
              "    </tr>\n",
              "    <tr>\n",
              "      <th>3</th>\n",
              "      <td>3</td>\n",
              "      <td>fake</td>\n",
              "      <td>relatorio assustador bndes mostra dinheiro pub...</td>\n",
              "    </tr>\n",
              "    <tr>\n",
              "      <th>4</th>\n",
              "      <td>4</td>\n",
              "      <td>fake</td>\n",
              "      <td>radialista americano fala sobre pt vendem ilus...</td>\n",
              "    </tr>\n",
              "    <tr>\n",
              "      <th>...</th>\n",
              "      <td>...</td>\n",
              "      <td>...</td>\n",
              "      <td>...</td>\n",
              "    </tr>\n",
              "    <tr>\n",
              "      <th>7195</th>\n",
              "      <td>7195</td>\n",
              "      <td>true</td>\n",
              "      <td>jornal britanico acao contra lula lava jato se...</td>\n",
              "    </tr>\n",
              "    <tr>\n",
              "      <th>7196</th>\n",
              "      <td>7196</td>\n",
              "      <td>true</td>\n",
              "      <td>temer diz acionou pf cade investigar aumentos ...</td>\n",
              "    </tr>\n",
              "    <tr>\n",
              "      <th>7197</th>\n",
              "      <td>7197</td>\n",
              "      <td>true</td>\n",
              "      <td>obstaculos politicos temer especialistas ouvid...</td>\n",
              "    </tr>\n",
              "    <tr>\n",
              "      <th>7198</th>\n",
              "      <td>7198</td>\n",
              "      <td>true</td>\n",
              "      <td>setembro boa noite aqui estao principais notic...</td>\n",
              "    </tr>\n",
              "    <tr>\n",
              "      <th>7199</th>\n",
              "      <td>7199</td>\n",
              "      <td>true</td>\n",
              "      <td>envolvo politica diz brasileiro preso venezuel...</td>\n",
              "    </tr>\n",
              "  </tbody>\n",
              "</table>\n",
              "<p>7200 rows × 3 columns</p>\n",
              "</div>\n",
              "    <div class=\"colab-df-buttons\">\n",
              "\n",
              "  <div class=\"colab-df-container\">\n",
              "    <button class=\"colab-df-convert\" onclick=\"convertToInteractive('df-27bfce46-e36f-4b76-b04c-df860efa3937')\"\n",
              "            title=\"Convert this dataframe to an interactive table.\"\n",
              "            style=\"display:none;\">\n",
              "\n",
              "  <svg xmlns=\"http://www.w3.org/2000/svg\" height=\"24px\" viewBox=\"0 -960 960 960\">\n",
              "    <path d=\"M120-120v-720h720v720H120Zm60-500h600v-160H180v160Zm220 220h160v-160H400v160Zm0 220h160v-160H400v160ZM180-400h160v-160H180v160Zm440 0h160v-160H620v160ZM180-180h160v-160H180v160Zm440 0h160v-160H620v160Z\"/>\n",
              "  </svg>\n",
              "    </button>\n",
              "\n",
              "  <style>\n",
              "    .colab-df-container {\n",
              "      display:flex;\n",
              "      gap: 12px;\n",
              "    }\n",
              "\n",
              "    .colab-df-convert {\n",
              "      background-color: #E8F0FE;\n",
              "      border: none;\n",
              "      border-radius: 50%;\n",
              "      cursor: pointer;\n",
              "      display: none;\n",
              "      fill: #1967D2;\n",
              "      height: 32px;\n",
              "      padding: 0 0 0 0;\n",
              "      width: 32px;\n",
              "    }\n",
              "\n",
              "    .colab-df-convert:hover {\n",
              "      background-color: #E2EBFA;\n",
              "      box-shadow: 0px 1px 2px rgba(60, 64, 67, 0.3), 0px 1px 3px 1px rgba(60, 64, 67, 0.15);\n",
              "      fill: #174EA6;\n",
              "    }\n",
              "\n",
              "    .colab-df-buttons div {\n",
              "      margin-bottom: 4px;\n",
              "    }\n",
              "\n",
              "    [theme=dark] .colab-df-convert {\n",
              "      background-color: #3B4455;\n",
              "      fill: #D2E3FC;\n",
              "    }\n",
              "\n",
              "    [theme=dark] .colab-df-convert:hover {\n",
              "      background-color: #434B5C;\n",
              "      box-shadow: 0px 1px 3px 1px rgba(0, 0, 0, 0.15);\n",
              "      filter: drop-shadow(0px 1px 2px rgba(0, 0, 0, 0.3));\n",
              "      fill: #FFFFFF;\n",
              "    }\n",
              "  </style>\n",
              "\n",
              "    <script>\n",
              "      const buttonEl =\n",
              "        document.querySelector('#df-27bfce46-e36f-4b76-b04c-df860efa3937 button.colab-df-convert');\n",
              "      buttonEl.style.display =\n",
              "        google.colab.kernel.accessAllowed ? 'block' : 'none';\n",
              "\n",
              "      async function convertToInteractive(key) {\n",
              "        const element = document.querySelector('#df-27bfce46-e36f-4b76-b04c-df860efa3937');\n",
              "        const dataTable =\n",
              "          await google.colab.kernel.invokeFunction('convertToInteractive',\n",
              "                                                    [key], {});\n",
              "        if (!dataTable) return;\n",
              "\n",
              "        const docLinkHtml = 'Like what you see? Visit the ' +\n",
              "          '<a target=\"_blank\" href=https://colab.research.google.com/notebooks/data_table.ipynb>data table notebook</a>'\n",
              "          + ' to learn more about interactive tables.';\n",
              "        element.innerHTML = '';\n",
              "        dataTable['output_type'] = 'display_data';\n",
              "        await google.colab.output.renderOutput(dataTable, element);\n",
              "        const docLink = document.createElement('div');\n",
              "        docLink.innerHTML = docLinkHtml;\n",
              "        element.appendChild(docLink);\n",
              "      }\n",
              "    </script>\n",
              "  </div>\n",
              "\n",
              "\n",
              "    <div id=\"df-28723d7d-b735-4979-8b0e-70d440fd4383\">\n",
              "      <button class=\"colab-df-quickchart\" onclick=\"quickchart('df-28723d7d-b735-4979-8b0e-70d440fd4383')\"\n",
              "                title=\"Suggest charts\"\n",
              "                style=\"display:none;\">\n",
              "\n",
              "<svg xmlns=\"http://www.w3.org/2000/svg\" height=\"24px\"viewBox=\"0 0 24 24\"\n",
              "     width=\"24px\">\n",
              "    <g>\n",
              "        <path d=\"M19 3H5c-1.1 0-2 .9-2 2v14c0 1.1.9 2 2 2h14c1.1 0 2-.9 2-2V5c0-1.1-.9-2-2-2zM9 17H7v-7h2v7zm4 0h-2V7h2v10zm4 0h-2v-4h2v4z\"/>\n",
              "    </g>\n",
              "</svg>\n",
              "      </button>\n",
              "\n",
              "<style>\n",
              "  .colab-df-quickchart {\n",
              "      --bg-color: #E8F0FE;\n",
              "      --fill-color: #1967D2;\n",
              "      --hover-bg-color: #E2EBFA;\n",
              "      --hover-fill-color: #174EA6;\n",
              "      --disabled-fill-color: #AAA;\n",
              "      --disabled-bg-color: #DDD;\n",
              "  }\n",
              "\n",
              "  [theme=dark] .colab-df-quickchart {\n",
              "      --bg-color: #3B4455;\n",
              "      --fill-color: #D2E3FC;\n",
              "      --hover-bg-color: #434B5C;\n",
              "      --hover-fill-color: #FFFFFF;\n",
              "      --disabled-bg-color: #3B4455;\n",
              "      --disabled-fill-color: #666;\n",
              "  }\n",
              "\n",
              "  .colab-df-quickchart {\n",
              "    background-color: var(--bg-color);\n",
              "    border: none;\n",
              "    border-radius: 50%;\n",
              "    cursor: pointer;\n",
              "    display: none;\n",
              "    fill: var(--fill-color);\n",
              "    height: 32px;\n",
              "    padding: 0;\n",
              "    width: 32px;\n",
              "  }\n",
              "\n",
              "  .colab-df-quickchart:hover {\n",
              "    background-color: var(--hover-bg-color);\n",
              "    box-shadow: 0 1px 2px rgba(60, 64, 67, 0.3), 0 1px 3px 1px rgba(60, 64, 67, 0.15);\n",
              "    fill: var(--button-hover-fill-color);\n",
              "  }\n",
              "\n",
              "  .colab-df-quickchart-complete:disabled,\n",
              "  .colab-df-quickchart-complete:disabled:hover {\n",
              "    background-color: var(--disabled-bg-color);\n",
              "    fill: var(--disabled-fill-color);\n",
              "    box-shadow: none;\n",
              "  }\n",
              "\n",
              "  .colab-df-spinner {\n",
              "    border: 2px solid var(--fill-color);\n",
              "    border-color: transparent;\n",
              "    border-bottom-color: var(--fill-color);\n",
              "    animation:\n",
              "      spin 1s steps(1) infinite;\n",
              "  }\n",
              "\n",
              "  @keyframes spin {\n",
              "    0% {\n",
              "      border-color: transparent;\n",
              "      border-bottom-color: var(--fill-color);\n",
              "      border-left-color: var(--fill-color);\n",
              "    }\n",
              "    20% {\n",
              "      border-color: transparent;\n",
              "      border-left-color: var(--fill-color);\n",
              "      border-top-color: var(--fill-color);\n",
              "    }\n",
              "    30% {\n",
              "      border-color: transparent;\n",
              "      border-left-color: var(--fill-color);\n",
              "      border-top-color: var(--fill-color);\n",
              "      border-right-color: var(--fill-color);\n",
              "    }\n",
              "    40% {\n",
              "      border-color: transparent;\n",
              "      border-right-color: var(--fill-color);\n",
              "      border-top-color: var(--fill-color);\n",
              "    }\n",
              "    60% {\n",
              "      border-color: transparent;\n",
              "      border-right-color: var(--fill-color);\n",
              "    }\n",
              "    80% {\n",
              "      border-color: transparent;\n",
              "      border-right-color: var(--fill-color);\n",
              "      border-bottom-color: var(--fill-color);\n",
              "    }\n",
              "    90% {\n",
              "      border-color: transparent;\n",
              "      border-bottom-color: var(--fill-color);\n",
              "    }\n",
              "  }\n",
              "</style>\n",
              "\n",
              "      <script>\n",
              "        async function quickchart(key) {\n",
              "          const quickchartButtonEl =\n",
              "            document.querySelector('#' + key + ' button');\n",
              "          quickchartButtonEl.disabled = true;  // To prevent multiple clicks.\n",
              "          quickchartButtonEl.classList.add('colab-df-spinner');\n",
              "          try {\n",
              "            const charts = await google.colab.kernel.invokeFunction(\n",
              "                'suggestCharts', [key], {});\n",
              "          } catch (error) {\n",
              "            console.error('Error during call to suggestCharts:', error);\n",
              "          }\n",
              "          quickchartButtonEl.classList.remove('colab-df-spinner');\n",
              "          quickchartButtonEl.classList.add('colab-df-quickchart-complete');\n",
              "        }\n",
              "        (() => {\n",
              "          let quickchartButtonEl =\n",
              "            document.querySelector('#df-28723d7d-b735-4979-8b0e-70d440fd4383 button');\n",
              "          quickchartButtonEl.style.display =\n",
              "            google.colab.kernel.accessAllowed ? 'block' : 'none';\n",
              "        })();\n",
              "      </script>\n",
              "    </div>\n",
              "\n",
              "  <div id=\"id_e0a06b4a-eba6-4041-b10e-4ee37ae17060\">\n",
              "    <style>\n",
              "      .colab-df-generate {\n",
              "        background-color: #E8F0FE;\n",
              "        border: none;\n",
              "        border-radius: 50%;\n",
              "        cursor: pointer;\n",
              "        display: none;\n",
              "        fill: #1967D2;\n",
              "        height: 32px;\n",
              "        padding: 0 0 0 0;\n",
              "        width: 32px;\n",
              "      }\n",
              "\n",
              "      .colab-df-generate:hover {\n",
              "        background-color: #E2EBFA;\n",
              "        box-shadow: 0px 1px 2px rgba(60, 64, 67, 0.3), 0px 1px 3px 1px rgba(60, 64, 67, 0.15);\n",
              "        fill: #174EA6;\n",
              "      }\n",
              "\n",
              "      [theme=dark] .colab-df-generate {\n",
              "        background-color: #3B4455;\n",
              "        fill: #D2E3FC;\n",
              "      }\n",
              "\n",
              "      [theme=dark] .colab-df-generate:hover {\n",
              "        background-color: #434B5C;\n",
              "        box-shadow: 0px 1px 3px 1px rgba(0, 0, 0, 0.15);\n",
              "        filter: drop-shadow(0px 1px 2px rgba(0, 0, 0, 0.3));\n",
              "        fill: #FFFFFF;\n",
              "      }\n",
              "    </style>\n",
              "    <button class=\"colab-df-generate\" onclick=\"generateWithVariable('dados')\"\n",
              "            title=\"Generate code using this dataframe.\"\n",
              "            style=\"display:none;\">\n",
              "\n",
              "  <svg xmlns=\"http://www.w3.org/2000/svg\" height=\"24px\"viewBox=\"0 0 24 24\"\n",
              "       width=\"24px\">\n",
              "    <path d=\"M7,19H8.4L18.45,9,17,7.55,7,17.6ZM5,21V16.75L18.45,3.32a2,2,0,0,1,2.83,0l1.4,1.43a1.91,1.91,0,0,1,.58,1.4,1.91,1.91,0,0,1-.58,1.4L9.25,21ZM18.45,9,17,7.55Zm-12,3A5.31,5.31,0,0,0,4.9,8.1,5.31,5.31,0,0,0,1,6.5,5.31,5.31,0,0,0,4.9,4.9,5.31,5.31,0,0,0,6.5,1,5.31,5.31,0,0,0,8.1,4.9,5.31,5.31,0,0,0,12,6.5,5.46,5.46,0,0,0,6.5,12Z\"/>\n",
              "  </svg>\n",
              "    </button>\n",
              "    <script>\n",
              "      (() => {\n",
              "      const buttonEl =\n",
              "        document.querySelector('#id_e0a06b4a-eba6-4041-b10e-4ee37ae17060 button.colab-df-generate');\n",
              "      buttonEl.style.display =\n",
              "        google.colab.kernel.accessAllowed ? 'block' : 'none';\n",
              "\n",
              "      buttonEl.onclick = () => {\n",
              "        google.colab.notebook.generateWithVariable('dados');\n",
              "      }\n",
              "      })();\n",
              "    </script>\n",
              "  </div>\n",
              "\n",
              "    </div>\n",
              "  </div>\n"
            ],
            "application/vnd.google.colaboratory.intrinsic+json": {
              "type": "dataframe",
              "variable_name": "dados",
              "summary": "{\n  \"name\": \"dados\",\n  \"rows\": 7200,\n  \"fields\": [\n    {\n      \"column\": \"index\",\n      \"properties\": {\n        \"dtype\": \"number\",\n        \"std\": 2078,\n        \"min\": 0,\n        \"max\": 7199,\n        \"num_unique_values\": 7200,\n        \"samples\": [\n          3098,\n          2531,\n          4071\n        ],\n        \"semantic_type\": \"\",\n        \"description\": \"\"\n      }\n    },\n    {\n      \"column\": \"label\",\n      \"properties\": {\n        \"dtype\": \"category\",\n        \"num_unique_values\": 2,\n        \"samples\": [\n          \"true\",\n          \"fake\"\n        ],\n        \"semantic_type\": \"\",\n        \"description\": \"\"\n      }\n    },\n    {\n      \"column\": \"preprocessed_news\",\n      \"properties\": {\n        \"dtype\": \"string\",\n        \"num_unique_values\": 7198,\n        \"samples\": [\n          \"setembro boa noite aqui estao principais noticias voce terminar dia esperado encontro lula juiz sergio moro ate nao prolongou tanto pouco momentos tensao dois protagonistas principal entanto ficou momento lula acusa antonio palocci mentir depoimento proprio moro manchetes hoje nao pararam ai wesley batista jbs tambem preso irmao janot segue investigacao temer decisao stf vi palocci mentir aqui depoimento sergio moro hoje curitiba lula chamou fazenda calculista frio disse palocci so citou nome reduzir alguns anos condenacao ouvido hoje audiencia acao acusado receber propina odebrecht compra imoveis confira detalhes depoimento decisao unanime x supremo tribunal federal rejeitou pedido defesa michel temer retirar procurador rodrigo janot investigacoes sobre presidente voto presidente stf carmen lucia disse ministerio publico continuara combate corrupcao apos saida janot pgr proximo domingo instituicoes sao importantes pessoas empresario wesley batista dono j f preso hoje sao paulo irmao joesley detido brasilia desde comeco semana comeco achar crime ter assinado acordo delacao republica disse wesley juiz entendimento policia federal descumprimento acordo delacao premiada rio anthony garotinho pr preso apresentava programa radio ancora radio tupi garotinho condenado comandar esquema fraude eleitoral secretario governo campos pena transformada prisao domiciliar medidas cautelares pesquisa feita pessoas anos aponta jovens nesta faixa etaria nao emprego geracao preparada informada educada historia desempregada disse roberto meir ceo grupo responsavel pesquisa acordo ibge desemprego ficou julho atingindo milhoes pessoas voltou valer sao paulo resolucao limita investigacao policia civil mortes causadas policiais militares decisao tribunal justica derrubou liminar impedia norma colocada pratica medida policiais militares podem apreender todos objetos relacao apuracao homicidios praticado pms fotos morador jundiai sp apareceram perfil falso facebook segundo jornal americano the new york times usadas divulgar conteudo militares russos prejudicar candidatura hillary clinton derrotada donald trump fiquei assustado avisei namorada dar olhada porque nao entendo redes sociais disse charles costacurta veja detalhes montou mesa redonda direito melhores bordoes analises futebolisticas falar rock in rio comeca nesta sexta video mostra substituicoes escalacoes bandas mapa calor cavalinhos banda pedindo musica outras comparacoes festival futebol rosaly lopes astronoma brasileira saiu pais anos hoje ajuda nasa explorar luas saturno rosaly lopes participa missao cassini agencia espacial termina nesta sexta queria ser astronauta crianca descobri cedo sendo menina brasileira miope nao ia conseguir leia entrevista hoje programa especial sobre maior salao automovel mundo reporter andre paixao falou direto frankfurt jornalista luiza tenente destacou carros roubaram cena evento confira top vote preferido\",\n          \"deu louca comunistas deputados pt perdem controle comissao impeachment assistindo comissao impeachment sendo transmitida vivo globo news assusto agressividade deputada jandira feghali patricia carvalho pt desestruturado deputados petralhas fazem parte comissao estao agressivos henrique fontana ja ficando roxo tanto berrar deputada comunista jandira feghali mulher envergonha classe jandira nao representa mulher grossa mal educada agressiva despeitada nao aceita derrota jandira medica fico pensando modo atendia pacientes sabe possa dar socorro henrique fontana homem roxo\"\n        ],\n        \"semantic_type\": \"\",\n        \"description\": \"\"\n      }\n    }\n  ]\n}"
            }
          },
          "metadata": {},
          "execution_count": 100
        }
      ],
      "source": [
        "import pandas as pd\n",
        "\n",
        "dados = pd.read_csv('pre-processed.csv')\n",
        "\n",
        "#separação dos dados:\n",
        "X = dados['preprocessed_news']\n",
        "y = dados['label']\n",
        "dados"
      ]
    },
    {
      "cell_type": "markdown",
      "source": [
        "##Visualização da distribuição de classes no *dataset*"
      ],
      "metadata": {
        "id": "BHacvvpW3iHs"
      }
    },
    {
      "cell_type": "code",
      "source": [
        "import seaborn as sns\n",
        "import matplotlib.pyplot as plt\n",
        "import numpy as np\n",
        "\n",
        "plt.figure(figsize=(6,4))\n",
        "sns.countplot(x=y, hue=y, palette='pastel', legend=False)\n",
        "plt.title(\"Distribuição das Classes\")\n",
        "plt.xlabel(\"Label\")\n",
        "plt.ylabel(\"Quantidade\")\n",
        "plt.yticks(np.arange(0, 3601, 400))\n",
        "plt.show()"
      ],
      "metadata": {
        "colab": {
          "base_uri": "https://localhost:8080/",
          "height": 410
        },
        "id": "Hb8YX2UVX_J0",
        "outputId": "ae338f2d-ff8b-4c2a-95e8-822ca9af2568"
      },
      "execution_count": 101,
      "outputs": [
        {
          "output_type": "display_data",
          "data": {
            "text/plain": [
              "<Figure size 600x400 with 1 Axes>"
            ],
            "image/png": "[encoded data removed]"
          },
          "metadata": {}
        }
      ]
    },
    {
      "cell_type": "markdown",
      "source": [
        "##Bibliotecas usadas:"
      ],
      "metadata": {
        "id": "p_944n4y30V1"
      }
    },
    {
      "cell_type": "code",
      "source": [
        "from sklearn.model_selection import train_test_split\n",
        "from sklearn.naive_bayes import MultinomialNB\n",
        "from sklearn.neighbors import KNeighborsClassifier\n",
        "from sklearn.feature_extraction.text import CountVectorizer, TfidfVectorizer\n",
        "from sklearn.naive_bayes import MultinomialNB # naive_bayes\n",
        "from sklearn.svm import LinearSVC # SVM\n",
        "from sklearn.metrics import accuracy_score, confusion_matrix\n",
        "import time # tempo de execução dos algoritmos"
      ],
      "metadata": {
        "id": "0LclC8_d3xXo"
      },
      "execution_count": 102,
      "outputs": []
    },
    {
      "cell_type": "markdown",
      "source": [
        "##Separação dos dados aleatoriamente, sendo 70% para treino e 30% para teste:"
      ],
      "metadata": {
        "id": "A3qQar7n4BNP"
      }
    },
    {
      "cell_type": "code",
      "source": [
        "X_train, X_test, y_train, y_test = train_test_split(X, y, test_size=0.3, random_state=13) #30% para teste"
      ],
      "metadata": {
        "id": "M6x1kb1G4Mgg"
      },
      "execution_count": 103,
      "outputs": []
    },
    {
      "cell_type": "markdown",
      "source": [
        "#1. K-nearest neighbors (KNN):"
      ],
      "metadata": {
        "id": "I52cCSj_JCkT"
      }
    },
    {
      "cell_type": "code",
      "source": [
        "print(\"========= K-nearest neighbors (KNN) =========\")"
      ],
      "metadata": {
        "colab": {
          "base_uri": "https://localhost:8080/"
        },
        "id": "iFioM0L9JTxQ",
        "outputId": "786baa4c-328b-4a06-d0a5-11e0967eaa75"
      },
      "execution_count": 104,
      "outputs": [
        {
          "output_type": "stream",
          "name": "stdout",
          "text": [
            "========= K-nearest neighbors (KNN) =========\n"
          ]
        }
      ]
    },
    {
      "cell_type": "markdown",
      "source": [
        "## - Vetorização usada: *Bag-of-words*\n",
        "\n"
      ],
      "metadata": {
        "id": "d1BGmmPmKe-W"
      }
    },
    {
      "cell_type": "code",
      "source": [
        "# usando bag of words\n",
        "bag_vetor = CountVectorizer()\n",
        "X_train_bag = bag_vetor.fit_transform(X_train)\n",
        "X_test_bag = bag_vetor.transform(X_test)"
      ],
      "metadata": {
        "id": "Zxm-FpBiKat4"
      },
      "execution_count": 105,
      "outputs": []
    },
    {
      "cell_type": "markdown",
      "source": [
        "Treino:"
      ],
      "metadata": {
        "id": "PCjE_LBlLDMr"
      }
    },
    {
      "cell_type": "code",
      "source": [
        "start = time.time() #tempo do treino\n",
        "knn_bag = KNeighborsClassifier(n_neighbors=3)\n",
        "knn_bag.fit(X_train_bag, y_train)\n",
        "treino_knn_bow = time.time() - start #tempo do treino"
      ],
      "metadata": {
        "id": "ES2KdxvlLAqv"
      },
      "execution_count": 106,
      "outputs": []
    },
    {
      "cell_type": "markdown",
      "source": [
        "Teste (Predição):"
      ],
      "metadata": {
        "id": "vRa3PIKbLJ88"
      }
    },
    {
      "cell_type": "code",
      "source": [
        "start = time.time() #tempo do teste\n",
        "y_pred_bag = knn_bag.predict(X_test_bag)\n",
        "teste_knn_bow = time.time() - start #tempo do teste"
      ],
      "metadata": {
        "id": "lSUcUJ_vLLuI"
      },
      "execution_count": 107,
      "outputs": []
    },
    {
      "cell_type": "markdown",
      "source": [
        "Acurácia:"
      ],
      "metadata": {
        "id": "b9ZIxTngLUz_"
      }
    },
    {
      "cell_type": "code",
      "source": [
        "#calcular acuracia:\n",
        "acuracia_knn_bow = accuracy_score(y_test, y_pred_bag)\n",
        "print(\"Acurácia do KNN usando bag-of-words:\", acuracia_knn_bow)"
      ],
      "metadata": {
        "colab": {
          "base_uri": "https://localhost:8080/"
        },
        "id": "xf1edhhULbh-",
        "outputId": "e9e2906e-9cac-4ab0-d4ba-f4b0d76ddba7"
      },
      "execution_count": 108,
      "outputs": [
        {
          "output_type": "stream",
          "name": "stdout",
          "text": [
            "Acurácia do KNN usando bag-of-words: 0.7046296296296296\n"
          ]
        }
      ]
    },
    {
      "cell_type": "markdown",
      "source": [
        "Matriz de confusão:"
      ],
      "metadata": {
        "id": "JscKT8P0LkCS"
      }
    },
    {
      "cell_type": "code",
      "source": [
        "#matriz de confusão\n",
        "mc_bag = confusion_matrix(y_test, y_pred_bag, labels=knn_bag.classes_)\n",
        "sns.heatmap(mc_bag, annot=True, fmt=\"d\", xticklabels=knn_bag.classes_, yticklabels=knn_bag.classes_)\n",
        "plt.title(\"Matriz de Confusão do KNN - Bag-of-Words\")\n",
        "plt.xlabel(\"Valores previstos\")\n",
        "plt.ylabel(\"Valores reais\")\n",
        "plt.show()"
      ],
      "metadata": {
        "colab": {
          "base_uri": "https://localhost:8080/",
          "height": 472
        },
        "id": "0uDC3_r4LmAu",
        "outputId": "c64a06bd-33e1-4a06-9656-7f164e9ae90b"
      },
      "execution_count": 109,
      "outputs": [
        {
          "output_type": "display_data",
          "data": {
            "text/plain": [
              "<Figure size 640x480 with 2 Axes>"
            ],
            "image/png": "[encoded data removed]"
          },
          "metadata": {}
        }
      ]
    },
    {
      "cell_type": "markdown",
      "source": [
        "## - Vetorização usada: TF-IDF"
      ],
      "metadata": {
        "id": "Xo6_A5XkL1cp"
      }
    },
    {
      "cell_type": "code",
      "source": [
        "#usando TF-IDF\n",
        "tfidf_vetor = TfidfVectorizer()\n",
        "X_train_tfidf = tfidf_vetor.fit_transform(X_train)\n",
        "X_test_tfidf = tfidf_vetor.transform(X_test)"
      ],
      "metadata": {
        "id": "Bs05t0ovL6Y9"
      },
      "execution_count": 110,
      "outputs": []
    },
    {
      "cell_type": "markdown",
      "source": [
        "Treino:"
      ],
      "metadata": {
        "id": "4aEoOkamMJER"
      }
    },
    {
      "cell_type": "code",
      "source": [
        "start = time.time() #tempo do treino\n",
        "knn_tfidf = KNeighborsClassifier(n_neighbors=3)\n",
        "knn_tfidf.fit(X_train_tfidf, y_train)\n",
        "treino_knn_tfidf = time.time() - start #tempo do treino"
      ],
      "metadata": {
        "id": "GPuW_K_OMLob"
      },
      "execution_count": 111,
      "outputs": []
    },
    {
      "cell_type": "markdown",
      "source": [
        "Teste:"
      ],
      "metadata": {
        "id": "YMtfnhXUMPxr"
      }
    },
    {
      "cell_type": "code",
      "source": [
        "start = time.time() #tempo do teste\n",
        "y_pred_tfidf = knn_tfidf.predict(X_test_tfidf)\n",
        "teste_knn_tfidf = time.time() - start #tempo do teste"
      ],
      "metadata": {
        "id": "P-nWOPf5MQ27"
      },
      "execution_count": 112,
      "outputs": []
    },
    {
      "cell_type": "markdown",
      "source": [
        "Acurácia:"
      ],
      "metadata": {
        "id": "5QzxJdAGMToz"
      }
    },
    {
      "cell_type": "code",
      "source": [
        "#calcular acuracia:\n",
        "acuracia_knn_tfidf = accuracy_score(y_test, y_pred_tfidf)\n",
        "print(\"Acurácia do KNN usando TF-IDF:\", acuracia_knn_tfidf)"
      ],
      "metadata": {
        "colab": {
          "base_uri": "https://localhost:8080/"
        },
        "id": "nOU80pBUMVNe",
        "outputId": "83096058-b7e3-46c4-a01a-396654af566b"
      },
      "execution_count": 113,
      "outputs": [
        {
          "output_type": "stream",
          "name": "stdout",
          "text": [
            "Acurácia do KNN usando TF-IDF: 0.6893518518518519\n"
          ]
        }
      ]
    },
    {
      "cell_type": "markdown",
      "source": [
        "Matriz de confusão:"
      ],
      "metadata": {
        "id": "Drk-uHuUMYuM"
      }
    },
    {
      "cell_type": "code",
      "source": [
        "#matriz de confusão\n",
        "mc_tfidf = confusion_matrix(y_test, y_pred_tfidf, labels=knn_tfidf.classes_)\n",
        "sns.heatmap(mc_tfidf, annot=True, fmt=\"d\", xticklabels=knn_tfidf.classes_, yticklabels=knn_tfidf.classes_)\n",
        "plt.title(\"Matriz de Confusão do KNN - TF-IDF\")\n",
        "plt.xlabel(\"Valores previstos\")\n",
        "plt.ylabel(\"Valores reais\")\n",
        "plt.show()"
      ],
      "metadata": {
        "colab": {
          "base_uri": "https://localhost:8080/",
          "height": 472
        },
        "id": "lFe62S23Maue",
        "outputId": "19aebf35-40bc-4342-fbff-093e7c4726e4"
      },
      "execution_count": 114,
      "outputs": [
        {
          "output_type": "display_data",
          "data": {
            "text/plain": [
              "<Figure size 640x480 with 2 Axes>"
            ],
            "image/png": "[encoded data removed]"
          },
          "metadata": {}
        }
      ]
    },
    {
      "cell_type": "markdown",
      "source": [
        "#2. Naive Bayes:"
      ],
      "metadata": {
        "id": "iL2LAZwiMdp9"
      }
    },
    {
      "cell_type": "code",
      "source": [
        "print(\"============= Naive Bayes =============\")"
      ],
      "metadata": {
        "colab": {
          "base_uri": "https://localhost:8080/"
        },
        "id": "GtvyC1DvMjUs",
        "outputId": "bda6d403-c7e4-4e31-ced0-7db053898eb3"
      },
      "execution_count": 115,
      "outputs": [
        {
          "output_type": "stream",
          "name": "stdout",
          "text": [
            "============= Naive Bayes =============\n"
          ]
        }
      ]
    },
    {
      "cell_type": "markdown",
      "source": [
        "## - Vetorização usada: *Bag-of-words*"
      ],
      "metadata": {
        "id": "K34i7C5nMsVr"
      }
    },
    {
      "cell_type": "code",
      "source": [
        "# usando bag of words\n",
        "bag_vetor = CountVectorizer()\n",
        "X_train_bag = bag_vetor.fit_transform(X_train)\n",
        "X_test_bag = bag_vetor.transform(X_test)"
      ],
      "metadata": {
        "id": "FwQR-aGWMxK8"
      },
      "execution_count": 116,
      "outputs": []
    },
    {
      "cell_type": "markdown",
      "source": [
        "Treino:"
      ],
      "metadata": {
        "id": "5sXxvBeeM00i"
      }
    },
    {
      "cell_type": "code",
      "source": [
        "start = time.time() #tempo de treino\n",
        "nb_bag = MultinomialNB()\n",
        "nb_bag.fit(X_train_bag, y_train)\n",
        "treino_nb_bow = time.time() - start #tempo do treino"
      ],
      "metadata": {
        "id": "tXmYCdz2M1yc"
      },
      "execution_count": 117,
      "outputs": []
    },
    {
      "cell_type": "markdown",
      "source": [
        "Teste:"
      ],
      "metadata": {
        "id": "NQ4uE4_aM3wR"
      }
    },
    {
      "cell_type": "code",
      "source": [
        "start = time.time() #tempo do teste\n",
        "y_pred_bag = nb_bag.predict(X_test_bag)\n",
        "teste_nb_bow = time.time() - start #tempo do teste"
      ],
      "metadata": {
        "id": "UpTZAeImM4s0"
      },
      "execution_count": 118,
      "outputs": []
    },
    {
      "cell_type": "markdown",
      "source": [
        "Acurácia:"
      ],
      "metadata": {
        "id": "hqNpnJBaM7M3"
      }
    },
    {
      "cell_type": "code",
      "source": [
        "#calcular acuracia:\n",
        "acuracia_nb_bow = accuracy_score(y_test, y_pred_bag)\n",
        "print(\"Acurácia do Naive Bayes usando bag-of-words:\", acuracia_nb_bow)"
      ],
      "metadata": {
        "colab": {
          "base_uri": "https://localhost:8080/"
        },
        "id": "IZ64XyKOM8Kf",
        "outputId": "80ca0688-0bc2-440b-95a6-04ab11bbfea2"
      },
      "execution_count": 119,
      "outputs": [
        {
          "output_type": "stream",
          "name": "stdout",
          "text": [
            "Acurácia do Naive Bayes usando bag-of-words: 0.8199074074074074\n"
          ]
        }
      ]
    },
    {
      "cell_type": "markdown",
      "source": [
        "Matriz de confusão:"
      ],
      "metadata": {
        "id": "gxzaOb44NBI7"
      }
    },
    {
      "cell_type": "code",
      "source": [
        "#matriz de confusão\n",
        "mc_bag = confusion_matrix(y_test, y_pred_bag, labels=nb_bag.classes_)\n",
        "sns.heatmap(mc_bag, annot=True, fmt=\"d\", xticklabels=nb_bag.classes_, yticklabels=nb_bag.classes_)\n",
        "plt.title(\"Matriz de Confusão do Naive Bayes - Bag-of-Words\")\n",
        "plt.xlabel(\"Valores previstos\")\n",
        "plt.ylabel(\"Valores reais\")\n",
        "plt.show()"
      ],
      "metadata": {
        "colab": {
          "base_uri": "https://localhost:8080/",
          "height": 472
        },
        "id": "DQUeWRfHNDj7",
        "outputId": "40035265-b53a-4d09-e896-a5c6ebc51b49"
      },
      "execution_count": 120,
      "outputs": [
        {
          "output_type": "display_data",
          "data": {
            "text/plain": [
              "<Figure size 640x480 with 2 Axes>"
            ],
            "image/png": "[encoded data removed]"
          },
          "metadata": {}
        }
      ]
    },
    {
      "cell_type": "markdown",
      "source": [
        "## - Vetorização usada: TF-IDF"
      ],
      "metadata": {
        "id": "5O-eDw7fNMWh"
      }
    },
    {
      "cell_type": "code",
      "source": [
        "#usando TF-IDF\n",
        "tfidf_vetor = TfidfVectorizer()\n",
        "X_train_tfidf = tfidf_vetor.fit_transform(X_train)\n",
        "X_test_tfidf = tfidf_vetor.transform(X_test)"
      ],
      "metadata": {
        "id": "Y4wZbCwUNQKP"
      },
      "execution_count": 121,
      "outputs": []
    },
    {
      "cell_type": "markdown",
      "source": [
        "Treino:"
      ],
      "metadata": {
        "id": "zd2yx8ZyNVeI"
      }
    },
    {
      "cell_type": "code",
      "source": [
        "start = time.time() #tempo de treino\n",
        "nb_tfidf = MultinomialNB()\n",
        "nb_tfidf.fit(X_train_tfidf, y_train)\n",
        "treino_nb_tfidf = time.time() - start #tempo do treino"
      ],
      "metadata": {
        "id": "Tto412VPNWfI"
      },
      "execution_count": 122,
      "outputs": []
    },
    {
      "cell_type": "markdown",
      "source": [
        "Teste:"
      ],
      "metadata": {
        "id": "rmLyMc9WNZLj"
      }
    },
    {
      "cell_type": "code",
      "source": [
        "start = time.time() #tempo de teste\n",
        "y_pred_tfidf = nb_tfidf.predict(X_test_tfidf)\n",
        "teste_nb_tfidf = time.time() - start #tempo do teste"
      ],
      "metadata": {
        "id": "VmLrV5PGNZ-W"
      },
      "execution_count": 123,
      "outputs": []
    },
    {
      "cell_type": "markdown",
      "source": [
        "Acurácia:"
      ],
      "metadata": {
        "id": "RJ4RGrPjNbhd"
      }
    },
    {
      "cell_type": "code",
      "source": [
        "#calcular acuracia:\n",
        "acuracia_nb_tfidf = accuracy_score(y_test, y_pred_tfidf)\n",
        "print(\"Acurácia do Naive Bayes usando TF-IDF:\", acuracia_nb_tfidf)"
      ],
      "metadata": {
        "colab": {
          "base_uri": "https://localhost:8080/"
        },
        "id": "dKJN5-bwNcck",
        "outputId": "8b745c6e-b42d-4323-d538-f39713da5faf"
      },
      "execution_count": 124,
      "outputs": [
        {
          "output_type": "stream",
          "name": "stdout",
          "text": [
            "Acurácia do Naive Bayes usando TF-IDF: 0.5925925925925926\n"
          ]
        }
      ]
    },
    {
      "cell_type": "markdown",
      "source": [
        "Matriz de confusão:"
      ],
      "metadata": {
        "id": "V0GU4pEFNf5T"
      }
    },
    {
      "cell_type": "code",
      "source": [
        "#matriz de confusão\n",
        "mc_tfidf = confusion_matrix(y_test, y_pred_tfidf, labels=nb_tfidf.classes_)\n",
        "sns.heatmap(mc_tfidf, annot=True, fmt=\"d\", xticklabels=nb_tfidf.classes_, yticklabels=nb_tfidf.classes_)\n",
        "plt.title(\"Matriz de Confusão do Naive Bayes - TF-IDF\")\n",
        "plt.xlabel(\"Valores previstos\")\n",
        "plt.ylabel(\"Valores reais\")\n",
        "plt.show()"
      ],
      "metadata": {
        "colab": {
          "base_uri": "https://localhost:8080/",
          "height": 472
        },
        "id": "-E649kUoNfcy",
        "outputId": "f4e7dbfe-1903-408d-feee-d1ca2906c2a8"
      },
      "execution_count": 125,
      "outputs": [
        {
          "output_type": "display_data",
          "data": {
            "text/plain": [
              "<Figure size 640x480 with 2 Axes>"
            ],
            "image/png": "[encoded data removed]"
          },
          "metadata": {}
        }
      ]
    },
    {
      "cell_type": "markdown",
      "source": [
        "#3. Support Vector Machine (SVM)"
      ],
      "metadata": {
        "id": "DOj5N7xcNl3Q"
      }
    },
    {
      "cell_type": "code",
      "source": [
        "print(\"============= SVM =============\")"
      ],
      "metadata": {
        "colab": {
          "base_uri": "https://localhost:8080/"
        },
        "id": "qqyQz_sdN0JB",
        "outputId": "4526c82d-e7d0-441f-c39c-721b42c3e85d"
      },
      "execution_count": 126,
      "outputs": [
        {
          "output_type": "stream",
          "name": "stdout",
          "text": [
            "============= SVM =============\n"
          ]
        }
      ]
    },
    {
      "cell_type": "markdown",
      "source": [
        "## - Vetorização usada: *Bag-of-words*"
      ],
      "metadata": {
        "id": "x6P384atNuL-"
      }
    },
    {
      "cell_type": "code",
      "source": [
        "# usando bag of words\n",
        "bag_vetor = CountVectorizer()\n",
        "X_train_bag = bag_vetor.fit_transform(X_train)\n",
        "X_test_bag = bag_vetor.transform(X_test)"
      ],
      "metadata": {
        "id": "gPvQ0MWqNzED"
      },
      "execution_count": 127,
      "outputs": []
    },
    {
      "cell_type": "markdown",
      "source": [
        "Treino:"
      ],
      "metadata": {
        "id": "2mUItzRjOBwO"
      }
    },
    {
      "cell_type": "code",
      "source": [
        "start = time.time() #tempo do treino\n",
        "svm_bag = LinearSVC()\n",
        "svm_bag.fit(X_train_bag, y_train)\n",
        "treino_svm_bow = time.time() - start #tempo do treino"
      ],
      "metadata": {
        "id": "Y6eDzTk4OC_T"
      },
      "execution_count": 128,
      "outputs": []
    },
    {
      "cell_type": "markdown",
      "source": [
        "Teste:"
      ],
      "metadata": {
        "id": "iyV5AxwnOGlF"
      }
    },
    {
      "cell_type": "code",
      "source": [
        "start = time.time() #tempo do teste\n",
        "y_pred_bag = svm_bag.predict(X_test_bag)\n",
        "teste_svm_bow = time.time() - start #tempo do teste"
      ],
      "metadata": {
        "id": "JuS6bZZBOHgV"
      },
      "execution_count": 129,
      "outputs": []
    },
    {
      "cell_type": "markdown",
      "source": [
        "Acurácia:"
      ],
      "metadata": {
        "id": "598VTKNMOKAt"
      }
    },
    {
      "cell_type": "code",
      "source": [
        "#calcular acuracia:\n",
        "acuracia_svm_bow = accuracy_score(y_test, y_pred_bag)\n",
        "print(\"Acurácia do SVM usando bag-of-words:\", acuracia_svm_bow)"
      ],
      "metadata": {
        "colab": {
          "base_uri": "https://localhost:8080/"
        },
        "id": "w1GYxkgOOLHn",
        "outputId": "dfead8b7-bd22-47a5-8d6b-6c9d61309d6d"
      },
      "execution_count": 130,
      "outputs": [
        {
          "output_type": "stream",
          "name": "stdout",
          "text": [
            "Acurácia do SVM usando bag-of-words: 0.9574074074074074\n"
          ]
        }
      ]
    },
    {
      "cell_type": "markdown",
      "source": [
        "Matriz de confusão:"
      ],
      "metadata": {
        "id": "YwTgPVv5OQGU"
      }
    },
    {
      "cell_type": "code",
      "source": [
        "#matriz de confusão\n",
        "mc_bag = confusion_matrix(y_test, y_pred_bag, labels=svm_bag.classes_)\n",
        "sns.heatmap(mc_bag, annot=True, fmt=\"d\", xticklabels=svm_bag.classes_, yticklabels=svm_bag.classes_)\n",
        "plt.title(\"Matriz de Confusão do SVM - Bag-of-Words\")\n",
        "plt.xlabel(\"Valores previstos\")\n",
        "plt.ylabel(\"Valores reais\")\n",
        "plt.show()"
      ],
      "metadata": {
        "colab": {
          "base_uri": "https://localhost:8080/",
          "height": 472
        },
        "id": "vfLMNLHrORx6",
        "outputId": "de30e604-363f-4c87-8c4e-04e7af02b568"
      },
      "execution_count": 131,
      "outputs": [
        {
          "output_type": "display_data",
          "data": {
            "text/plain": [
              "<Figure size 640x480 with 2 Axes>"
            ],
            "image/png": "[encoded data removed]"
          },
          "metadata": {}
        }
      ]
    },
    {
      "cell_type": "markdown",
      "source": [
        "## - Vetorização usada: TF-IDF"
      ],
      "metadata": {
        "id": "Tv4M1U8zOmI0"
      }
    },
    {
      "cell_type": "code",
      "source": [
        "#usando TF-IDF\n",
        "tfidf_vetor = TfidfVectorizer()\n",
        "X_train_tfidf = tfidf_vetor.fit_transform(X_train)\n",
        "X_test_tfidf = tfidf_vetor.transform(X_test)"
      ],
      "metadata": {
        "id": "Ct0azaxtOpGM"
      },
      "execution_count": 132,
      "outputs": []
    },
    {
      "cell_type": "markdown",
      "source": [
        "Treino:"
      ],
      "metadata": {
        "id": "ORAqpwwPOqwc"
      }
    },
    {
      "cell_type": "code",
      "source": [
        "start = time.time() #tempo do treino\n",
        "svm_tfidf = LinearSVC()\n",
        "treino_svm_tfidf = time.time() - start #tempo do treino"
      ],
      "metadata": {
        "id": "GwZTbe6VOtJM"
      },
      "execution_count": 133,
      "outputs": []
    },
    {
      "cell_type": "markdown",
      "source": [
        "Teste:"
      ],
      "metadata": {
        "id": "35umeh3XOvXK"
      }
    },
    {
      "cell_type": "code",
      "source": [
        "svm_tfidf.fit(X_train_tfidf, y_train)\n",
        "start = time.time() #tempo do teste\n",
        "y_pred_tfidf = svm_tfidf.predict(X_test_tfidf)\n",
        "teste_svm_tfidf = time.time() - start #tempo do teste"
      ],
      "metadata": {
        "id": "fElGWog4OwcK"
      },
      "execution_count": 134,
      "outputs": []
    },
    {
      "cell_type": "markdown",
      "source": [
        "Acurácia:"
      ],
      "metadata": {
        "id": "E8HOIii7Ox_i"
      }
    },
    {
      "cell_type": "code",
      "source": [
        "#calcular acuracia:\n",
        "acuracia_svm_tfidf = accuracy_score(y_test, y_pred_tfidf)\n",
        "print(\"Acurácia do SVM usando TF-IDF:\", acuracia_svm_tfidf)"
      ],
      "metadata": {
        "colab": {
          "base_uri": "https://localhost:8080/"
        },
        "id": "ejvo7YnzOzA2",
        "outputId": "f83006ef-5e26-42f4-af46-167500f6f894"
      },
      "execution_count": 135,
      "outputs": [
        {
          "output_type": "stream",
          "name": "stdout",
          "text": [
            "Acurácia do SVM usando TF-IDF: 0.9574074074074074\n"
          ]
        }
      ]
    },
    {
      "cell_type": "markdown",
      "source": [
        "Matriz de confusão:"
      ],
      "metadata": {
        "id": "Zn10snx4O42F"
      }
    },
    {
      "cell_type": "code",
      "source": [
        "#matriz de confusão\n",
        "mc_tfidf = confusion_matrix(y_test, y_pred_tfidf, labels=svm_tfidf.classes_)\n",
        "sns.heatmap(mc_tfidf, annot=True, fmt=\"d\", xticklabels=svm_tfidf.classes_, yticklabels=svm_tfidf.classes_)\n",
        "plt.title(\"Matriz de Confusão do SVM - TF-IDF\")\n",
        "plt.xlabel(\"Valores previstos\")\n",
        "plt.ylabel(\"Valores reais\")\n",
        "plt.show()"
      ],
      "metadata": {
        "colab": {
          "base_uri": "https://localhost:8080/",
          "height": 472
        },
        "id": "RYvD-NIdO6le",
        "outputId": "e71999c3-7d4a-456c-ac03-04d11c4bf515"
      },
      "execution_count": 136,
      "outputs": [
        {
          "output_type": "display_data",
          "data": {
            "text/plain": [
              "<Figure size 640x480 with 2 Axes>"
            ],
            "image/png": "[encoded data removed]"
          },
          "metadata": {}
        }
      ]
    },
    {
      "cell_type": "markdown",
      "source": [
        "# 4. BERT (Bidirectional Encoder Representations from Transformers)"
      ],
      "metadata": {
        "id": "T-Mx0RWsy2mc"
      }
    },
    {
      "cell_type": "code",
      "source": [
        "print(\"============= BERT =============\")"
      ],
      "metadata": {
        "colab": {
          "base_uri": "https://localhost:8080/"
        },
        "id": "VSwgrKzry2Cs",
        "outputId": "1fc6f2d4-cea3-4cf6-f606-788e145ffaa1"
      },
      "execution_count": 137,
      "outputs": [
        {
          "output_type": "stream",
          "name": "stdout",
          "text": [
            "============= BERT =============\n"
          ]
        }
      ]
    },
    {
      "cell_type": "markdown",
      "source": [
        "### ⚠️ Aviso:\n",
        "\n",
        "Devido a problemas de compatibilidade com versões mais novas do TensorFlow, foi utilizado uma versão mais antiga.  \n",
        "A biblioteca Pytorch (criada e mantida pela Meta) seria mais recomendado nesse caso\n",
        "\n",
        "Um dos avisos dados:\n",
        "> TensorFlow and JAX classes are deprecated and will be removed in Transformers v5. We recommend migrating to PyTorch classes or pinning your version of Transformers.\n",
        "\n",
        "Além disso, eu pessoalmente recomendo rodar o BERT após o resto dos modelos, devido ao uso do Keras em uma versão anterior"
      ],
      "metadata": {
        "id": "QBNbKewXzhj7"
      }
    },
    {
      "cell_type": "markdown",
      "source": [
        "### Configuração de ambiente para o BERT"
      ],
      "metadata": {
        "id": "AtJvsNCXz-u7"
      }
    },
    {
      "cell_type": "code",
      "source": [
        "import pandas as pd\n",
        "import numpy as np\n",
        "from transformers import BertTokenizer, BertModel\n",
        "import torch\n",
        "from torch.utils.data import DataLoader, TensorDataset\n",
        "from sklearn.model_selection import train_test_split\n",
        "from sklearn.preprocessing import LabelEncoder\n",
        "from sklearn.metrics import accuracy_score\n",
        "import time\n",
        "import os\n",
        "import pickle"
      ],
      "metadata": {
        "id": "ncUn1eMyzNkZ"
      },
      "execution_count": 138,
      "outputs": []
    },
    {
      "cell_type": "code",
      "source": [
        "# --- Configuração Inicial e Carregamento de Dados ---\n",
        "print(\"Carregando o arquivo pre-processed.csv...\")\n",
        "dados = pd.read_csv('pre-processed.csv')\n",
        "\n",
        "X = dados['preprocessed_news'].astype(str).tolist()\n",
        "y = dados['label'].tolist()\n",
        "\n",
        "# Codificar os labels\n",
        "le = LabelEncoder()\n",
        "y_enc = le.fit_transform(y)\n",
        "\n",
        "# Separar treino e teste\n",
        "X_train, X_test, y_train, y_test = train_test_split(X, y_enc, test_size=0.3, random_state=13)\n",
        "print(f\"Dataset dividido em: {len(X_train)} amostras de treino e {len(X_test)} amostras de teste.\")"
      ],
      "metadata": {
        "id": "lV36nVuw0B8Y",
        "colab": {
          "base_uri": "https://localhost:8080/"
        },
        "outputId": "e91f77d9-77a3-4580-c012-603ad2ee45ee"
      },
      "execution_count": 139,
      "outputs": [
        {
          "output_type": "stream",
          "name": "stdout",
          "text": [
            "Carregando o arquivo pre-processed.csv...\n",
            "Dataset dividido em: 5040 amostras de treino e 2160 amostras de teste.\n"
          ]
        }
      ]
    },
    {
      "cell_type": "code",
      "source": [
        "# Carregar tokenizer do BERT\n",
        "tokenizer = BertTokenizer.from_pretrained('neuralmind/bert-base-portuguese-cased')"
      ],
      "metadata": {
        "colab": {
          "base_uri": "https://localhost:8080/",
          "height": 177,
          "referenced_widgets": [
            "d43bf0f6bdfb44bcab3003e8a7cca11a",
            "fdffcfa007b9480fa10c8d56bdd568d1",
            "a6a1758b4299430fa1ceb13c057a12ae",
            "99b5cc8ef78747918d9dcdfad71858ca",
            "38e938d57428456bbfc8481f55dfea3b",
            "e1bcc9d96b65404486522e522117372b",
            "880a33bf459844fb969d91836db62592",
            "e89f0abf56e04fb2ad363a8659bc604a",
            "aa9c25526f234790891060e12b025fe4",
            "9e5ecc8479b64ef5989b271dff3bd732",
            "6ea4e89f0b734bf1b3b0e1e552bfb220",
            "d6cf145084804576b0f0434e366bad35",
            "c595deb9074f4166bed805db9b395ed7",
            "1b21e10414bc44f695e9940dca0f895b",
            "87ed9305e8954d228b4ca3ac1bbd91d3",
            "358cafe0fa82404097da92210c2a59b7",
            "d88bef9f33cb43df9e0253bd057fa3c5",
            "1eec3035622742b1a72d14d737cfd703",
            "cea600e848d54a77acffee85b560b009",
            "ccac0ba911664f3bb1a871b07e1989f7",
            "acf420571ebc41808c0173006b188c44",
            "64df3596fea44359b2fe6a6dc0011a9d",
            "f64e5355fc81410d9a1a58eeb6e6600f",
            "8eaafbd57d0e403e8a78d46530aa7704",
            "1f6716a8754441d4972950f962293494",
            "481e1bcaaefd4c6f9e64a5b289de503f",
            "dbbc00dbeb9b495299c88f3e0cda56bc",
            "84be8e23dd5644c8b3350b519df0044f",
            "97d4a3278eda47cabf25c3c3bb2e2f16",
            "11d5dfec86814ababfc089409974b8b0",
            "45bfc13780fb4374b8c51022b3cb1937",
            "7280fb1197a94926afa98d4e864abab5",
            "37ab9a87316046dfb3d60aab5b2ebafe",
            "1748655eb08243d1b8ca2afb20fdd186",
            "7d5533ac06e1496eaa70743aa20544d8",
            "2123f54c86c943a7a76bf40105af362f",
            "9441479b8c38488ea9c0a9b4e668f57b",
            "c4a3301b9d7149f9bdc4d01adf4b8666",
            "555f7e9b71b041c19a1b7956263d7b4a",
            "59a7ca814ef64bda9f248865cd1c8d51",
            "90039f67f64d497a85381ea2000d014e",
            "7e1a81e3219f41309f858e4f364b262d",
            "1d72c1decd604b4a9533508b1208f11d",
            "3b2f0d2238c3497f96dbc9cb8fb951e3",
            "ea6e7178de424997b02ce01413bba5b4",
            "017869eac9ed4d76b8d84e7c8bb80412",
            "390330d9ad3748c2800eb2cd4c745db2",
            "4a1989401bb445609835f40be20148ef",
            "381ff52739ec411fb83dfc097e4c6c66",
            "61d038903a4844d4ba854ff192fc5a0d",
            "8b8a0d50595f44b5a2b54ffb481fe396",
            "0dd7caf173674c1e937682c98b49767b",
            "e57c9458ec0e4a2993f41e9187d540f6",
            "483ddef04e8247aa9674c4a4378b33d6",
            "695e95ef2d774cdba14978ea6287b10b"
          ]
        },
        "id": "ctz-MNvr3pLK",
        "outputId": "9d7c7150-72a5-488e-a062-2b52cf9cdfb8"
      },
      "execution_count": 140,
      "outputs": [
        {
          "output_type": "display_data",
          "data": {
            "text/plain": [
              "tokenizer_config.json:   0%|          | 0.00/43.0 [00:00<?, ?B/s]"
            ],
            "application/vnd.jupyter.widget-view+json": {
              "version_major": 2,
              "version_minor": 0,
              "model_id": "d43bf0f6bdfb44bcab3003e8a7cca11a"
            }
          },
          "metadata": {}
        },
        {
          "output_type": "display_data",
          "data": {
            "text/plain": [
              "vocab.txt: 0.00B [00:00, ?B/s]"
            ],
            "application/vnd.jupyter.widget-view+json": {
              "version_major": 2,
              "version_minor": 0,
              "model_id": "d6cf145084804576b0f0434e366bad35"
            }
          },
          "metadata": {}
        },
        {
          "output_type": "display_data",
          "data": {
            "text/plain": [
              "added_tokens.json:   0%|          | 0.00/2.00 [00:00<?, ?B/s]"
            ],
            "application/vnd.jupyter.widget-view+json": {
              "version_major": 2,
              "version_minor": 0,
              "model_id": "f64e5355fc81410d9a1a58eeb6e6600f"
            }
          },
          "metadata": {}
        },
        {
          "output_type": "display_data",
          "data": {
            "text/plain": [
              "special_tokens_map.json:   0%|          | 0.00/112 [00:00<?, ?B/s]"
            ],
            "application/vnd.jupyter.widget-view+json": {
              "version_major": 2,
              "version_minor": 0,
              "model_id": "1748655eb08243d1b8ca2afb20fdd186"
            }
          },
          "metadata": {}
        },
        {
          "output_type": "display_data",
          "data": {
            "text/plain": [
              "config.json:   0%|          | 0.00/647 [00:00<?, ?B/s]"
            ],
            "application/vnd.jupyter.widget-view+json": {
              "version_major": 2,
              "version_minor": 0,
              "model_id": "ea6e7178de424997b02ce01413bba5b4"
            }
          },
          "metadata": {}
        }
      ]
    },
    {
      "cell_type": "code",
      "source": [
        "# Função para tokenizar textos\n",
        "def encode_texts(texts, tokenizer, max_length=128):\n",
        "    return tokenizer(\n",
        "        texts,\n",
        "        padding='max_length',\n",
        "        truncation=True,\n",
        "        max_length=max_length,\n",
        "        return_tensors='pt'  # Retorna tensores do PyTorch\n",
        "    )\n",
        "\n",
        "# Tokenizar dados\n",
        "train_encodings = encode_texts(X_train, tokenizer)\n",
        "test_encodings = encode_texts(X_test, tokenizer)"
      ],
      "metadata": {
        "id": "m6RahCoA32Zv"
      },
      "execution_count": 141,
      "outputs": []
    },
    {
      "cell_type": "code",
      "source": [
        "# Criar datasets PyTorch\n",
        "train_dataset = TensorDataset(train_encodings['input_ids'], train_encodings['attention_mask'], torch.tensor(y_train))\n",
        "test_dataset = TensorDataset(test_encodings['input_ids'], test_encodings['attention_mask'], torch.tensor(y_test))\n",
        "\n",
        "train_size = int(0.7 * len(train_dataset))\n",
        "val_size = len(train_dataset) - train_size\n",
        "train_dataset, val_dataset = torch.utils.data.random_split(train_dataset, [train_size, val_size])\n",
        "\n",
        "# Criar DataLoaders\n",
        "train_loader = DataLoader(train_dataset, batch_size=16, shuffle=True)\n",
        "val_loader = DataLoader(val_dataset, batch_size=16) # Add val_loader\n",
        "test_loader = DataLoader(test_dataset, batch_size=16)"
      ],
      "metadata": {
        "id": "6ziLvH9z4cDs"
      },
      "execution_count": 142,
      "outputs": []
    },
    {
      "cell_type": "code",
      "source": [
        "# Construir modelo BERT + classificação com PyTorch\n",
        "class BertClassifier(torch.nn.Module):\n",
        "    def __init__(self, bert_model_name):\n",
        "        super(BertClassifier, self).__init__()\n",
        "        self.bert = BertModel.from_pretrained(bert_model_name)\n",
        "        self.classifier = torch.nn.Linear(self.bert.config.hidden_size, 1)\n",
        "\n",
        "    def forward(self, input_ids, attention_mask):\n",
        "        outputs = self.bert(input_ids=input_ids, attention_mask=attention_mask)\n",
        "        cls_output = outputs.last_hidden_state[:, 0, :]  # [CLS] token\n",
        "        logits = self.classifier(cls_output)\n",
        "        return torch.sigmoid(logits)\n",
        "\n",
        "model = BertClassifier('bert-base-multilingual-cased')"
      ],
      "metadata": {
        "id": "eG6ev1CK4qWY"
      },
      "execution_count": 143,
      "outputs": []
    },
    {
      "cell_type": "code",
      "source": [
        "# Otimizador e função de perda\n",
        "optimizer = torch.optim.Adam(model.parameters(), lr=2e-5)\n",
        "loss_fn = torch.nn.BCELoss() # Binary Cross-Entropy Loss\n",
        "\n",
        "# Mover modelo para a GPU se disponível\n",
        "device = torch.device(\"cuda\" if torch.cuda.is_available() else \"cpu\")\n",
        "model.to(device)"
      ],
      "metadata": {
        "colab": {
          "base_uri": "https://localhost:8080/"
        },
        "id": "VjEyrIzgds3L",
        "outputId": "98a3e9b6-ad88-4d3a-be9e-64474c87c343"
      },
      "execution_count": 144,
      "outputs": [
        {
          "output_type": "execute_result",
          "data": {
            "text/plain": [
              "BertClassifier(\n",
              "  (bert): BertModel(\n",
              "    (embeddings): BertEmbeddings(\n",
              "      (word_embeddings): Embedding(119547, 768, padding_idx=0)\n",
              "      (position_embeddings): Embedding(512, 768)\n",
              "      (token_type_embeddings): Embedding(2, 768)\n",
              "      (LayerNorm): LayerNorm((768,), eps=1e-12, elementwise_affine=True)\n",
              "      (dropout): Dropout(p=0.1, inplace=False)\n",
              "    )\n",
              "    (encoder): BertEncoder(\n",
              "      (layer): ModuleList(\n",
              "        (0-11): 12 x BertLayer(\n",
              "          (attention): BertAttention(\n",
              "            (self): BertSdpaSelfAttention(\n",
              "              (query): Linear(in_features=768, out_features=768, bias=True)\n",
              "              (key): Linear(in_features=768, out_features=768, bias=True)\n",
              "              (value): Linear(in_features=768, out_features=768, bias=True)\n",
              "              (dropout): Dropout(p=0.1, inplace=False)\n",
              "            )\n",
              "            (output): BertSelfOutput(\n",
              "              (dense): Linear(in_features=768, out_features=768, bias=True)\n",
              "              (LayerNorm): LayerNorm((768,), eps=1e-12, elementwise_affine=True)\n",
              "              (dropout): Dropout(p=0.1, inplace=False)\n",
              "            )\n",
              "          )\n",
              "          (intermediate): BertIntermediate(\n",
              "            (dense): Linear(in_features=768, out_features=3072, bias=True)\n",
              "            (intermediate_act_fn): GELUActivation()\n",
              "          )\n",
              "          (output): BertOutput(\n",
              "            (dense): Linear(in_features=3072, out_features=768, bias=True)\n",
              "            (LayerNorm): LayerNorm((768,), eps=1e-12, elementwise_affine=True)\n",
              "            (dropout): Dropout(p=0.1, inplace=False)\n",
              "          )\n",
              "        )\n",
              "      )\n",
              "    )\n",
              "    (pooler): BertPooler(\n",
              "      (dense): Linear(in_features=768, out_features=768, bias=True)\n",
              "      (activation): Tanh()\n",
              "    )\n",
              "  )\n",
              "  (classifier): Linear(in_features=768, out_features=1, bias=True)\n",
              ")"
            ]
          },
          "metadata": {},
          "execution_count": 144
        }
      ]
    },
    {
      "cell_type": "code",
      "source": [
        "print(\"Iniciando o treinamento do modelo BERT (PyTorch)...\")\n",
        "start_time_train = time.time()\n",
        "\n",
        "epochs = 5\n",
        "history = {'train_loss': [], 'val_loss': [], 'val_accuracy': []}\n",
        "\n",
        "for epoch in range(epochs):\n",
        "    print(f\"--- Época {epoch + 1}/{epochs} ---\")\n",
        "\n",
        "    # Treinamento\n",
        "    model.train()\n",
        "    total_train_loss = 0\n",
        "    for batch in train_loader:\n",
        "        input_ids, attention_mask, labels = [b.to(device) for b in batch]\n",
        "\n",
        "        optimizer.zero_grad()\n",
        "        outputs = model(input_ids, attention_mask).squeeze()\n",
        "        loss = loss_fn(outputs, labels.float())\n",
        "        total_train_loss += loss.item()\n",
        "\n",
        "        loss.backward()\n",
        "        optimizer.step()\n",
        "\n",
        "    avg_train_loss = total_train_loss / len(train_loader)\n",
        "    history['train_loss'].append(avg_train_loss)\n",
        "\n",
        "    # Validação\n",
        "    model.eval()\n",
        "    all_labels = []\n",
        "    all_preds = []\n",
        "    total_val_loss = 0\n",
        "    total_val_correct = 0\n",
        "    with torch.no_grad():\n",
        "        for batch in val_loader:\n",
        "            input_ids, attention_mask, labels = [b.to(device) for b in batch]\n",
        "\n",
        "            outputs = model(input_ids, attention_mask).squeeze()\n",
        "            loss = loss_fn(outputs, labels.float())\n",
        "            total_val_loss += loss.item()\n",
        "\n",
        "            preds = (outputs > 0.5).int()\n",
        "            total_val_correct += (preds == labels).sum().item()\n",
        "            all_labels.extend(labels.cpu().numpy())\n",
        "            all_preds.extend(preds.cpu().numpy())\n",
        "\n",
        "    avg_val_loss = total_val_loss / len(val_loader)\n",
        "    val_accuracy = total_val_correct / len(val_dataset)\n",
        "    history['val_loss'].append(avg_val_loss)\n",
        "    history['val_accuracy'].append(val_accuracy)\n",
        "\n",
        "    print(f\"Perda de Treino: {avg_train_loss:.4f} | Perda de Validação: {avg_val_loss:.4f} | Acurácia de Validação: {val_accuracy:.4f}\")\n",
        "\n",
        "end_time_train = time.time()\n",
        "treino_bert = end_time_train - start_time_train\n",
        "acuracia_bert = accuracy_score(all_labels, all_preds)\n",
        "print(\"Acurácia do BERT:\", acuracia_bert)\n",
        "print(f\"\\nTempo total de treino do BERT: {treino_bert:.2f} segundos\")"
      ],
      "metadata": {
        "colab": {
          "base_uri": "https://localhost:8080/"
        },
        "id": "_FlPbB_P432b",
        "outputId": "a4db67a3-19a3-4e24-a395-6b2dda6f8ee2"
      },
      "execution_count": 145,
      "outputs": [
        {
          "output_type": "stream",
          "name": "stdout",
          "text": [
            "Iniciando o treinamento do modelo BERT (PyTorch)...\n",
            "--- Época 1/5 ---\n"
          ]
        },
        {
          "output_type": "stream",
          "name": "stderr",
          "text": [
            "/usr/local/lib/python3.11/dist-packages/torch/nn/modules/module.py:1750: FutureWarning: `encoder_attention_mask` is deprecated and will be removed in version 4.55.0 for `BertSdpaSelfAttention.forward`.\n",
            "  return forward_call(*args, **kwargs)\n"
          ]
        },
        {
          "output_type": "stream",
          "name": "stdout",
          "text": [
            "Perda de Treino: 0.6924 | Perda de Validação: 0.6299 | Acurácia de Validação: 0.5893\n",
            "--- Época 2/5 ---\n",
            "Perda de Treino: 0.4623 | Perda de Validação: 0.4721 | Acurácia de Validação: 0.7870\n",
            "--- Época 3/5 ---\n",
            "Perda de Treino: 0.2682 | Perda de Validação: 0.5092 | Acurácia de Validação: 0.8161\n",
            "--- Época 4/5 ---\n",
            "Perda de Treino: 0.1765 | Perda de Validação: 0.4829 | Acurácia de Validação: 0.8300\n",
            "--- Época 5/5 ---\n",
            "Perda de Treino: 0.0944 | Perda de Validação: 0.4005 | Acurácia de Validação: 0.8730\n",
            "Acurácia do BERT: 0.873015873015873\n",
            "\n",
            "Tempo total de treino do BERT: 456.74 segundos\n"
          ]
        }
      ]
    },
    {
      "cell_type": "code",
      "source": [
        "# Salvando o modelo\n",
        "if not os.path.exists('modelos'):\n",
        "    os.makedirs('modelos')\n",
        "\n",
        "model_save_path = 'modelos/bert_pytorch_model.pth'\n",
        "torch.save(model.state_dict(), model_save_path)\n",
        "print(f\"Salvando o modelo BERT (PyTorch) em {model_save_path}\")\n",
        "\n",
        "# --- Salvar o Tokenizer ---\n",
        "tokenizer_save_path = 'modelos/bert_tokenizer/'\n",
        "tokenizer.save_pretrained(tokenizer_save_path)\n",
        "print(f\"Salvando o tokenizer em {tokenizer_save_path}\")\n",
        "\n",
        "# --- Salvar o Label Encoder ---\n",
        "le_save_path = 'modelos/label_encoder.pkl'\n",
        "with open(le_save_path, 'wb') as f:\n",
        "    pickle.dump(le, f)\n",
        "print(f\"Salvando o Label Encoder em {le_save_path}\")"
      ],
      "metadata": {
        "colab": {
          "base_uri": "https://localhost:8080/"
        },
        "id": "UP1nChyLES_-",
        "outputId": "8f6e5611-3f4a-493a-f4c3-450763248c7a"
      },
      "execution_count": 146,
      "outputs": [
        {
          "output_type": "stream",
          "name": "stdout",
          "text": [
            "Salvando o modelo BERT (PyTorch) em modelos/bert_pytorch_model.pth\n",
            "Salvando o tokenizer em modelos/bert_tokenizer/\n",
            "Salvando o Label Encoder em modelos/label_encoder.pkl\n"
          ]
        }
      ]
    },
    {
      "cell_type": "code",
      "source": [
        "# --- Predições e Matriz de Confusão ---\n",
        "print(\"Gerando a matriz de confusão para o modelo BERT (PyTorch)...\")\n",
        "\n",
        "model.eval()\n",
        "all_labels = []\n",
        "all_preds = []\n",
        "with torch.no_grad():\n",
        "    for batch in test_loader:\n",
        "        input_ids, attention_mask, labels = [b.to(device) for b in batch]\n",
        "        outputs = model(input_ids, attention_mask).squeeze()\n",
        "        preds = (outputs > 0.5).int()\n",
        "\n",
        "        all_labels.extend(labels.cpu().numpy())\n",
        "        all_preds.extend(preds.cpu().numpy())\n",
        "\n",
        "mc_bert_pytorch = confusion_matrix(all_labels, all_preds)\n",
        "\n",
        "plt.figure(figsize=(8, 6))\n",
        "sns.heatmap(mc_bert_pytorch,\n",
        "            annot=True,\n",
        "            fmt=\"d\",\n",
        "            xticklabels=le.classes_,\n",
        "            yticklabels=le.classes_)\n",
        "plt.title(\"Matriz de Confusão do BERT (PyTorch)\", fontsize=16)\n",
        "plt.xlabel(\"Valores Previstos\", fontsize=12)\n",
        "plt.ylabel(\"Valores Reais\", fontsize=12)\n",
        "plt.show()"
      ],
      "metadata": {
        "id": "1xx3Zk_r5uwt",
        "colab": {
          "base_uri": "https://localhost:8080/",
          "height": 644
        },
        "outputId": "735444b6-c4f7-4d3c-d283-823f9f6c38f7"
      },
      "execution_count": 147,
      "outputs": [
        {
          "output_type": "stream",
          "name": "stdout",
          "text": [
            "Gerando a matriz de confusão para o modelo BERT (PyTorch)...\n"
          ]
        },
        {
          "output_type": "stream",
          "name": "stderr",
          "text": [
            "/usr/local/lib/python3.11/dist-packages/torch/nn/modules/module.py:1750: FutureWarning: `encoder_attention_mask` is deprecated and will be removed in version 4.55.0 for `BertSdpaSelfAttention.forward`.\n",
            "  return forward_call(*args, **kwargs)\n"
          ]
        },
        {
          "output_type": "display_data",
          "data": {
            "text/plain": [
              "<Figure size 800x600 with 2 Axes>"
            ],
            "image/png": "[encoded data removed]"
          },
          "metadata": {}
        }
      ]
    },
    {
      "cell_type": "markdown",
      "source": [
        "#Gráfico de Comparação de Acurácia entre Modelos usados"
      ],
      "metadata": {
        "id": "VGA5MhGmQyNc"
      }
    },
    {
      "cell_type": "code",
      "source": [
        "acuracias = {\n",
        "  'KNN (BoW)': acuracia_knn_bow,\n",
        "  'KNN (TF-IDF)': acuracia_knn_tfidf,\n",
        "  'Naive Bayes (BoW)': acuracia_nb_bow,\n",
        "  'Naive Bayes (TF-IDF)': acuracia_nb_tfidf,\n",
        "  'SVM (BoW)': acuracia_svm_bow,\n",
        "  'SVM (TF-IDF)': acuracia_svm_tfidf,\n",
        "  'BERT': acuracia_bert\n",
        "}\n",
        "\n",
        "cores = []\n",
        "for modelo in acuracias.keys():\n",
        "  if 'KNN' in modelo:\n",
        "    cores.append('violet')   # rosa\n",
        "  elif 'Naive Bayes' in modelo:\n",
        "    cores.append('mediumorchid')  # roxo\n",
        "  elif 'SVM' in modelo:\n",
        "    cores.append('cornflowerblue')  # azul\n",
        "  elif 'BERT' in modelo:\n",
        "    cores.append('darkslateblue') # roxo escuro\n",
        "\n",
        "plt.figure(figsize=(12, 6))\n",
        "plt.bar(acuracias.keys(), acuracias.values(), color=cores)\n",
        "plt.title('Comparação de Acurácia entre Modelos')\n",
        "plt.ylabel('Acurácia')\n",
        "plt.ylim(0, 1.0)\n",
        "\n",
        "#valores no topo das barras:\n",
        "for i, (modelo, valor) in enumerate(acuracias.items()):\n",
        "  plt.text(i, valor + 0.01, f\"{valor:.2f}\", ha='center', fontsize=10)\n",
        "\n",
        "plt.tight_layout()\n",
        "plt.show()"
      ],
      "metadata": {
        "colab": {
          "base_uri": "https://localhost:8080/",
          "height": 564
        },
        "id": "0mmVWPGBYjym",
        "outputId": "db67e457-cd0f-455c-ae49-bbd761143d98"
      },
      "execution_count": 148,
      "outputs": [
        {
          "output_type": "display_data",
          "data": {
            "text/plain": [
              "<Figure size 1200x600 with 1 Axes>"
            ],
            "image/png": "[encoded data removed]"
          },
          "metadata": {}
        }
      ]
    },
    {
      "cell_type": "markdown",
      "source": [
        "#Gráfico de comparação de tempos de execução entre modelos:"
      ],
      "metadata": {
        "id": "dqF7x0GwQ7PC"
      }
    },
    {
      "cell_type": "code",
      "source": [
        "import matplotlib.pyplot as plt\n",
        "import numpy as np\n",
        "\n",
        "tecnicas = ['BoW', 'TF-IDF']\n",
        "x = np.arange(len(tecnicas))\n",
        "\n",
        "treino_nb = [treino_nb_bow, treino_nb_tfidf]\n",
        "teste_nb = [teste_nb_bow, teste_nb_tfidf]\n",
        "\n",
        "treino_knn = [treino_knn_bow, treino_knn_tfidf]\n",
        "teste_knn = [teste_knn_bow, teste_knn_tfidf]\n",
        "\n",
        "treino_svm = [treino_svm_bow, treino_svm_tfidf]\n",
        "teste_svm = [teste_svm_bow, teste_svm_tfidf]\n",
        "\n",
        "plt.figure(figsize=(10, 6))\n",
        "\n",
        "plt.plot(x, treino_knn, label='KNN Treinamento', color='#2ca02c', linewidth=2) # verde\n",
        "plt.plot(x, teste_knn, label='KNN Teste', color='#98df8a', linewidth=2)        # verde claro\n",
        "\n",
        "plt.plot(x, treino_nb, label='NB Treinamento', color='#6a0dad', linewidth=2)   # roxo escuro\n",
        "plt.plot(x, teste_nb, label='NB Teste',color='#b19cd9', linewidth=2)          # roxo claro\n",
        "\n",
        "plt.plot(x, treino_svm, label='SVM Treinamento', color='#1f77b4', linewidth=2) # azul\n",
        "plt.plot(x, teste_svm, label='SVM Teste', color='#aec7e8', linewidth=2)        # azul claro\n",
        "\n",
        "plt.xticks(x, tecnicas)\n",
        "plt.xlabel('Técnica de Vetorização')\n",
        "plt.ylabel('Tempo (segundos) - escala logarítmica')\n",
        "plt.title('Tempo de Treinamento e Teste por Algoritmo e Vetorização')\n",
        "\n",
        "plt.grid(True, linestyle='--', alpha=0.3)\n",
        "\n",
        "plt.yscale('log')\n",
        "\n",
        "plt.legend(loc='upper left', bbox_to_anchor=(1, 1))\n",
        "plt.tight_layout(rect=[0, 0, 0.8, 1])\n",
        "plt.show()"
      ],
      "metadata": {
        "colab": {
          "base_uri": "https://localhost:8080/",
          "height": 607
        },
        "id": "cQpzCVtuYlZm",
        "outputId": "ef6848c3-c66e-483f-fe9b-438f7368f50f"
      },
      "execution_count": 149,
      "outputs": [
        {
          "output_type": "display_data",
          "data": {
            "text/plain": [
              "<Figure size 1000x600 with 1 Axes>"
            ],
            "image/png": "[encoded data removed]"
          },
          "metadata": {}
        }
      ]
    },
    {
      "cell_type": "markdown",
      "source": [
        "## Exportação dos melhores modelos de cada método"
      ],
      "metadata": {
        "id": "WH3gledZzYiN"
      }
    },
    {
      "cell_type": "code",
      "source": [
        "import pickle\n",
        "import os\n",
        "\n",
        "if not os.path.exists('modelos'):\n",
        "    os.makedirs('modelos')\n",
        "\n",
        "best_models = {}\n",
        "\n",
        "best_models['KNN'] = {'model': knn_bag, 'vectorizer': bag_vetor, 'accuracy': acuracias['KNN (BoW)']}\n",
        "best_models['Naive Bayes'] = {'model': nb_bag, 'vectorizer': bag_vetor, 'accuracy': acuracias['Naive Bayes (BoW)']}\n",
        "best_models['SVM'] = {'model': svm_tfidf, 'vectorizer': tfidf_vetor, 'accuracy': acuracias['SVM (TF-IDF)']}\n",
        "\n",
        "for model_name, model_info in best_models.items():\n",
        "    model_filename = f'modelos/{model_name.lower().replace(\" \", \"_\")}_model.pkl'\n",
        "    with open(model_filename, 'wb') as f:\n",
        "        pickle.dump(model_info['model'], f)\n",
        "    print(f\"Salvando modelo {model_name} em {model_filename}\")\n",
        "\n",
        "    vectorizer_filename = f'modelos/{model_name.lower().replace(\" \", \"_\")}_vectorizer.pkl'\n",
        "    with open(vectorizer_filename, 'wb') as f:\n",
        "        pickle.dump(model_info['vectorizer'], f)\n",
        "    print(f\"Salvando {model_name} vetorizador em {vectorizer_filename}\")"
      ],
      "metadata": {
        "colab": {
          "base_uri": "https://localhost:8080/"
        },
        "id": "PSReb2gWh52C",
        "outputId": "7cf98959-9a0e-46ab-e971-39f0fa8e6c1b"
      },
      "execution_count": 150,
      "outputs": [
        {
          "output_type": "stream",
          "name": "stdout",
          "text": [
            "Salvando modelo KNN em modelos/knn_model.pkl\n",
            "Salvando KNN vetorizador em modelos/knn_vectorizer.pkl\n",
            "Salvando modelo Naive Bayes em modelos/naive_bayes_model.pkl\n",
            "Salvando Naive Bayes vetorizador em modelos/naive_bayes_vectorizer.pkl\n",
            "Salvando modelo SVM em modelos/svm_model.pkl\n",
            "Salvando SVM vetorizador em modelos/svm_vectorizer.pkl\n"
          ]
        }
      ]
    },
    {
      "cell_type": "code",
      "source": [
        "acuracias = {\n",
        "  'KNN (BoW)': acuracia_knn_bow,\n",
        "  'KNN (TF-IDF)': acuracia_knn_tfidf,\n",
        "  'Naive Bayes (BoW)': acuracia_nb_bow,\n",
        "  'Naive Bayes (TF-IDF)': acuracia_nb_tfidf,\n",
        "  'SVM (BoW)': acuracia_svm_bow,\n",
        "  'SVM (TF-IDF)': acuracia_svm_tfidf,\n",
        "  'BERT': acuracia_bert\n",
        "}\n",
        "\n",
        "cores = []\n",
        "for modelo in acuracias.keys():\n",
        "  if 'KNN' in modelo:\n",
        "    cores.append('violet')   # rosa\n",
        "  elif 'Naive Bayes' in modelo:\n",
        "    cores.append('mediumorchid')  # roxo\n",
        "  elif 'SVM' in modelo:\n",
        "    cores.append('cornflowerblue')  # azul\n",
        "  elif 'BERT' in modelo:\n",
        "    cores.append('darkslateblue') # roxo escuro\n",
        "\n",
        "plt.figure(figsize=(12, 6))\n",
        "plt.bar(acuracias.keys(), acuracias.values(), color=cores)\n",
        "plt.title('Accuracy Comparison between Models')\n",
        "plt.ylabel('Accuracy')\n",
        "plt.ylim(0, 1.0)\n",
        "\n",
        "#valores no topo das barras:\n",
        "for i, (modelo, valor) in enumerate(acuracias.items()):\n",
        "  plt.text(i, valor + 0.01, f\"{valor:.2f}\", ha='center', fontsize=10)\n",
        "\n",
        "plt.tight_layout()\n",
        "plt.show()"
      ],
      "metadata": {
        "colab": {
          "base_uri": "https://localhost:8080/",
          "height": 565
        },
        "id": "NAS8mYp6SULM",
        "outputId": "9ba6976d-00a8-41e8-a54d-c973dd032a58"
      },
      "execution_count": 151,
      "outputs": [
        {
          "output_type": "display_data",
          "data": {
            "text/plain": [
              "<Figure size 1200x600 with 1 Axes>"
            ],
            "image/png": "[encoded data removed]"
          },
          "metadata": {}
        }
      ]
    },
    {
      "cell_type": "code",
      "source": [
        "import matplotlib.pyplot as plt\n",
        "import numpy as np\n",
        "\n",
        "tecnicas = ['BoW', 'TF-IDF']\n",
        "x = np.arange(len(tecnicas))\n",
        "\n",
        "treino_nb = [treino_nb_bow, treino_nb_tfidf]\n",
        "teste_nb = [teste_nb_bow, teste_nb_tfidf]\n",
        "\n",
        "treino_knn = [treino_knn_bow, treino_knn_tfidf]\n",
        "teste_knn = [teste_knn_bow, teste_knn_tfidf]\n",
        "\n",
        "treino_svm = [treino_svm_bow, treino_svm_tfidf]\n",
        "teste_svm = [teste_svm_bow, teste_svm_tfidf]\n",
        "\n",
        "plt.figure(figsize=(10, 6))\n",
        "\n",
        "plt.plot(x, treino_knn, label='KNN Treinamento', color='#2ca02c', linewidth=2) # verde\n",
        "plt.plot(x, teste_knn, label='KNN Teste', color='#98df8a', linewidth=2)        # verde claro\n",
        "\n",
        "plt.plot(x, treino_nb, label='NB Treinamento', color='#6a0dad', linewidth=2)   # roxo escuro\n",
        "plt.plot(x, teste_nb, label='NB Teste',color='#b19cd9', linewidth=2)          # roxo claro\n",
        "\n",
        "plt.plot(x, treino_svm, label='SVM Treinamento', color='#1f77b4', linewidth=2) # azul\n",
        "plt.plot(x, teste_svm, label='SVM Teste', color='#aec7e8', linewidth=2)        # azul claro\n",
        "\n",
        "plt.xticks(x, tecnicas)\n",
        "plt.xlabel('Vectorization Method')\n",
        "plt.ylabel('Execution Time (seconds) – logarithmic scale')\n",
        "plt.title('Training and Testing Time by Algorithm and Vectorization')\n",
        "\n",
        "plt.grid(True, linestyle='--', alpha=0.3)\n",
        "\n",
        "plt.yscale('log')\n",
        "\n",
        "plt.legend(loc='upper left', bbox_to_anchor=(1, 1))\n",
        "plt.tight_layout(rect=[0, 0, 0.8, 1])\n",
        "plt.show()"
      ],
      "metadata": {
        "colab": {
          "base_uri": "https://localhost:8080/",
          "height": 607
        },
        "outputId": "60e9af57-4cf4-4813-f918-9d76f3f01cff",
        "id": "YBrWy2tb3FPt"
      },
      "execution_count": 152,
      "outputs": [
        {
          "output_type": "display_data",
          "data": {
            "text/plain": [
              "<Figure size 1000x600 with 1 Axes>"
            ],
            "image/png": "[encoded data removed]"
          },
          "metadata": {}
        }
      ]
    }
  ]
}