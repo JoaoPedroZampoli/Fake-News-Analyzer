{
  "nbformat": 4,
  "nbformat_minor": 0,
  "metadata": {
    "colab": {
      "provenance": [],
      "gpuType": "T4"
    },
    "kernelspec": {
      "name": "python3",
      "display_name": "Python 3"
    },
    "language_info": {
      "name": "python"
    },
    "accelerator": "GPU",
    "widgets": {
      "application/vnd.jupyter.widget-state+json": {
        "675f835adc0448fcaa06ed4fc74ecb27": {
          "model_module": "@jupyter-widgets/controls",
          "model_name": "HBoxModel",
          "model_module_version": "1.5.0",
          "state": {
            "_dom_classes": [],
            "_model_module": "@jupyter-widgets/controls",
            "_model_module_version": "1.5.0",
            "_model_name": "HBoxModel",
            "_view_count": null,
            "_view_module": "@jupyter-widgets/controls",
            "_view_module_version": "1.5.0",
            "_view_name": "HBoxView",
            "box_style": "",
            "children": [
              "IPY_MODEL_e677e3458b2b46cab09c5de0c11de867",
              "IPY_MODEL_b44384520c074c7f9d23512851bd4da0",
              "IPY_MODEL_966bd941be494b07879ed5f567ab0f0a"
            ],
            "layout": "IPY_MODEL_6e04d5f3d9784cb79a624e22fa7995f3"
          }
        },
        "e677e3458b2b46cab09c5de0c11de867": {
          "model_module": "@jupyter-widgets/controls",
          "model_name": "HTMLModel",
          "model_module_version": "1.5.0",
          "state": {
            "_dom_classes": [],
            "_model_module": "@jupyter-widgets/controls",
            "_model_module_version": "1.5.0",
            "_model_name": "HTMLModel",
            "_view_count": null,
            "_view_module": "@jupyter-widgets/controls",
            "_view_module_version": "1.5.0",
            "_view_name": "HTMLView",
            "description": "",
            "description_tooltip": null,
            "layout": "IPY_MODEL_63b61022916e415082487568bf22ece4",
            "placeholder": "​",
            "style": "IPY_MODEL_0cc8ffad995943e9bcc95b6ad03f271c",
            "value": "tokenizer_config.json: 100%"
          }
        },
        "b44384520c074c7f9d23512851bd4da0": {
          "model_module": "@jupyter-widgets/controls",
          "model_name": "FloatProgressModel",
          "model_module_version": "1.5.0",
          "state": {
            "_dom_classes": [],
            "_model_module": "@jupyter-widgets/controls",
            "_model_module_version": "1.5.0",
            "_model_name": "FloatProgressModel",
            "_view_count": null,
            "_view_module": "@jupyter-widgets/controls",
            "_view_module_version": "1.5.0",
            "_view_name": "ProgressView",
            "bar_style": "success",
            "description": "",
            "description_tooltip": null,
            "layout": "IPY_MODEL_c2b2494f26b34ee7a6fb20dc27d14789",
            "max": 43,
            "min": 0,
            "orientation": "horizontal",
            "style": "IPY_MODEL_1a6573b422eb480187b516f4abad385e",
            "value": 43
          }
        },
        "966bd941be494b07879ed5f567ab0f0a": {
          "model_module": "@jupyter-widgets/controls",
          "model_name": "HTMLModel",
          "model_module_version": "1.5.0",
          "state": {
            "_dom_classes": [],
            "_model_module": "@jupyter-widgets/controls",
            "_model_module_version": "1.5.0",
            "_model_name": "HTMLModel",
            "_view_count": null,
            "_view_module": "@jupyter-widgets/controls",
            "_view_module_version": "1.5.0",
            "_view_name": "HTMLView",
            "description": "",
            "description_tooltip": null,
            "layout": "IPY_MODEL_7fc4cdf7965b44528511b25c1592d8c8",
            "placeholder": "​",
            "style": "IPY_MODEL_cd1a66e4a99242399b86b215131b049d",
            "value": " 43.0/43.0 [00:00&lt;00:00, 2.68kB/s]"
          }
        },
        "6e04d5f3d9784cb79a624e22fa7995f3": {
          "model_module": "@jupyter-widgets/base",
          "model_name": "LayoutModel",
          "model_module_version": "1.2.0",
          "state": {
            "_model_module": "@jupyter-widgets/base",
            "_model_module_version": "1.2.0",
            "_model_name": "LayoutModel",
            "_view_count": null,
            "_view_module": "@jupyter-widgets/base",
            "_view_module_version": "1.2.0",
            "_view_name": "LayoutView",
            "align_content": null,
            "align_items": null,
            "align_self": null,
            "border": null,
            "bottom": null,
            "display": null,
            "flex": null,
            "flex_flow": null,
            "grid_area": null,
            "grid_auto_columns": null,
            "grid_auto_flow": null,
            "grid_auto_rows": null,
            "grid_column": null,
            "grid_gap": null,
            "grid_row": null,
            "grid_template_areas": null,
            "grid_template_columns": null,
            "grid_template_rows": null,
            "height": null,
            "justify_content": null,
            "justify_items": null,
            "left": null,
            "margin": null,
            "max_height": null,
            "max_width": null,
            "min_height": null,
            "min_width": null,
            "object_fit": null,
            "object_position": null,
            "order": null,
            "overflow": null,
            "overflow_x": null,
            "overflow_y": null,
            "padding": null,
            "right": null,
            "top": null,
            "visibility": null,
            "width": null
          }
        },
        "63b61022916e415082487568bf22ece4": {
          "model_module": "@jupyter-widgets/base",
          "model_name": "LayoutModel",
          "model_module_version": "1.2.0",
          "state": {
            "_model_module": "@jupyter-widgets/base",
            "_model_module_version": "1.2.0",
            "_model_name": "LayoutModel",
            "_view_count": null,
            "_view_module": "@jupyter-widgets/base",
            "_view_module_version": "1.2.0",
            "_view_name": "LayoutView",
            "align_content": null,
            "align_items": null,
            "align_self": null,
            "border": null,
            "bottom": null,
            "display": null,
            "flex": null,
            "flex_flow": null,
            "grid_area": null,
            "grid_auto_columns": null,
            "grid_auto_flow": null,
            "grid_auto_rows": null,
            "grid_column": null,
            "grid_gap": null,
            "grid_row": null,
            "grid_template_areas": null,
            "grid_template_columns": null,
            "grid_template_rows": null,
            "height": null,
            "justify_content": null,
            "justify_items": null,
            "left": null,
            "margin": null,
            "max_height": null,
            "max_width": null,
            "min_height": null,
            "min_width": null,
            "object_fit": null,
            "object_position": null,
            "order": null,
            "overflow": null,
            "overflow_x": null,
            "overflow_y": null,
            "padding": null,
            "right": null,
            "top": null,
            "visibility": null,
            "width": null
          }
        },
        "0cc8ffad995943e9bcc95b6ad03f271c": {
          "model_module": "@jupyter-widgets/controls",
          "model_name": "DescriptionStyleModel",
          "model_module_version": "1.5.0",
          "state": {
            "_model_module": "@jupyter-widgets/controls",
            "_model_module_version": "1.5.0",
            "_model_name": "DescriptionStyleModel",
            "_view_count": null,
            "_view_module": "@jupyter-widgets/base",
            "_view_module_version": "1.2.0",
            "_view_name": "StyleView",
            "description_width": ""
          }
        },
        "c2b2494f26b34ee7a6fb20dc27d14789": {
          "model_module": "@jupyter-widgets/base",
          "model_name": "LayoutModel",
          "model_module_version": "1.2.0",
          "state": {
            "_model_module": "@jupyter-widgets/base",
            "_model_module_version": "1.2.0",
            "_model_name": "LayoutModel",
            "_view_count": null,
            "_view_module": "@jupyter-widgets/base",
            "_view_module_version": "1.2.0",
            "_view_name": "LayoutView",
            "align_content": null,
            "align_items": null,
            "align_self": null,
            "border": null,
            "bottom": null,
            "display": null,
            "flex": null,
            "flex_flow": null,
            "grid_area": null,
            "grid_auto_columns": null,
            "grid_auto_flow": null,
            "grid_auto_rows": null,
            "grid_column": null,
            "grid_gap": null,
            "grid_row": null,
            "grid_template_areas": null,
            "grid_template_columns": null,
            "grid_template_rows": null,
            "height": null,
            "justify_content": null,
            "justify_items": null,
            "left": null,
            "margin": null,
            "max_height": null,
            "max_width": null,
            "min_height": null,
            "min_width": null,
            "object_fit": null,
            "object_position": null,
            "order": null,
            "overflow": null,
            "overflow_x": null,
            "overflow_y": null,
            "padding": null,
            "right": null,
            "top": null,
            "visibility": null,
            "width": null
          }
        },
        "1a6573b422eb480187b516f4abad385e": {
          "model_module": "@jupyter-widgets/controls",
          "model_name": "ProgressStyleModel",
          "model_module_version": "1.5.0",
          "state": {
            "_model_module": "@jupyter-widgets/controls",
            "_model_module_version": "1.5.0",
            "_model_name": "ProgressStyleModel",
            "_view_count": null,
            "_view_module": "@jupyter-widgets/base",
            "_view_module_version": "1.2.0",
            "_view_name": "StyleView",
            "bar_color": null,
            "description_width": ""
          }
        },
        "7fc4cdf7965b44528511b25c1592d8c8": {
          "model_module": "@jupyter-widgets/base",
          "model_name": "LayoutModel",
          "model_module_version": "1.2.0",
          "state": {
            "_model_module": "@jupyter-widgets/base",
            "_model_module_version": "1.2.0",
            "_model_name": "LayoutModel",
            "_view_count": null,
            "_view_module": "@jupyter-widgets/base",
            "_view_module_version": "1.2.0",
            "_view_name": "LayoutView",
            "align_content": null,
            "align_items": null,
            "align_self": null,
            "border": null,
            "bottom": null,
            "display": null,
            "flex": null,
            "flex_flow": null,
            "grid_area": null,
            "grid_auto_columns": null,
            "grid_auto_flow": null,
            "grid_auto_rows": null,
            "grid_column": null,
            "grid_gap": null,
            "grid_row": null,
            "grid_template_areas": null,
            "grid_template_columns": null,
            "grid_template_rows": null,
            "height": null,
            "justify_content": null,
            "justify_items": null,
            "left": null,
            "margin": null,
            "max_height": null,
            "max_width": null,
            "min_height": null,
            "min_width": null,
            "object_fit": null,
            "object_position": null,
            "order": null,
            "overflow": null,
            "overflow_x": null,
            "overflow_y": null,
            "padding": null,
            "right": null,
            "top": null,
            "visibility": null,
            "width": null
          }
        },
        "cd1a66e4a99242399b86b215131b049d": {
          "model_module": "@jupyter-widgets/controls",
          "model_name": "DescriptionStyleModel",
          "model_module_version": "1.5.0",
          "state": {
            "_model_module": "@jupyter-widgets/controls",
            "_model_module_version": "1.5.0",
            "_model_name": "DescriptionStyleModel",
            "_view_count": null,
            "_view_module": "@jupyter-widgets/base",
            "_view_module_version": "1.2.0",
            "_view_name": "StyleView",
            "description_width": ""
          }
        },
        "2037c1bdf3614ff585a70314d975d95a": {
          "model_module": "@jupyter-widgets/controls",
          "model_name": "HBoxModel",
          "model_module_version": "1.5.0",
          "state": {
            "_dom_classes": [],
            "_model_module": "@jupyter-widgets/controls",
            "_model_module_version": "1.5.0",
            "_model_name": "HBoxModel",
            "_view_count": null,
            "_view_module": "@jupyter-widgets/controls",
            "_view_module_version": "1.5.0",
            "_view_name": "HBoxView",
            "box_style": "",
            "children": [
              "IPY_MODEL_48eaafb475ce48f088f6a420f52ea9eb",
              "IPY_MODEL_1487ee4e2948447ba83c179ca83a427a",
              "IPY_MODEL_93f9e977125345a1ad6f80a10c68eb8c"
            ],
            "layout": "IPY_MODEL_dcee40ad3e944e088fc80ae0f2b4cc52"
          }
        },
        "48eaafb475ce48f088f6a420f52ea9eb": {
          "model_module": "@jupyter-widgets/controls",
          "model_name": "HTMLModel",
          "model_module_version": "1.5.0",
          "state": {
            "_dom_classes": [],
            "_model_module": "@jupyter-widgets/controls",
            "_model_module_version": "1.5.0",
            "_model_name": "HTMLModel",
            "_view_count": null,
            "_view_module": "@jupyter-widgets/controls",
            "_view_module_version": "1.5.0",
            "_view_name": "HTMLView",
            "description": "",
            "description_tooltip": null,
            "layout": "IPY_MODEL_f92e5f7a5b3142e29a031f2d42d4d62e",
            "placeholder": "​",
            "style": "IPY_MODEL_597f93a6b5e84fbea1bac7656fcb9c76",
            "value": "vocab.txt: "
          }
        },
        "1487ee4e2948447ba83c179ca83a427a": {
          "model_module": "@jupyter-widgets/controls",
          "model_name": "FloatProgressModel",
          "model_module_version": "1.5.0",
          "state": {
            "_dom_classes": [],
            "_model_module": "@jupyter-widgets/controls",
            "_model_module_version": "1.5.0",
            "_model_name": "FloatProgressModel",
            "_view_count": null,
            "_view_module": "@jupyter-widgets/controls",
            "_view_module_version": "1.5.0",
            "_view_name": "ProgressView",
            "bar_style": "success",
            "description": "",
            "description_tooltip": null,
            "layout": "IPY_MODEL_80e051e74d8b43feb41666c0e779579e",
            "max": 1,
            "min": 0,
            "orientation": "horizontal",
            "style": "IPY_MODEL_09522ccb20a34404a1ffb401bc5646b7",
            "value": 1
          }
        },
        "93f9e977125345a1ad6f80a10c68eb8c": {
          "model_module": "@jupyter-widgets/controls",
          "model_name": "HTMLModel",
          "model_module_version": "1.5.0",
          "state": {
            "_dom_classes": [],
            "_model_module": "@jupyter-widgets/controls",
            "_model_module_version": "1.5.0",
            "_model_name": "HTMLModel",
            "_view_count": null,
            "_view_module": "@jupyter-widgets/controls",
            "_view_module_version": "1.5.0",
            "_view_name": "HTMLView",
            "description": "",
            "description_tooltip": null,
            "layout": "IPY_MODEL_3c49a04f9e68410ea9af249195bceb62",
            "placeholder": "​",
            "style": "IPY_MODEL_552b03c91ca1459493c9c4c97a16fd8e",
            "value": " 210k/? [00:00&lt;00:00, 7.69MB/s]"
          }
        },
        "dcee40ad3e944e088fc80ae0f2b4cc52": {
          "model_module": "@jupyter-widgets/base",
          "model_name": "LayoutModel",
          "model_module_version": "1.2.0",
          "state": {
            "_model_module": "@jupyter-widgets/base",
            "_model_module_version": "1.2.0",
            "_model_name": "LayoutModel",
            "_view_count": null,
            "_view_module": "@jupyter-widgets/base",
            "_view_module_version": "1.2.0",
            "_view_name": "LayoutView",
            "align_content": null,
            "align_items": null,
            "align_self": null,
            "border": null,
            "bottom": null,
            "display": null,
            "flex": null,
            "flex_flow": null,
            "grid_area": null,
            "grid_auto_columns": null,
            "grid_auto_flow": null,
            "grid_auto_rows": null,
            "grid_column": null,
            "grid_gap": null,
            "grid_row": null,
            "grid_template_areas": null,
            "grid_template_columns": null,
            "grid_template_rows": null,
            "height": null,
            "justify_content": null,
            "justify_items": null,
            "left": null,
            "margin": null,
            "max_height": null,
            "max_width": null,
            "min_height": null,
            "min_width": null,
            "object_fit": null,
            "object_position": null,
            "order": null,
            "overflow": null,
            "overflow_x": null,
            "overflow_y": null,
            "padding": null,
            "right": null,
            "top": null,
            "visibility": null,
            "width": null
          }
        },
        "f92e5f7a5b3142e29a031f2d42d4d62e": {
          "model_module": "@jupyter-widgets/base",
          "model_name": "LayoutModel",
          "model_module_version": "1.2.0",
          "state": {
            "_model_module": "@jupyter-widgets/base",
            "_model_module_version": "1.2.0",
            "_model_name": "LayoutModel",
            "_view_count": null,
            "_view_module": "@jupyter-widgets/base",
            "_view_module_version": "1.2.0",
            "_view_name": "LayoutView",
            "align_content": null,
            "align_items": null,
            "align_self": null,
            "border": null,
            "bottom": null,
            "display": null,
            "flex": null,
            "flex_flow": null,
            "grid_area": null,
            "grid_auto_columns": null,
            "grid_auto_flow": null,
            "grid_auto_rows": null,
            "grid_column": null,
            "grid_gap": null,
            "grid_row": null,
            "grid_template_areas": null,
            "grid_template_columns": null,
            "grid_template_rows": null,
            "height": null,
            "justify_content": null,
            "justify_items": null,
            "left": null,
            "margin": null,
            "max_height": null,
            "max_width": null,
            "min_height": null,
            "min_width": null,
            "object_fit": null,
            "object_position": null,
            "order": null,
            "overflow": null,
            "overflow_x": null,
            "overflow_y": null,
            "padding": null,
            "right": null,
            "top": null,
            "visibility": null,
            "width": null
          }
        },
        "597f93a6b5e84fbea1bac7656fcb9c76": {
          "model_module": "@jupyter-widgets/controls",
          "model_name": "DescriptionStyleModel",
          "model_module_version": "1.5.0",
          "state": {
            "_model_module": "@jupyter-widgets/controls",
            "_model_module_version": "1.5.0",
            "_model_name": "DescriptionStyleModel",
            "_view_count": null,
            "_view_module": "@jupyter-widgets/base",
            "_view_module_version": "1.2.0",
            "_view_name": "StyleView",
            "description_width": ""
          }
        },
        "80e051e74d8b43feb41666c0e779579e": {
          "model_module": "@jupyter-widgets/base",
          "model_name": "LayoutModel",
          "model_module_version": "1.2.0",
          "state": {
            "_model_module": "@jupyter-widgets/base",
            "_model_module_version": "1.2.0",
            "_model_name": "LayoutModel",
            "_view_count": null,
            "_view_module": "@jupyter-widgets/base",
            "_view_module_version": "1.2.0",
            "_view_name": "LayoutView",
            "align_content": null,
            "align_items": null,
            "align_self": null,
            "border": null,
            "bottom": null,
            "display": null,
            "flex": null,
            "flex_flow": null,
            "grid_area": null,
            "grid_auto_columns": null,
            "grid_auto_flow": null,
            "grid_auto_rows": null,
            "grid_column": null,
            "grid_gap": null,
            "grid_row": null,
            "grid_template_areas": null,
            "grid_template_columns": null,
            "grid_template_rows": null,
            "height": null,
            "justify_content": null,
            "justify_items": null,
            "left": null,
            "margin": null,
            "max_height": null,
            "max_width": null,
            "min_height": null,
            "min_width": null,
            "object_fit": null,
            "object_position": null,
            "order": null,
            "overflow": null,
            "overflow_x": null,
            "overflow_y": null,
            "padding": null,
            "right": null,
            "top": null,
            "visibility": null,
            "width": "20px"
          }
        },
        "09522ccb20a34404a1ffb401bc5646b7": {
          "model_module": "@jupyter-widgets/controls",
          "model_name": "ProgressStyleModel",
          "model_module_version": "1.5.0",
          "state": {
            "_model_module": "@jupyter-widgets/controls",
            "_model_module_version": "1.5.0",
            "_model_name": "ProgressStyleModel",
            "_view_count": null,
            "_view_module": "@jupyter-widgets/base",
            "_view_module_version": "1.2.0",
            "_view_name": "StyleView",
            "bar_color": null,
            "description_width": ""
          }
        },
        "3c49a04f9e68410ea9af249195bceb62": {
          "model_module": "@jupyter-widgets/base",
          "model_name": "LayoutModel",
          "model_module_version": "1.2.0",
          "state": {
            "_model_module": "@jupyter-widgets/base",
            "_model_module_version": "1.2.0",
            "_model_name": "LayoutModel",
            "_view_count": null,
            "_view_module": "@jupyter-widgets/base",
            "_view_module_version": "1.2.0",
            "_view_name": "LayoutView",
            "align_content": null,
            "align_items": null,
            "align_self": null,
            "border": null,
            "bottom": null,
            "display": null,
            "flex": null,
            "flex_flow": null,
            "grid_area": null,
            "grid_auto_columns": null,
            "grid_auto_flow": null,
            "grid_auto_rows": null,
            "grid_column": null,
            "grid_gap": null,
            "grid_row": null,
            "grid_template_areas": null,
            "grid_template_columns": null,
            "grid_template_rows": null,
            "height": null,
            "justify_content": null,
            "justify_items": null,
            "left": null,
            "margin": null,
            "max_height": null,
            "max_width": null,
            "min_height": null,
            "min_width": null,
            "object_fit": null,
            "object_position": null,
            "order": null,
            "overflow": null,
            "overflow_x": null,
            "overflow_y": null,
            "padding": null,
            "right": null,
            "top": null,
            "visibility": null,
            "width": null
          }
        },
        "552b03c91ca1459493c9c4c97a16fd8e": {
          "model_module": "@jupyter-widgets/controls",
          "model_name": "DescriptionStyleModel",
          "model_module_version": "1.5.0",
          "state": {
            "_model_module": "@jupyter-widgets/controls",
            "_model_module_version": "1.5.0",
            "_model_name": "DescriptionStyleModel",
            "_view_count": null,
            "_view_module": "@jupyter-widgets/base",
            "_view_module_version": "1.2.0",
            "_view_name": "StyleView",
            "description_width": ""
          }
        },
        "896a2986aa644eb3b146241267018484": {
          "model_module": "@jupyter-widgets/controls",
          "model_name": "HBoxModel",
          "model_module_version": "1.5.0",
          "state": {
            "_dom_classes": [],
            "_model_module": "@jupyter-widgets/controls",
            "_model_module_version": "1.5.0",
            "_model_name": "HBoxModel",
            "_view_count": null,
            "_view_module": "@jupyter-widgets/controls",
            "_view_module_version": "1.5.0",
            "_view_name": "HBoxView",
            "box_style": "",
            "children": [
              "IPY_MODEL_51eb3ef8bf334754948d3c6776e24a5f",
              "IPY_MODEL_d2fe959dabca4c4ab71ae679e590a6f2",
              "IPY_MODEL_23e1b0b5e5e24c508cc4eea16b122e6a"
            ],
            "layout": "IPY_MODEL_ed93dd8620f24d11818b4e78d68156a3"
          }
        },
        "51eb3ef8bf334754948d3c6776e24a5f": {
          "model_module": "@jupyter-widgets/controls",
          "model_name": "HTMLModel",
          "model_module_version": "1.5.0",
          "state": {
            "_dom_classes": [],
            "_model_module": "@jupyter-widgets/controls",
            "_model_module_version": "1.5.0",
            "_model_name": "HTMLModel",
            "_view_count": null,
            "_view_module": "@jupyter-widgets/controls",
            "_view_module_version": "1.5.0",
            "_view_name": "HTMLView",
            "description": "",
            "description_tooltip": null,
            "layout": "IPY_MODEL_f62be7168ca24fd49addc285b514d3d4",
            "placeholder": "​",
            "style": "IPY_MODEL_28aef5523aba4714bddc88b2f9bfb944",
            "value": "added_tokens.json: 100%"
          }
        },
        "d2fe959dabca4c4ab71ae679e590a6f2": {
          "model_module": "@jupyter-widgets/controls",
          "model_name": "FloatProgressModel",
          "model_module_version": "1.5.0",
          "state": {
            "_dom_classes": [],
            "_model_module": "@jupyter-widgets/controls",
            "_model_module_version": "1.5.0",
            "_model_name": "FloatProgressModel",
            "_view_count": null,
            "_view_module": "@jupyter-widgets/controls",
            "_view_module_version": "1.5.0",
            "_view_name": "ProgressView",
            "bar_style": "success",
            "description": "",
            "description_tooltip": null,
            "layout": "IPY_MODEL_51ee567a865a4b1181d1e94cdc64eb7c",
            "max": 2,
            "min": 0,
            "orientation": "horizontal",
            "style": "IPY_MODEL_c8ad2dc556284f80b231000597a11366",
            "value": 2
          }
        },
        "23e1b0b5e5e24c508cc4eea16b122e6a": {
          "model_module": "@jupyter-widgets/controls",
          "model_name": "HTMLModel",
          "model_module_version": "1.5.0",
          "state": {
            "_dom_classes": [],
            "_model_module": "@jupyter-widgets/controls",
            "_model_module_version": "1.5.0",
            "_model_name": "HTMLModel",
            "_view_count": null,
            "_view_module": "@jupyter-widgets/controls",
            "_view_module_version": "1.5.0",
            "_view_name": "HTMLView",
            "description": "",
            "description_tooltip": null,
            "layout": "IPY_MODEL_6dd9a94c3c7b4865b385845e45962ac1",
            "placeholder": "​",
            "style": "IPY_MODEL_3dff1bf6fe4d4cf0985af1c95676153a",
            "value": " 2.00/2.00 [00:00&lt;00:00, 228B/s]"
          }
        },
        "ed93dd8620f24d11818b4e78d68156a3": {
          "model_module": "@jupyter-widgets/base",
          "model_name": "LayoutModel",
          "model_module_version": "1.2.0",
          "state": {
            "_model_module": "@jupyter-widgets/base",
            "_model_module_version": "1.2.0",
            "_model_name": "LayoutModel",
            "_view_count": null,
            "_view_module": "@jupyter-widgets/base",
            "_view_module_version": "1.2.0",
            "_view_name": "LayoutView",
            "align_content": null,
            "align_items": null,
            "align_self": null,
            "border": null,
            "bottom": null,
            "display": null,
            "flex": null,
            "flex_flow": null,
            "grid_area": null,
            "grid_auto_columns": null,
            "grid_auto_flow": null,
            "grid_auto_rows": null,
            "grid_column": null,
            "grid_gap": null,
            "grid_row": null,
            "grid_template_areas": null,
            "grid_template_columns": null,
            "grid_template_rows": null,
            "height": null,
            "justify_content": null,
            "justify_items": null,
            "left": null,
            "margin": null,
            "max_height": null,
            "max_width": null,
            "min_height": null,
            "min_width": null,
            "object_fit": null,
            "object_position": null,
            "order": null,
            "overflow": null,
            "overflow_x": null,
            "overflow_y": null,
            "padding": null,
            "right": null,
            "top": null,
            "visibility": null,
            "width": null
          }
        },
        "f62be7168ca24fd49addc285b514d3d4": {
          "model_module": "@jupyter-widgets/base",
          "model_name": "LayoutModel",
          "model_module_version": "1.2.0",
          "state": {
            "_model_module": "@jupyter-widgets/base",
            "_model_module_version": "1.2.0",
            "_model_name": "LayoutModel",
            "_view_count": null,
            "_view_module": "@jupyter-widgets/base",
            "_view_module_version": "1.2.0",
            "_view_name": "LayoutView",
            "align_content": null,
            "align_items": null,
            "align_self": null,
            "border": null,
            "bottom": null,
            "display": null,
            "flex": null,
            "flex_flow": null,
            "grid_area": null,
            "grid_auto_columns": null,
            "grid_auto_flow": null,
            "grid_auto_rows": null,
            "grid_column": null,
            "grid_gap": null,
            "grid_row": null,
            "grid_template_areas": null,
            "grid_template_columns": null,
            "grid_template_rows": null,
            "height": null,
            "justify_content": null,
            "justify_items": null,
            "left": null,
            "margin": null,
            "max_height": null,
            "max_width": null,
            "min_height": null,
            "min_width": null,
            "object_fit": null,
            "object_position": null,
            "order": null,
            "overflow": null,
            "overflow_x": null,
            "overflow_y": null,
            "padding": null,
            "right": null,
            "top": null,
            "visibility": null,
            "width": null
          }
        },
        "28aef5523aba4714bddc88b2f9bfb944": {
          "model_module": "@jupyter-widgets/controls",
          "model_name": "DescriptionStyleModel",
          "model_module_version": "1.5.0",
          "state": {
            "_model_module": "@jupyter-widgets/controls",
            "_model_module_version": "1.5.0",
            "_model_name": "DescriptionStyleModel",
            "_view_count": null,
            "_view_module": "@jupyter-widgets/base",
            "_view_module_version": "1.2.0",
            "_view_name": "StyleView",
            "description_width": ""
          }
        },
        "51ee567a865a4b1181d1e94cdc64eb7c": {
          "model_module": "@jupyter-widgets/base",
          "model_name": "LayoutModel",
          "model_module_version": "1.2.0",
          "state": {
            "_model_module": "@jupyter-widgets/base",
            "_model_module_version": "1.2.0",
            "_model_name": "LayoutModel",
            "_view_count": null,
            "_view_module": "@jupyter-widgets/base",
            "_view_module_version": "1.2.0",
            "_view_name": "LayoutView",
            "align_content": null,
            "align_items": null,
            "align_self": null,
            "border": null,
            "bottom": null,
            "display": null,
            "flex": null,
            "flex_flow": null,
            "grid_area": null,
            "grid_auto_columns": null,
            "grid_auto_flow": null,
            "grid_auto_rows": null,
            "grid_column": null,
            "grid_gap": null,
            "grid_row": null,
            "grid_template_areas": null,
            "grid_template_columns": null,
            "grid_template_rows": null,
            "height": null,
            "justify_content": null,
            "justify_items": null,
            "left": null,
            "margin": null,
            "max_height": null,
            "max_width": null,
            "min_height": null,
            "min_width": null,
            "object_fit": null,
            "object_position": null,
            "order": null,
            "overflow": null,
            "overflow_x": null,
            "overflow_y": null,
            "padding": null,
            "right": null,
            "top": null,
            "visibility": null,
            "width": null
          }
        },
        "c8ad2dc556284f80b231000597a11366": {
          "model_module": "@jupyter-widgets/controls",
          "model_name": "ProgressStyleModel",
          "model_module_version": "1.5.0",
          "state": {
            "_model_module": "@jupyter-widgets/controls",
            "_model_module_version": "1.5.0",
            "_model_name": "ProgressStyleModel",
            "_view_count": null,
            "_view_module": "@jupyter-widgets/base",
            "_view_module_version": "1.2.0",
            "_view_name": "StyleView",
            "bar_color": null,
            "description_width": ""
          }
        },
        "6dd9a94c3c7b4865b385845e45962ac1": {
          "model_module": "@jupyter-widgets/base",
          "model_name": "LayoutModel",
          "model_module_version": "1.2.0",
          "state": {
            "_model_module": "@jupyter-widgets/base",
            "_model_module_version": "1.2.0",
            "_model_name": "LayoutModel",
            "_view_count": null,
            "_view_module": "@jupyter-widgets/base",
            "_view_module_version": "1.2.0",
            "_view_name": "LayoutView",
            "align_content": null,
            "align_items": null,
            "align_self": null,
            "border": null,
            "bottom": null,
            "display": null,
            "flex": null,
            "flex_flow": null,
            "grid_area": null,
            "grid_auto_columns": null,
            "grid_auto_flow": null,
            "grid_auto_rows": null,
            "grid_column": null,
            "grid_gap": null,
            "grid_row": null,
            "grid_template_areas": null,
            "grid_template_columns": null,
            "grid_template_rows": null,
            "height": null,
            "justify_content": null,
            "justify_items": null,
            "left": null,
            "margin": null,
            "max_height": null,
            "max_width": null,
            "min_height": null,
            "min_width": null,
            "object_fit": null,
            "object_position": null,
            "order": null,
            "overflow": null,
            "overflow_x": null,
            "overflow_y": null,
            "padding": null,
            "right": null,
            "top": null,
            "visibility": null,
            "width": null
          }
        },
        "3dff1bf6fe4d4cf0985af1c95676153a": {
          "model_module": "@jupyter-widgets/controls",
          "model_name": "DescriptionStyleModel",
          "model_module_version": "1.5.0",
          "state": {
            "_model_module": "@jupyter-widgets/controls",
            "_model_module_version": "1.5.0",
            "_model_name": "DescriptionStyleModel",
            "_view_count": null,
            "_view_module": "@jupyter-widgets/base",
            "_view_module_version": "1.2.0",
            "_view_name": "StyleView",
            "description_width": ""
          }
        },
        "5c76aa8bb92247758ba0bd02dce30c4c": {
          "model_module": "@jupyter-widgets/controls",
          "model_name": "HBoxModel",
          "model_module_version": "1.5.0",
          "state": {
            "_dom_classes": [],
            "_model_module": "@jupyter-widgets/controls",
            "_model_module_version": "1.5.0",
            "_model_name": "HBoxModel",
            "_view_count": null,
            "_view_module": "@jupyter-widgets/controls",
            "_view_module_version": "1.5.0",
            "_view_name": "HBoxView",
            "box_style": "",
            "children": [
              "IPY_MODEL_1d5680efdf4941af96f64cd9b9eb1bb1",
              "IPY_MODEL_3cdc36c3eeb54443bb3068db7e9a336c",
              "IPY_MODEL_e40140a7071d422aa8ad9e8c6ca7fa9f"
            ],
            "layout": "IPY_MODEL_8171e260b0f1419abd52b809c2a22031"
          }
        },
        "1d5680efdf4941af96f64cd9b9eb1bb1": {
          "model_module": "@jupyter-widgets/controls",
          "model_name": "HTMLModel",
          "model_module_version": "1.5.0",
          "state": {
            "_dom_classes": [],
            "_model_module": "@jupyter-widgets/controls",
            "_model_module_version": "1.5.0",
            "_model_name": "HTMLModel",
            "_view_count": null,
            "_view_module": "@jupyter-widgets/controls",
            "_view_module_version": "1.5.0",
            "_view_name": "HTMLView",
            "description": "",
            "description_tooltip": null,
            "layout": "IPY_MODEL_ab9c04cfb6fe415b921edb8c449c7e7f",
            "placeholder": "​",
            "style": "IPY_MODEL_831ab76b47e24671a976c230bcba7967",
            "value": "special_tokens_map.json: 100%"
          }
        },
        "3cdc36c3eeb54443bb3068db7e9a336c": {
          "model_module": "@jupyter-widgets/controls",
          "model_name": "FloatProgressModel",
          "model_module_version": "1.5.0",
          "state": {
            "_dom_classes": [],
            "_model_module": "@jupyter-widgets/controls",
            "_model_module_version": "1.5.0",
            "_model_name": "FloatProgressModel",
            "_view_count": null,
            "_view_module": "@jupyter-widgets/controls",
            "_view_module_version": "1.5.0",
            "_view_name": "ProgressView",
            "bar_style": "success",
            "description": "",
            "description_tooltip": null,
            "layout": "IPY_MODEL_6f55f69e358c478ab85a48602acbdaaf",
            "max": 112,
            "min": 0,
            "orientation": "horizontal",
            "style": "IPY_MODEL_8778f1e57ff24d109fe2651f04a4b2c0",
            "value": 112
          }
        },
        "e40140a7071d422aa8ad9e8c6ca7fa9f": {
          "model_module": "@jupyter-widgets/controls",
          "model_name": "HTMLModel",
          "model_module_version": "1.5.0",
          "state": {
            "_dom_classes": [],
            "_model_module": "@jupyter-widgets/controls",
            "_model_module_version": "1.5.0",
            "_model_name": "HTMLModel",
            "_view_count": null,
            "_view_module": "@jupyter-widgets/controls",
            "_view_module_version": "1.5.0",
            "_view_name": "HTMLView",
            "description": "",
            "description_tooltip": null,
            "layout": "IPY_MODEL_32fae8d563154052a3a1f93644e5c538",
            "placeholder": "​",
            "style": "IPY_MODEL_dd5804feeac444a893853bf69482dcfb",
            "value": " 112/112 [00:00&lt;00:00, 11.8kB/s]"
          }
        },
        "8171e260b0f1419abd52b809c2a22031": {
          "model_module": "@jupyter-widgets/base",
          "model_name": "LayoutModel",
          "model_module_version": "1.2.0",
          "state": {
            "_model_module": "@jupyter-widgets/base",
            "_model_module_version": "1.2.0",
            "_model_name": "LayoutModel",
            "_view_count": null,
            "_view_module": "@jupyter-widgets/base",
            "_view_module_version": "1.2.0",
            "_view_name": "LayoutView",
            "align_content": null,
            "align_items": null,
            "align_self": null,
            "border": null,
            "bottom": null,
            "display": null,
            "flex": null,
            "flex_flow": null,
            "grid_area": null,
            "grid_auto_columns": null,
            "grid_auto_flow": null,
            "grid_auto_rows": null,
            "grid_column": null,
            "grid_gap": null,
            "grid_row": null,
            "grid_template_areas": null,
            "grid_template_columns": null,
            "grid_template_rows": null,
            "height": null,
            "justify_content": null,
            "justify_items": null,
            "left": null,
            "margin": null,
            "max_height": null,
            "max_width": null,
            "min_height": null,
            "min_width": null,
            "object_fit": null,
            "object_position": null,
            "order": null,
            "overflow": null,
            "overflow_x": null,
            "overflow_y": null,
            "padding": null,
            "right": null,
            "top": null,
            "visibility": null,
            "width": null
          }
        },
        "ab9c04cfb6fe415b921edb8c449c7e7f": {
          "model_module": "@jupyter-widgets/base",
          "model_name": "LayoutModel",
          "model_module_version": "1.2.0",
          "state": {
            "_model_module": "@jupyter-widgets/base",
            "_model_module_version": "1.2.0",
            "_model_name": "LayoutModel",
            "_view_count": null,
            "_view_module": "@jupyter-widgets/base",
            "_view_module_version": "1.2.0",
            "_view_name": "LayoutView",
            "align_content": null,
            "align_items": null,
            "align_self": null,
            "border": null,
            "bottom": null,
            "display": null,
            "flex": null,
            "flex_flow": null,
            "grid_area": null,
            "grid_auto_columns": null,
            "grid_auto_flow": null,
            "grid_auto_rows": null,
            "grid_column": null,
            "grid_gap": null,
            "grid_row": null,
            "grid_template_areas": null,
            "grid_template_columns": null,
            "grid_template_rows": null,
            "height": null,
            "justify_content": null,
            "justify_items": null,
            "left": null,
            "margin": null,
            "max_height": null,
            "max_width": null,
            "min_height": null,
            "min_width": null,
            "object_fit": null,
            "object_position": null,
            "order": null,
            "overflow": null,
            "overflow_x": null,
            "overflow_y": null,
            "padding": null,
            "right": null,
            "top": null,
            "visibility": null,
            "width": null
          }
        },
        "831ab76b47e24671a976c230bcba7967": {
          "model_module": "@jupyter-widgets/controls",
          "model_name": "DescriptionStyleModel",
          "model_module_version": "1.5.0",
          "state": {
            "_model_module": "@jupyter-widgets/controls",
            "_model_module_version": "1.5.0",
            "_model_name": "DescriptionStyleModel",
            "_view_count": null,
            "_view_module": "@jupyter-widgets/base",
            "_view_module_version": "1.2.0",
            "_view_name": "StyleView",
            "description_width": ""
          }
        },
        "6f55f69e358c478ab85a48602acbdaaf": {
          "model_module": "@jupyter-widgets/base",
          "model_name": "LayoutModel",
          "model_module_version": "1.2.0",
          "state": {
            "_model_module": "@jupyter-widgets/base",
            "_model_module_version": "1.2.0",
            "_model_name": "LayoutModel",
            "_view_count": null,
            "_view_module": "@jupyter-widgets/base",
            "_view_module_version": "1.2.0",
            "_view_name": "LayoutView",
            "align_content": null,
            "align_items": null,
            "align_self": null,
            "border": null,
            "bottom": null,
            "display": null,
            "flex": null,
            "flex_flow": null,
            "grid_area": null,
            "grid_auto_columns": null,
            "grid_auto_flow": null,
            "grid_auto_rows": null,
            "grid_column": null,
            "grid_gap": null,
            "grid_row": null,
            "grid_template_areas": null,
            "grid_template_columns": null,
            "grid_template_rows": null,
            "height": null,
            "justify_content": null,
            "justify_items": null,
            "left": null,
            "margin": null,
            "max_height": null,
            "max_width": null,
            "min_height": null,
            "min_width": null,
            "object_fit": null,
            "object_position": null,
            "order": null,
            "overflow": null,
            "overflow_x": null,
            "overflow_y": null,
            "padding": null,
            "right": null,
            "top": null,
            "visibility": null,
            "width": null
          }
        },
        "8778f1e57ff24d109fe2651f04a4b2c0": {
          "model_module": "@jupyter-widgets/controls",
          "model_name": "ProgressStyleModel",
          "model_module_version": "1.5.0",
          "state": {
            "_model_module": "@jupyter-widgets/controls",
            "_model_module_version": "1.5.0",
            "_model_name": "ProgressStyleModel",
            "_view_count": null,
            "_view_module": "@jupyter-widgets/base",
            "_view_module_version": "1.2.0",
            "_view_name": "StyleView",
            "bar_color": null,
            "description_width": ""
          }
        },
        "32fae8d563154052a3a1f93644e5c538": {
          "model_module": "@jupyter-widgets/base",
          "model_name": "LayoutModel",
          "model_module_version": "1.2.0",
          "state": {
            "_model_module": "@jupyter-widgets/base",
            "_model_module_version": "1.2.0",
            "_model_name": "LayoutModel",
            "_view_count": null,
            "_view_module": "@jupyter-widgets/base",
            "_view_module_version": "1.2.0",
            "_view_name": "LayoutView",
            "align_content": null,
            "align_items": null,
            "align_self": null,
            "border": null,
            "bottom": null,
            "display": null,
            "flex": null,
            "flex_flow": null,
            "grid_area": null,
            "grid_auto_columns": null,
            "grid_auto_flow": null,
            "grid_auto_rows": null,
            "grid_column": null,
            "grid_gap": null,
            "grid_row": null,
            "grid_template_areas": null,
            "grid_template_columns": null,
            "grid_template_rows": null,
            "height": null,
            "justify_content": null,
            "justify_items": null,
            "left": null,
            "margin": null,
            "max_height": null,
            "max_width": null,
            "min_height": null,
            "min_width": null,
            "object_fit": null,
            "object_position": null,
            "order": null,
            "overflow": null,
            "overflow_x": null,
            "overflow_y": null,
            "padding": null,
            "right": null,
            "top": null,
            "visibility": null,
            "width": null
          }
        },
        "dd5804feeac444a893853bf69482dcfb": {
          "model_module": "@jupyter-widgets/controls",
          "model_name": "DescriptionStyleModel",
          "model_module_version": "1.5.0",
          "state": {
            "_model_module": "@jupyter-widgets/controls",
            "_model_module_version": "1.5.0",
            "_model_name": "DescriptionStyleModel",
            "_view_count": null,
            "_view_module": "@jupyter-widgets/base",
            "_view_module_version": "1.2.0",
            "_view_name": "StyleView",
            "description_width": ""
          }
        },
        "ac225bf570e840ca951520673c72c1ec": {
          "model_module": "@jupyter-widgets/controls",
          "model_name": "HBoxModel",
          "model_module_version": "1.5.0",
          "state": {
            "_dom_classes": [],
            "_model_module": "@jupyter-widgets/controls",
            "_model_module_version": "1.5.0",
            "_model_name": "HBoxModel",
            "_view_count": null,
            "_view_module": "@jupyter-widgets/controls",
            "_view_module_version": "1.5.0",
            "_view_name": "HBoxView",
            "box_style": "",
            "children": [
              "IPY_MODEL_20736a59c85a4b0aa1c31860be471915",
              "IPY_MODEL_d8b8fbcbc8b044b5b0e16322ca1d8172",
              "IPY_MODEL_22b1c24875a94586b96aced37e04a1bc"
            ],
            "layout": "IPY_MODEL_cedced7ee1a0446e8c00e49f03ccd4c5"
          }
        },
        "20736a59c85a4b0aa1c31860be471915": {
          "model_module": "@jupyter-widgets/controls",
          "model_name": "HTMLModel",
          "model_module_version": "1.5.0",
          "state": {
            "_dom_classes": [],
            "_model_module": "@jupyter-widgets/controls",
            "_model_module_version": "1.5.0",
            "_model_name": "HTMLModel",
            "_view_count": null,
            "_view_module": "@jupyter-widgets/controls",
            "_view_module_version": "1.5.0",
            "_view_name": "HTMLView",
            "description": "",
            "description_tooltip": null,
            "layout": "IPY_MODEL_1d9cd266c1f5435e93f520a9398740b0",
            "placeholder": "​",
            "style": "IPY_MODEL_e60419fd622342f080b6ebdd77fe7d48",
            "value": "config.json: 100%"
          }
        },
        "d8b8fbcbc8b044b5b0e16322ca1d8172": {
          "model_module": "@jupyter-widgets/controls",
          "model_name": "FloatProgressModel",
          "model_module_version": "1.5.0",
          "state": {
            "_dom_classes": [],
            "_model_module": "@jupyter-widgets/controls",
            "_model_module_version": "1.5.0",
            "_model_name": "FloatProgressModel",
            "_view_count": null,
            "_view_module": "@jupyter-widgets/controls",
            "_view_module_version": "1.5.0",
            "_view_name": "ProgressView",
            "bar_style": "success",
            "description": "",
            "description_tooltip": null,
            "layout": "IPY_MODEL_074442bc911f4d7fa15c218c00d14546",
            "max": 647,
            "min": 0,
            "orientation": "horizontal",
            "style": "IPY_MODEL_758eb560bfc54900b57f07885bf0f184",
            "value": 647
          }
        },
        "22b1c24875a94586b96aced37e04a1bc": {
          "model_module": "@jupyter-widgets/controls",
          "model_name": "HTMLModel",
          "model_module_version": "1.5.0",
          "state": {
            "_dom_classes": [],
            "_model_module": "@jupyter-widgets/controls",
            "_model_module_version": "1.5.0",
            "_model_name": "HTMLModel",
            "_view_count": null,
            "_view_module": "@jupyter-widgets/controls",
            "_view_module_version": "1.5.0",
            "_view_name": "HTMLView",
            "description": "",
            "description_tooltip": null,
            "layout": "IPY_MODEL_5eb99e5468b74bb2bb1cbbad061014be",
            "placeholder": "​",
            "style": "IPY_MODEL_367a8fbdeddb4f6fbfa7fa41ce595e68",
            "value": " 647/647 [00:00&lt;00:00, 29.0kB/s]"
          }
        },
        "cedced7ee1a0446e8c00e49f03ccd4c5": {
          "model_module": "@jupyter-widgets/base",
          "model_name": "LayoutModel",
          "model_module_version": "1.2.0",
          "state": {
            "_model_module": "@jupyter-widgets/base",
            "_model_module_version": "1.2.0",
            "_model_name": "LayoutModel",
            "_view_count": null,
            "_view_module": "@jupyter-widgets/base",
            "_view_module_version": "1.2.0",
            "_view_name": "LayoutView",
            "align_content": null,
            "align_items": null,
            "align_self": null,
            "border": null,
            "bottom": null,
            "display": null,
            "flex": null,
            "flex_flow": null,
            "grid_area": null,
            "grid_auto_columns": null,
            "grid_auto_flow": null,
            "grid_auto_rows": null,
            "grid_column": null,
            "grid_gap": null,
            "grid_row": null,
            "grid_template_areas": null,
            "grid_template_columns": null,
            "grid_template_rows": null,
            "height": null,
            "justify_content": null,
            "justify_items": null,
            "left": null,
            "margin": null,
            "max_height": null,
            "max_width": null,
            "min_height": null,
            "min_width": null,
            "object_fit": null,
            "object_position": null,
            "order": null,
            "overflow": null,
            "overflow_x": null,
            "overflow_y": null,
            "padding": null,
            "right": null,
            "top": null,
            "visibility": null,
            "width": null
          }
        },
        "1d9cd266c1f5435e93f520a9398740b0": {
          "model_module": "@jupyter-widgets/base",
          "model_name": "LayoutModel",
          "model_module_version": "1.2.0",
          "state": {
            "_model_module": "@jupyter-widgets/base",
            "_model_module_version": "1.2.0",
            "_model_name": "LayoutModel",
            "_view_count": null,
            "_view_module": "@jupyter-widgets/base",
            "_view_module_version": "1.2.0",
            "_view_name": "LayoutView",
            "align_content": null,
            "align_items": null,
            "align_self": null,
            "border": null,
            "bottom": null,
            "display": null,
            "flex": null,
            "flex_flow": null,
            "grid_area": null,
            "grid_auto_columns": null,
            "grid_auto_flow": null,
            "grid_auto_rows": null,
            "grid_column": null,
            "grid_gap": null,
            "grid_row": null,
            "grid_template_areas": null,
            "grid_template_columns": null,
            "grid_template_rows": null,
            "height": null,
            "justify_content": null,
            "justify_items": null,
            "left": null,
            "margin": null,
            "max_height": null,
            "max_width": null,
            "min_height": null,
            "min_width": null,
            "object_fit": null,
            "object_position": null,
            "order": null,
            "overflow": null,
            "overflow_x": null,
            "overflow_y": null,
            "padding": null,
            "right": null,
            "top": null,
            "visibility": null,
            "width": null
          }
        },
        "e60419fd622342f080b6ebdd77fe7d48": {
          "model_module": "@jupyter-widgets/controls",
          "model_name": "DescriptionStyleModel",
          "model_module_version": "1.5.0",
          "state": {
            "_model_module": "@jupyter-widgets/controls",
            "_model_module_version": "1.5.0",
            "_model_name": "DescriptionStyleModel",
            "_view_count": null,
            "_view_module": "@jupyter-widgets/base",
            "_view_module_version": "1.2.0",
            "_view_name": "StyleView",
            "description_width": ""
          }
        },
        "074442bc911f4d7fa15c218c00d14546": {
          "model_module": "@jupyter-widgets/base",
          "model_name": "LayoutModel",
          "model_module_version": "1.2.0",
          "state": {
            "_model_module": "@jupyter-widgets/base",
            "_model_module_version": "1.2.0",
            "_model_name": "LayoutModel",
            "_view_count": null,
            "_view_module": "@jupyter-widgets/base",
            "_view_module_version": "1.2.0",
            "_view_name": "LayoutView",
            "align_content": null,
            "align_items": null,
            "align_self": null,
            "border": null,
            "bottom": null,
            "display": null,
            "flex": null,
            "flex_flow": null,
            "grid_area": null,
            "grid_auto_columns": null,
            "grid_auto_flow": null,
            "grid_auto_rows": null,
            "grid_column": null,
            "grid_gap": null,
            "grid_row": null,
            "grid_template_areas": null,
            "grid_template_columns": null,
            "grid_template_rows": null,
            "height": null,
            "justify_content": null,
            "justify_items": null,
            "left": null,
            "margin": null,
            "max_height": null,
            "max_width": null,
            "min_height": null,
            "min_width": null,
            "object_fit": null,
            "object_position": null,
            "order": null,
            "overflow": null,
            "overflow_x": null,
            "overflow_y": null,
            "padding": null,
            "right": null,
            "top": null,
            "visibility": null,
            "width": null
          }
        },
        "758eb560bfc54900b57f07885bf0f184": {
          "model_module": "@jupyter-widgets/controls",
          "model_name": "ProgressStyleModel",
          "model_module_version": "1.5.0",
          "state": {
            "_model_module": "@jupyter-widgets/controls",
            "_model_module_version": "1.5.0",
            "_model_name": "ProgressStyleModel",
            "_view_count": null,
            "_view_module": "@jupyter-widgets/base",
            "_view_module_version": "1.2.0",
            "_view_name": "StyleView",
            "bar_color": null,
            "description_width": ""
          }
        },
        "5eb99e5468b74bb2bb1cbbad061014be": {
          "model_module": "@jupyter-widgets/base",
          "model_name": "LayoutModel",
          "model_module_version": "1.2.0",
          "state": {
            "_model_module": "@jupyter-widgets/base",
            "_model_module_version": "1.2.0",
            "_model_name": "LayoutModel",
            "_view_count": null,
            "_view_module": "@jupyter-widgets/base",
            "_view_module_version": "1.2.0",
            "_view_name": "LayoutView",
            "align_content": null,
            "align_items": null,
            "align_self": null,
            "border": null,
            "bottom": null,
            "display": null,
            "flex": null,
            "flex_flow": null,
            "grid_area": null,
            "grid_auto_columns": null,
            "grid_auto_flow": null,
            "grid_auto_rows": null,
            "grid_column": null,
            "grid_gap": null,
            "grid_row": null,
            "grid_template_areas": null,
            "grid_template_columns": null,
            "grid_template_rows": null,
            "height": null,
            "justify_content": null,
            "justify_items": null,
            "left": null,
            "margin": null,
            "max_height": null,
            "max_width": null,
            "min_height": null,
            "min_width": null,
            "object_fit": null,
            "object_position": null,
            "order": null,
            "overflow": null,
            "overflow_x": null,
            "overflow_y": null,
            "padding": null,
            "right": null,
            "top": null,
            "visibility": null,
            "width": null
          }
        },
        "367a8fbdeddb4f6fbfa7fa41ce595e68": {
          "model_module": "@jupyter-widgets/controls",
          "model_name": "DescriptionStyleModel",
          "model_module_version": "1.5.0",
          "state": {
            "_model_module": "@jupyter-widgets/controls",
            "_model_module_version": "1.5.0",
            "_model_name": "DescriptionStyleModel",
            "_view_count": null,
            "_view_module": "@jupyter-widgets/base",
            "_view_module_version": "1.2.0",
            "_view_name": "StyleView",
            "description_width": ""
          }
        },
        "e31e3b4ac3114f95bd29b0405386d886": {
          "model_module": "@jupyter-widgets/controls",
          "model_name": "HBoxModel",
          "model_module_version": "1.5.0",
          "state": {
            "_dom_classes": [],
            "_model_module": "@jupyter-widgets/controls",
            "_model_module_version": "1.5.0",
            "_model_name": "HBoxModel",
            "_view_count": null,
            "_view_module": "@jupyter-widgets/controls",
            "_view_module_version": "1.5.0",
            "_view_name": "HBoxView",
            "box_style": "",
            "children": [
              "IPY_MODEL_01ce6cbe12ce475a807677b1c709781d",
              "IPY_MODEL_9d8f8552403f45b19bb5a7bd05ca1356",
              "IPY_MODEL_505b8682f65b472e9b2fd7d7fbf32364"
            ],
            "layout": "IPY_MODEL_b2754a524af94396b253591d063c9c63"
          }
        },
        "01ce6cbe12ce475a807677b1c709781d": {
          "model_module": "@jupyter-widgets/controls",
          "model_name": "HTMLModel",
          "model_module_version": "1.5.0",
          "state": {
            "_dom_classes": [],
            "_model_module": "@jupyter-widgets/controls",
            "_model_module_version": "1.5.0",
            "_model_name": "HTMLModel",
            "_view_count": null,
            "_view_module": "@jupyter-widgets/controls",
            "_view_module_version": "1.5.0",
            "_view_name": "HTMLView",
            "description": "",
            "description_tooltip": null,
            "layout": "IPY_MODEL_e193e0a24bcd4e75bea9ef3c86e2eab7",
            "placeholder": "​",
            "style": "IPY_MODEL_e03ed8a16f2345d4b650b2d71a653129",
            "value": "tf_model.h5: 100%"
          }
        },
        "9d8f8552403f45b19bb5a7bd05ca1356": {
          "model_module": "@jupyter-widgets/controls",
          "model_name": "FloatProgressModel",
          "model_module_version": "1.5.0",
          "state": {
            "_dom_classes": [],
            "_model_module": "@jupyter-widgets/controls",
            "_model_module_version": "1.5.0",
            "_model_name": "FloatProgressModel",
            "_view_count": null,
            "_view_module": "@jupyter-widgets/controls",
            "_view_module_version": "1.5.0",
            "_view_name": "ProgressView",
            "bar_style": "success",
            "description": "",
            "description_tooltip": null,
            "layout": "IPY_MODEL_ee76f1a59114487a9fc10f0add360430",
            "max": 529211872,
            "min": 0,
            "orientation": "horizontal",
            "style": "IPY_MODEL_7f006950b2c84cc5b295910579baf219",
            "value": 529211872
          }
        },
        "505b8682f65b472e9b2fd7d7fbf32364": {
          "model_module": "@jupyter-widgets/controls",
          "model_name": "HTMLModel",
          "model_module_version": "1.5.0",
          "state": {
            "_dom_classes": [],
            "_model_module": "@jupyter-widgets/controls",
            "_model_module_version": "1.5.0",
            "_model_name": "HTMLModel",
            "_view_count": null,
            "_view_module": "@jupyter-widgets/controls",
            "_view_module_version": "1.5.0",
            "_view_name": "HTMLView",
            "description": "",
            "description_tooltip": null,
            "layout": "IPY_MODEL_cc410e08ba9c490693d2e7e9b36b0319",
            "placeholder": "​",
            "style": "IPY_MODEL_8570d2edae4b46179b77bc0c2b2a0f39",
            "value": " 529M/529M [00:06&lt;00:00, 79.3MB/s]"
          }
        },
        "b2754a524af94396b253591d063c9c63": {
          "model_module": "@jupyter-widgets/base",
          "model_name": "LayoutModel",
          "model_module_version": "1.2.0",
          "state": {
            "_model_module": "@jupyter-widgets/base",
            "_model_module_version": "1.2.0",
            "_model_name": "LayoutModel",
            "_view_count": null,
            "_view_module": "@jupyter-widgets/base",
            "_view_module_version": "1.2.0",
            "_view_name": "LayoutView",
            "align_content": null,
            "align_items": null,
            "align_self": null,
            "border": null,
            "bottom": null,
            "display": null,
            "flex": null,
            "flex_flow": null,
            "grid_area": null,
            "grid_auto_columns": null,
            "grid_auto_flow": null,
            "grid_auto_rows": null,
            "grid_column": null,
            "grid_gap": null,
            "grid_row": null,
            "grid_template_areas": null,
            "grid_template_columns": null,
            "grid_template_rows": null,
            "height": null,
            "justify_content": null,
            "justify_items": null,
            "left": null,
            "margin": null,
            "max_height": null,
            "max_width": null,
            "min_height": null,
            "min_width": null,
            "object_fit": null,
            "object_position": null,
            "order": null,
            "overflow": null,
            "overflow_x": null,
            "overflow_y": null,
            "padding": null,
            "right": null,
            "top": null,
            "visibility": null,
            "width": null
          }
        },
        "e193e0a24bcd4e75bea9ef3c86e2eab7": {
          "model_module": "@jupyter-widgets/base",
          "model_name": "LayoutModel",
          "model_module_version": "1.2.0",
          "state": {
            "_model_module": "@jupyter-widgets/base",
            "_model_module_version": "1.2.0",
            "_model_name": "LayoutModel",
            "_view_count": null,
            "_view_module": "@jupyter-widgets/base",
            "_view_module_version": "1.2.0",
            "_view_name": "LayoutView",
            "align_content": null,
            "align_items": null,
            "align_self": null,
            "border": null,
            "bottom": null,
            "display": null,
            "flex": null,
            "flex_flow": null,
            "grid_area": null,
            "grid_auto_columns": null,
            "grid_auto_flow": null,
            "grid_auto_rows": null,
            "grid_column": null,
            "grid_gap": null,
            "grid_row": null,
            "grid_template_areas": null,
            "grid_template_columns": null,
            "grid_template_rows": null,
            "height": null,
            "justify_content": null,
            "justify_items": null,
            "left": null,
            "margin": null,
            "max_height": null,
            "max_width": null,
            "min_height": null,
            "min_width": null,
            "object_fit": null,
            "object_position": null,
            "order": null,
            "overflow": null,
            "overflow_x": null,
            "overflow_y": null,
            "padding": null,
            "right": null,
            "top": null,
            "visibility": null,
            "width": null
          }
        },
        "e03ed8a16f2345d4b650b2d71a653129": {
          "model_module": "@jupyter-widgets/controls",
          "model_name": "DescriptionStyleModel",
          "model_module_version": "1.5.0",
          "state": {
            "_model_module": "@jupyter-widgets/controls",
            "_model_module_version": "1.5.0",
            "_model_name": "DescriptionStyleModel",
            "_view_count": null,
            "_view_module": "@jupyter-widgets/base",
            "_view_module_version": "1.2.0",
            "_view_name": "StyleView",
            "description_width": ""
          }
        },
        "ee76f1a59114487a9fc10f0add360430": {
          "model_module": "@jupyter-widgets/base",
          "model_name": "LayoutModel",
          "model_module_version": "1.2.0",
          "state": {
            "_model_module": "@jupyter-widgets/base",
            "_model_module_version": "1.2.0",
            "_model_name": "LayoutModel",
            "_view_count": null,
            "_view_module": "@jupyter-widgets/base",
            "_view_module_version": "1.2.0",
            "_view_name": "LayoutView",
            "align_content": null,
            "align_items": null,
            "align_self": null,
            "border": null,
            "bottom": null,
            "display": null,
            "flex": null,
            "flex_flow": null,
            "grid_area": null,
            "grid_auto_columns": null,
            "grid_auto_flow": null,
            "grid_auto_rows": null,
            "grid_column": null,
            "grid_gap": null,
            "grid_row": null,
            "grid_template_areas": null,
            "grid_template_columns": null,
            "grid_template_rows": null,
            "height": null,
            "justify_content": null,
            "justify_items": null,
            "left": null,
            "margin": null,
            "max_height": null,
            "max_width": null,
            "min_height": null,
            "min_width": null,
            "object_fit": null,
            "object_position": null,
            "order": null,
            "overflow": null,
            "overflow_x": null,
            "overflow_y": null,
            "padding": null,
            "right": null,
            "top": null,
            "visibility": null,
            "width": null
          }
        },
        "7f006950b2c84cc5b295910579baf219": {
          "model_module": "@jupyter-widgets/controls",
          "model_name": "ProgressStyleModel",
          "model_module_version": "1.5.0",
          "state": {
            "_model_module": "@jupyter-widgets/controls",
            "_model_module_version": "1.5.0",
            "_model_name": "ProgressStyleModel",
            "_view_count": null,
            "_view_module": "@jupyter-widgets/base",
            "_view_module_version": "1.2.0",
            "_view_name": "StyleView",
            "bar_color": null,
            "description_width": ""
          }
        },
        "cc410e08ba9c490693d2e7e9b36b0319": {
          "model_module": "@jupyter-widgets/base",
          "model_name": "LayoutModel",
          "model_module_version": "1.2.0",
          "state": {
            "_model_module": "@jupyter-widgets/base",
            "_model_module_version": "1.2.0",
            "_model_name": "LayoutModel",
            "_view_count": null,
            "_view_module": "@jupyter-widgets/base",
            "_view_module_version": "1.2.0",
            "_view_name": "LayoutView",
            "align_content": null,
            "align_items": null,
            "align_self": null,
            "border": null,
            "bottom": null,
            "display": null,
            "flex": null,
            "flex_flow": null,
            "grid_area": null,
            "grid_auto_columns": null,
            "grid_auto_flow": null,
            "grid_auto_rows": null,
            "grid_column": null,
            "grid_gap": null,
            "grid_row": null,
            "grid_template_areas": null,
            "grid_template_columns": null,
            "grid_template_rows": null,
            "height": null,
            "justify_content": null,
            "justify_items": null,
            "left": null,
            "margin": null,
            "max_height": null,
            "max_width": null,
            "min_height": null,
            "min_width": null,
            "object_fit": null,
            "object_position": null,
            "order": null,
            "overflow": null,
            "overflow_x": null,
            "overflow_y": null,
            "padding": null,
            "right": null,
            "top": null,
            "visibility": null,
            "width": null
          }
        },
        "8570d2edae4b46179b77bc0c2b2a0f39": {
          "model_module": "@jupyter-widgets/controls",
          "model_name": "DescriptionStyleModel",
          "model_module_version": "1.5.0",
          "state": {
            "_model_module": "@jupyter-widgets/controls",
            "_model_module_version": "1.5.0",
            "_model_name": "DescriptionStyleModel",
            "_view_count": null,
            "_view_module": "@jupyter-widgets/base",
            "_view_module_version": "1.2.0",
            "_view_name": "StyleView",
            "description_width": ""
          }
        }
      }
    }
  },
  "cells": [
    {
      "cell_type": "markdown",
      "source": [
        "##Importação do *dataset*"
      ],
      "metadata": {
        "id": "A96ACVVh3XDO"
      }
    },
    {
      "cell_type": "code",
      "execution_count": null,
      "metadata": {
        "id": "Fw_Gx_jwW_er",
        "colab": {
          "base_uri": "https://localhost:8080/",
          "height": 423
        },
        "outputId": "532e1013-d6ea-4d5f-ec38-0ffadea5c08e"
      },
      "outputs": [
        {
          "output_type": "execute_result",
          "data": {
            "text/plain": [
              "      index label                                  preprocessed_news\n",
              "0         0  fake  katia abreu diz vai colocar expulsao moldura n...\n",
              "1         1  fake  ray peita bolsonaro conservador fake entrevist...\n",
              "2         2  fake  reinaldo azevedo desmascarado policia federal ...\n",
              "3         3  fake  relatorio assustador bndes mostra dinheiro pub...\n",
              "4         4  fake  radialista americano fala sobre pt vendem ilus...\n",
              "...     ...   ...                                                ...\n",
              "7195   7195  true  jornal britanico acao contra lula lava jato se...\n",
              "7196   7196  true  temer diz acionou pf cade investigar aumentos ...\n",
              "7197   7197  true  obstaculos politicos temer especialistas ouvid...\n",
              "7198   7198  true  setembro boa noite aqui estao principais notic...\n",
              "7199   7199  true  envolvo politica diz brasileiro preso venezuel...\n",
              "\n",
              "[7200 rows x 3 columns]"
            ],
            "text/html": [
              "\n",
              "  <div id=\"df-4043508c-6d30-445f-8239-bbfc93380c52\" class=\"colab-df-container\">\n",
              "    <div>\n",
              "<style scoped>\n",
              "    .dataframe tbody tr th:only-of-type {\n",
              "        vertical-align: middle;\n",
              "    }\n",
              "\n",
              "    .dataframe tbody tr th {\n",
              "        vertical-align: top;\n",
              "    }\n",
              "\n",
              "    .dataframe thead th {\n",
              "        text-align: right;\n",
              "    }\n",
              "</style>\n",
              "<table border=\"1\" class=\"dataframe\">\n",
              "  <thead>\n",
              "    <tr style=\"text-align: right;\">\n",
              "      <th></th>\n",
              "      <th>index</th>\n",
              "      <th>label</th>\n",
              "      <th>preprocessed_news</th>\n",
              "    </tr>\n",
              "  </thead>\n",
              "  <tbody>\n",
              "    <tr>\n",
              "      <th>0</th>\n",
              "      <td>0</td>\n",
              "      <td>fake</td>\n",
              "      <td>katia abreu diz vai colocar expulsao moldura n...</td>\n",
              "    </tr>\n",
              "    <tr>\n",
              "      <th>1</th>\n",
              "      <td>1</td>\n",
              "      <td>fake</td>\n",
              "      <td>ray peita bolsonaro conservador fake entrevist...</td>\n",
              "    </tr>\n",
              "    <tr>\n",
              "      <th>2</th>\n",
              "      <td>2</td>\n",
              "      <td>fake</td>\n",
              "      <td>reinaldo azevedo desmascarado policia federal ...</td>\n",
              "    </tr>\n",
              "    <tr>\n",
              "      <th>3</th>\n",
              "      <td>3</td>\n",
              "      <td>fake</td>\n",
              "      <td>relatorio assustador bndes mostra dinheiro pub...</td>\n",
              "    </tr>\n",
              "    <tr>\n",
              "      <th>4</th>\n",
              "      <td>4</td>\n",
              "      <td>fake</td>\n",
              "      <td>radialista americano fala sobre pt vendem ilus...</td>\n",
              "    </tr>\n",
              "    <tr>\n",
              "      <th>...</th>\n",
              "      <td>...</td>\n",
              "      <td>...</td>\n",
              "      <td>...</td>\n",
              "    </tr>\n",
              "    <tr>\n",
              "      <th>7195</th>\n",
              "      <td>7195</td>\n",
              "      <td>true</td>\n",
              "      <td>jornal britanico acao contra lula lava jato se...</td>\n",
              "    </tr>\n",
              "    <tr>\n",
              "      <th>7196</th>\n",
              "      <td>7196</td>\n",
              "      <td>true</td>\n",
              "      <td>temer diz acionou pf cade investigar aumentos ...</td>\n",
              "    </tr>\n",
              "    <tr>\n",
              "      <th>7197</th>\n",
              "      <td>7197</td>\n",
              "      <td>true</td>\n",
              "      <td>obstaculos politicos temer especialistas ouvid...</td>\n",
              "    </tr>\n",
              "    <tr>\n",
              "      <th>7198</th>\n",
              "      <td>7198</td>\n",
              "      <td>true</td>\n",
              "      <td>setembro boa noite aqui estao principais notic...</td>\n",
              "    </tr>\n",
              "    <tr>\n",
              "      <th>7199</th>\n",
              "      <td>7199</td>\n",
              "      <td>true</td>\n",
              "      <td>envolvo politica diz brasileiro preso venezuel...</td>\n",
              "    </tr>\n",
              "  </tbody>\n",
              "</table>\n",
              "<p>7200 rows × 3 columns</p>\n",
              "</div>\n",
              "    <div class=\"colab-df-buttons\">\n",
              "\n",
              "  <div class=\"colab-df-container\">\n",
              "    <button class=\"colab-df-convert\" onclick=\"convertToInteractive('df-4043508c-6d30-445f-8239-bbfc93380c52')\"\n",
              "            title=\"Convert this dataframe to an interactive table.\"\n",
              "            style=\"display:none;\">\n",
              "\n",
              "  <svg xmlns=\"http://www.w3.org/2000/svg\" height=\"24px\" viewBox=\"0 -960 960 960\">\n",
              "    <path d=\"M120-120v-720h720v720H120Zm60-500h600v-160H180v160Zm220 220h160v-160H400v160Zm0 220h160v-160H400v160ZM180-400h160v-160H180v160Zm440 0h160v-160H620v160ZM180-180h160v-160H180v160Zm440 0h160v-160H620v160Z\"/>\n",
              "  </svg>\n",
              "    </button>\n",
              "\n",
              "  <style>\n",
              "    .colab-df-container {\n",
              "      display:flex;\n",
              "      gap: 12px;\n",
              "    }\n",
              "\n",
              "    .colab-df-convert {\n",
              "      background-color: #E8F0FE;\n",
              "      border: none;\n",
              "      border-radius: 50%;\n",
              "      cursor: pointer;\n",
              "      display: none;\n",
              "      fill: #1967D2;\n",
              "      height: 32px;\n",
              "      padding: 0 0 0 0;\n",
              "      width: 32px;\n",
              "    }\n",
              "\n",
              "    .colab-df-convert:hover {\n",
              "      background-color: #E2EBFA;\n",
              "      box-shadow: 0px 1px 2px rgba(60, 64, 67, 0.3), 0px 1px 3px 1px rgba(60, 64, 67, 0.15);\n",
              "      fill: #174EA6;\n",
              "    }\n",
              "\n",
              "    .colab-df-buttons div {\n",
              "      margin-bottom: 4px;\n",
              "    }\n",
              "\n",
              "    [theme=dark] .colab-df-convert {\n",
              "      background-color: #3B4455;\n",
              "      fill: #D2E3FC;\n",
              "    }\n",
              "\n",
              "    [theme=dark] .colab-df-convert:hover {\n",
              "      background-color: #434B5C;\n",
              "      box-shadow: 0px 1px 3px 1px rgba(0, 0, 0, 0.15);\n",
              "      filter: drop-shadow(0px 1px 2px rgba(0, 0, 0, 0.3));\n",
              "      fill: #FFFFFF;\n",
              "    }\n",
              "  </style>\n",
              "\n",
              "    <script>\n",
              "      const buttonEl =\n",
              "        document.querySelector('#df-4043508c-6d30-445f-8239-bbfc93380c52 button.colab-df-convert');\n",
              "      buttonEl.style.display =\n",
              "        google.colab.kernel.accessAllowed ? 'block' : 'none';\n",
              "\n",
              "      async function convertToInteractive(key) {\n",
              "        const element = document.querySelector('#df-4043508c-6d30-445f-8239-bbfc93380c52');\n",
              "        const dataTable =\n",
              "          await google.colab.kernel.invokeFunction('convertToInteractive',\n",
              "                                                    [key], {});\n",
              "        if (!dataTable) return;\n",
              "\n",
              "        const docLinkHtml = 'Like what you see? Visit the ' +\n",
              "          '<a target=\"_blank\" href=https://colab.research.google.com/notebooks/data_table.ipynb>data table notebook</a>'\n",
              "          + ' to learn more about interactive tables.';\n",
              "        element.innerHTML = '';\n",
              "        dataTable['output_type'] = 'display_data';\n",
              "        await google.colab.output.renderOutput(dataTable, element);\n",
              "        const docLink = document.createElement('div');\n",
              "        docLink.innerHTML = docLinkHtml;\n",
              "        element.appendChild(docLink);\n",
              "      }\n",
              "    </script>\n",
              "  </div>\n",
              "\n",
              "\n",
              "    <div id=\"df-d3fe53dd-5f06-4683-8862-7407b8ac10fe\">\n",
              "      <button class=\"colab-df-quickchart\" onclick=\"quickchart('df-d3fe53dd-5f06-4683-8862-7407b8ac10fe')\"\n",
              "                title=\"Suggest charts\"\n",
              "                style=\"display:none;\">\n",
              "\n",
              "<svg xmlns=\"http://www.w3.org/2000/svg\" height=\"24px\"viewBox=\"0 0 24 24\"\n",
              "     width=\"24px\">\n",
              "    <g>\n",
              "        <path d=\"M19 3H5c-1.1 0-2 .9-2 2v14c0 1.1.9 2 2 2h14c1.1 0 2-.9 2-2V5c0-1.1-.9-2-2-2zM9 17H7v-7h2v7zm4 0h-2V7h2v10zm4 0h-2v-4h2v4z\"/>\n",
              "    </g>\n",
              "</svg>\n",
              "      </button>\n",
              "\n",
              "<style>\n",
              "  .colab-df-quickchart {\n",
              "      --bg-color: #E8F0FE;\n",
              "      --fill-color: #1967D2;\n",
              "      --hover-bg-color: #E2EBFA;\n",
              "      --hover-fill-color: #174EA6;\n",
              "      --disabled-fill-color: #AAA;\n",
              "      --disabled-bg-color: #DDD;\n",
              "  }\n",
              "\n",
              "  [theme=dark] .colab-df-quickchart {\n",
              "      --bg-color: #3B4455;\n",
              "      --fill-color: #D2E3FC;\n",
              "      --hover-bg-color: #434B5C;\n",
              "      --hover-fill-color: #FFFFFF;\n",
              "      --disabled-bg-color: #3B4455;\n",
              "      --disabled-fill-color: #666;\n",
              "  }\n",
              "\n",
              "  .colab-df-quickchart {\n",
              "    background-color: var(--bg-color);\n",
              "    border: none;\n",
              "    border-radius: 50%;\n",
              "    cursor: pointer;\n",
              "    display: none;\n",
              "    fill: var(--fill-color);\n",
              "    height: 32px;\n",
              "    padding: 0;\n",
              "    width: 32px;\n",
              "  }\n",
              "\n",
              "  .colab-df-quickchart:hover {\n",
              "    background-color: var(--hover-bg-color);\n",
              "    box-shadow: 0 1px 2px rgba(60, 64, 67, 0.3), 0 1px 3px 1px rgba(60, 64, 67, 0.15);\n",
              "    fill: var(--button-hover-fill-color);\n",
              "  }\n",
              "\n",
              "  .colab-df-quickchart-complete:disabled,\n",
              "  .colab-df-quickchart-complete:disabled:hover {\n",
              "    background-color: var(--disabled-bg-color);\n",
              "    fill: var(--disabled-fill-color);\n",
              "    box-shadow: none;\n",
              "  }\n",
              "\n",
              "  .colab-df-spinner {\n",
              "    border: 2px solid var(--fill-color);\n",
              "    border-color: transparent;\n",
              "    border-bottom-color: var(--fill-color);\n",
              "    animation:\n",
              "      spin 1s steps(1) infinite;\n",
              "  }\n",
              "\n",
              "  @keyframes spin {\n",
              "    0% {\n",
              "      border-color: transparent;\n",
              "      border-bottom-color: var(--fill-color);\n",
              "      border-left-color: var(--fill-color);\n",
              "    }\n",
              "    20% {\n",
              "      border-color: transparent;\n",
              "      border-left-color: var(--fill-color);\n",
              "      border-top-color: var(--fill-color);\n",
              "    }\n",
              "    30% {\n",
              "      border-color: transparent;\n",
              "      border-left-color: var(--fill-color);\n",
              "      border-top-color: var(--fill-color);\n",
              "      border-right-color: var(--fill-color);\n",
              "    }\n",
              "    40% {\n",
              "      border-color: transparent;\n",
              "      border-right-color: var(--fill-color);\n",
              "      border-top-color: var(--fill-color);\n",
              "    }\n",
              "    60% {\n",
              "      border-color: transparent;\n",
              "      border-right-color: var(--fill-color);\n",
              "    }\n",
              "    80% {\n",
              "      border-color: transparent;\n",
              "      border-right-color: var(--fill-color);\n",
              "      border-bottom-color: var(--fill-color);\n",
              "    }\n",
              "    90% {\n",
              "      border-color: transparent;\n",
              "      border-bottom-color: var(--fill-color);\n",
              "    }\n",
              "  }\n",
              "</style>\n",
              "\n",
              "      <script>\n",
              "        async function quickchart(key) {\n",
              "          const quickchartButtonEl =\n",
              "            document.querySelector('#' + key + ' button');\n",
              "          quickchartButtonEl.disabled = true;  // To prevent multiple clicks.\n",
              "          quickchartButtonEl.classList.add('colab-df-spinner');\n",
              "          try {\n",
              "            const charts = await google.colab.kernel.invokeFunction(\n",
              "                'suggestCharts', [key], {});\n",
              "          } catch (error) {\n",
              "            console.error('Error during call to suggestCharts:', error);\n",
              "          }\n",
              "          quickchartButtonEl.classList.remove('colab-df-spinner');\n",
              "          quickchartButtonEl.classList.add('colab-df-quickchart-complete');\n",
              "        }\n",
              "        (() => {\n",
              "          let quickchartButtonEl =\n",
              "            document.querySelector('#df-d3fe53dd-5f06-4683-8862-7407b8ac10fe button');\n",
              "          quickchartButtonEl.style.display =\n",
              "            google.colab.kernel.accessAllowed ? 'block' : 'none';\n",
              "        })();\n",
              "      </script>\n",
              "    </div>\n",
              "\n",
              "  <div id=\"id_3402b6fd-4f98-4d0a-a5e7-510569358fec\">\n",
              "    <style>\n",
              "      .colab-df-generate {\n",
              "        background-color: #E8F0FE;\n",
              "        border: none;\n",
              "        border-radius: 50%;\n",
              "        cursor: pointer;\n",
              "        display: none;\n",
              "        fill: #1967D2;\n",
              "        height: 32px;\n",
              "        padding: 0 0 0 0;\n",
              "        width: 32px;\n",
              "      }\n",
              "\n",
              "      .colab-df-generate:hover {\n",
              "        background-color: #E2EBFA;\n",
              "        box-shadow: 0px 1px 2px rgba(60, 64, 67, 0.3), 0px 1px 3px 1px rgba(60, 64, 67, 0.15);\n",
              "        fill: #174EA6;\n",
              "      }\n",
              "\n",
              "      [theme=dark] .colab-df-generate {\n",
              "        background-color: #3B4455;\n",
              "        fill: #D2E3FC;\n",
              "      }\n",
              "\n",
              "      [theme=dark] .colab-df-generate:hover {\n",
              "        background-color: #434B5C;\n",
              "        box-shadow: 0px 1px 3px 1px rgba(0, 0, 0, 0.15);\n",
              "        filter: drop-shadow(0px 1px 2px rgba(0, 0, 0, 0.3));\n",
              "        fill: #FFFFFF;\n",
              "      }\n",
              "    </style>\n",
              "    <button class=\"colab-df-generate\" onclick=\"generateWithVariable('dados')\"\n",
              "            title=\"Generate code using this dataframe.\"\n",
              "            style=\"display:none;\">\n",
              "\n",
              "  <svg xmlns=\"http://www.w3.org/2000/svg\" height=\"24px\"viewBox=\"0 0 24 24\"\n",
              "       width=\"24px\">\n",
              "    <path d=\"M7,19H8.4L18.45,9,17,7.55,7,17.6ZM5,21V16.75L18.45,3.32a2,2,0,0,1,2.83,0l1.4,1.43a1.91,1.91,0,0,1,.58,1.4,1.91,1.91,0,0,1-.58,1.4L9.25,21ZM18.45,9,17,7.55Zm-12,3A5.31,5.31,0,0,0,4.9,8.1,5.31,5.31,0,0,0,1,6.5,5.31,5.31,0,0,0,4.9,4.9,5.31,5.31,0,0,0,6.5,1,5.31,5.31,0,0,0,8.1,4.9,5.31,5.31,0,0,0,12,6.5,5.46,5.46,0,0,0,6.5,12Z\"/>\n",
              "  </svg>\n",
              "    </button>\n",
              "    <script>\n",
              "      (() => {\n",
              "      const buttonEl =\n",
              "        document.querySelector('#id_3402b6fd-4f98-4d0a-a5e7-510569358fec button.colab-df-generate');\n",
              "      buttonEl.style.display =\n",
              "        google.colab.kernel.accessAllowed ? 'block' : 'none';\n",
              "\n",
              "      buttonEl.onclick = () => {\n",
              "        google.colab.notebook.generateWithVariable('dados');\n",
              "      }\n",
              "      })();\n",
              "    </script>\n",
              "  </div>\n",
              "\n",
              "    </div>\n",
              "  </div>\n"
            ],
            "application/vnd.google.colaboratory.intrinsic+json": {
              "type": "dataframe",
              "variable_name": "dados",
              "summary": "{\n  \"name\": \"dados\",\n  \"rows\": 7200,\n  \"fields\": [\n    {\n      \"column\": \"index\",\n      \"properties\": {\n        \"dtype\": \"number\",\n        \"std\": 2078,\n        \"min\": 0,\n        \"max\": 7199,\n        \"num_unique_values\": 7200,\n        \"samples\": [\n          3098,\n          2531,\n          4071\n        ],\n        \"semantic_type\": \"\",\n        \"description\": \"\"\n      }\n    },\n    {\n      \"column\": \"label\",\n      \"properties\": {\n        \"dtype\": \"category\",\n        \"num_unique_values\": 2,\n        \"samples\": [\n          \"true\",\n          \"fake\"\n        ],\n        \"semantic_type\": \"\",\n        \"description\": \"\"\n      }\n    },\n    {\n      \"column\": \"preprocessed_news\",\n      \"properties\": {\n        \"dtype\": \"string\",\n        \"num_unique_values\": 7198,\n        \"samples\": [\n          \"setembro boa noite aqui estao principais noticias voce terminar dia esperado encontro lula juiz sergio moro ate nao prolongou tanto pouco momentos tensao dois protagonistas principal entanto ficou momento lula acusa antonio palocci mentir depoimento proprio moro manchetes hoje nao pararam ai wesley batista jbs tambem preso irmao janot segue investigacao temer decisao stf vi palocci mentir aqui depoimento sergio moro hoje curitiba lula chamou fazenda calculista frio disse palocci so citou nome reduzir alguns anos condenacao ouvido hoje audiencia acao acusado receber propina odebrecht compra imoveis confira detalhes depoimento decisao unanime x supremo tribunal federal rejeitou pedido defesa michel temer retirar procurador rodrigo janot investigacoes sobre presidente voto presidente stf carmen lucia disse ministerio publico continuara combate corrupcao apos saida janot pgr proximo domingo instituicoes sao importantes pessoas empresario wesley batista dono j f preso hoje sao paulo irmao joesley detido brasilia desde comeco semana comeco achar crime ter assinado acordo delacao republica disse wesley juiz entendimento policia federal descumprimento acordo delacao premiada rio anthony garotinho pr preso apresentava programa radio ancora radio tupi garotinho condenado comandar esquema fraude eleitoral secretario governo campos pena transformada prisao domiciliar medidas cautelares pesquisa feita pessoas anos aponta jovens nesta faixa etaria nao emprego geracao preparada informada educada historia desempregada disse roberto meir ceo grupo responsavel pesquisa acordo ibge desemprego ficou julho atingindo milhoes pessoas voltou valer sao paulo resolucao limita investigacao policia civil mortes causadas policiais militares decisao tribunal justica derrubou liminar impedia norma colocada pratica medida policiais militares podem apreender todos objetos relacao apuracao homicidios praticado pms fotos morador jundiai sp apareceram perfil falso facebook segundo jornal americano the new york times usadas divulgar conteudo militares russos prejudicar candidatura hillary clinton derrotada donald trump fiquei assustado avisei namorada dar olhada porque nao entendo redes sociais disse charles costacurta veja detalhes montou mesa redonda direito melhores bordoes analises futebolisticas falar rock in rio comeca nesta sexta video mostra substituicoes escalacoes bandas mapa calor cavalinhos banda pedindo musica outras comparacoes festival futebol rosaly lopes astronoma brasileira saiu pais anos hoje ajuda nasa explorar luas saturno rosaly lopes participa missao cassini agencia espacial termina nesta sexta queria ser astronauta crianca descobri cedo sendo menina brasileira miope nao ia conseguir leia entrevista hoje programa especial sobre maior salao automovel mundo reporter andre paixao falou direto frankfurt jornalista luiza tenente destacou carros roubaram cena evento confira top vote preferido\",\n          \"deu louca comunistas deputados pt perdem controle comissao impeachment assistindo comissao impeachment sendo transmitida vivo globo news assusto agressividade deputada jandira feghali patricia carvalho pt desestruturado deputados petralhas fazem parte comissao estao agressivos henrique fontana ja ficando roxo tanto berrar deputada comunista jandira feghali mulher envergonha classe jandira nao representa mulher grossa mal educada agressiva despeitada nao aceita derrota jandira medica fico pensando modo atendia pacientes sabe possa dar socorro henrique fontana homem roxo\"\n        ],\n        \"semantic_type\": \"\",\n        \"description\": \"\"\n      }\n    }\n  ]\n}"
            }
          },
          "metadata": {},
          "execution_count": 16
        }
      ],
      "source": [
        "import pandas as pd\n",
        "\n",
        "dados = pd.read_csv('pre-processed.csv')\n",
        "\n",
        "#separação dos dados:\n",
        "X = dados['preprocessed_news']\n",
        "y = dados['label']\n",
        "dados"
      ]
    },
    {
      "cell_type": "markdown",
      "source": [
        "##Visualização da distribuição de classes no *dataset*"
      ],
      "metadata": {
        "id": "BHacvvpW3iHs"
      }
    },
    {
      "cell_type": "code",
      "source": [
        "import seaborn as sns\n",
        "import matplotlib.pyplot as plt\n",
        "import numpy as np\n",
        "\n",
        "plt.figure(figsize=(6,4))\n",
        "sns.countplot(x=y, hue=y, palette='pastel', legend=False)\n",
        "plt.title(\"Distribuição das Classes\")\n",
        "plt.xlabel(\"Label\")\n",
        "plt.ylabel(\"Quantidade\")\n",
        "plt.yticks(np.arange(0, 3601, 400))\n",
        "plt.show()"
      ],
      "metadata": {
        "colab": {
          "base_uri": "https://localhost:8080/",
          "height": 410
        },
        "id": "Hb8YX2UVX_J0",
        "outputId": "682f41d0-5101-414b-efa3-d9bf50bfbc12"
      },
      "execution_count": null,
      "outputs": [
        {
          "output_type": "display_data",
          "data": {
            "text/plain": [
              "<Figure size 600x400 with 1 Axes>"
            ],
            "image/png": "[encoded data removed]"
          },
          "metadata": {}
        }
      ]
    },
    {
      "cell_type": "markdown",
      "source": [
        "##Bibliotecas usadas:"
      ],
      "metadata": {
        "id": "p_944n4y30V1"
      }
    },
    {
      "cell_type": "code",
      "source": [
        "from sklearn.model_selection import train_test_split\n",
        "from sklearn.naive_bayes import MultinomialNB\n",
        "from sklearn.neighbors import KNeighborsClassifier\n",
        "from sklearn.feature_extraction.text import CountVectorizer, TfidfVectorizer\n",
        "from sklearn.naive_bayes import MultinomialNB # naive_bayes\n",
        "from sklearn.svm import LinearSVC # SVM\n",
        "from sklearn.metrics import accuracy_score, confusion_matrix\n",
        "import time # tempo de execução dos algoritmos"
      ],
      "metadata": {
        "id": "0LclC8_d3xXo"
      },
      "execution_count": null,
      "outputs": []
    },
    {
      "cell_type": "markdown",
      "source": [
        "##Separação dos dados, sendo 70% para treino e 30% para teste:"
      ],
      "metadata": {
        "id": "A3qQar7n4BNP"
      }
    },
    {
      "cell_type": "code",
      "source": [
        "X_train, X_test, y_train, y_test = train_test_split(X, y, test_size=0.3, random_state=13) #30% para teste"
      ],
      "metadata": {
        "id": "M6x1kb1G4Mgg"
      },
      "execution_count": null,
      "outputs": []
    },
    {
      "cell_type": "markdown",
      "source": [
        "#1. K-nearest neighbors (KNN):"
      ],
      "metadata": {
        "id": "I52cCSj_JCkT"
      }
    },
    {
      "cell_type": "code",
      "source": [
        "print(\"========= K-nearest neighbors (KNN) =========\")"
      ],
      "metadata": {
        "colab": {
          "base_uri": "https://localhost:8080/"
        },
        "id": "iFioM0L9JTxQ",
        "outputId": "4bc8cc3a-96a8-44da-8601-5a31ef90b464"
      },
      "execution_count": null,
      "outputs": [
        {
          "output_type": "stream",
          "name": "stdout",
          "text": [
            "========= K-nearest neighbors (KNN) =========\n"
          ]
        }
      ]
    },
    {
      "cell_type": "markdown",
      "source": [
        "## - Vetorização usada: *Bag-of-words*\n",
        "\n"
      ],
      "metadata": {
        "id": "d1BGmmPmKe-W"
      }
    },
    {
      "cell_type": "code",
      "source": [
        "# usando bag of words\n",
        "bag_vetor = CountVectorizer()\n",
        "X_train_bag = bag_vetor.fit_transform(X_train)\n",
        "X_test_bag = bag_vetor.transform(X_test)"
      ],
      "metadata": {
        "id": "Zxm-FpBiKat4"
      },
      "execution_count": null,
      "outputs": []
    },
    {
      "cell_type": "markdown",
      "source": [
        "Treino:"
      ],
      "metadata": {
        "id": "PCjE_LBlLDMr"
      }
    },
    {
      "cell_type": "code",
      "source": [
        "start = time.time() #tempo do treino\n",
        "knn_bag = KNeighborsClassifier(n_neighbors=3)\n",
        "knn_bag.fit(X_train_bag, y_train)\n",
        "treino_knn_bow = time.time() - start #tempo do treino"
      ],
      "metadata": {
        "id": "ES2KdxvlLAqv"
      },
      "execution_count": null,
      "outputs": []
    },
    {
      "cell_type": "markdown",
      "source": [
        "Teste (Predição):"
      ],
      "metadata": {
        "id": "vRa3PIKbLJ88"
      }
    },
    {
      "cell_type": "code",
      "source": [
        "start = time.time() #tempo do teste\n",
        "y_pred_bag = knn_bag.predict(X_test_bag)\n",
        "teste_knn_bow = time.time() - start #tempo do teste"
      ],
      "metadata": {
        "id": "lSUcUJ_vLLuI"
      },
      "execution_count": null,
      "outputs": []
    },
    {
      "cell_type": "markdown",
      "source": [
        "Acurácia:"
      ],
      "metadata": {
        "id": "b9ZIxTngLUz_"
      }
    },
    {
      "cell_type": "code",
      "source": [
        "#calcular acuracia:\n",
        "acuracia_knn_bow = accuracy_score(y_test, y_pred_bag)\n",
        "print(\"Acurácia do KNN usando bag-of-words:\", acuracia_knn_bow)"
      ],
      "metadata": {
        "colab": {
          "base_uri": "https://localhost:8080/"
        },
        "id": "xf1edhhULbh-",
        "outputId": "742b4ede-8522-4523-babe-1600b2c3aeed"
      },
      "execution_count": null,
      "outputs": [
        {
          "output_type": "stream",
          "name": "stdout",
          "text": [
            "Acurácia do KNN usando bag-of-words: 0.7046296296296296\n"
          ]
        }
      ]
    },
    {
      "cell_type": "markdown",
      "source": [
        "Matriz de confusão:"
      ],
      "metadata": {
        "id": "JscKT8P0LkCS"
      }
    },
    {
      "cell_type": "code",
      "source": [
        "#matriz de confusão\n",
        "mc_bag = confusion_matrix(y_test, y_pred_bag, labels=knn_bag.classes_)\n",
        "sns.heatmap(mc_bag, annot=True, fmt=\"d\", xticklabels=knn_bag.classes_, yticklabels=knn_bag.classes_)\n",
        "plt.title(\"Matriz de Confusão do KNN - Bag-of-Words\")\n",
        "plt.xlabel(\"Valores previstos\")\n",
        "plt.ylabel(\"Valores reais\")\n",
        "plt.show()"
      ],
      "metadata": {
        "colab": {
          "base_uri": "https://localhost:8080/",
          "height": 472
        },
        "id": "0uDC3_r4LmAu",
        "outputId": "aecb3131-1694-4c9b-84e3-f9d0dfc225cd"
      },
      "execution_count": null,
      "outputs": [
        {
          "output_type": "display_data",
          "data": {
            "text/plain": [
              "<Figure size 640x480 with 2 Axes>"
            ],
            "image/png": "[encoded data removed]"
          },
          "metadata": {}
        }
      ]
    },
    {
      "cell_type": "markdown",
      "source": [
        "## - Vetorização usada: TF-IDF"
      ],
      "metadata": {
        "id": "Xo6_A5XkL1cp"
      }
    },
    {
      "cell_type": "code",
      "source": [
        "#usando TF-IDF\n",
        "tfidf_vetor = TfidfVectorizer()\n",
        "X_train_tfidf = tfidf_vetor.fit_transform(X_train)\n",
        "X_test_tfidf = tfidf_vetor.transform(X_test)"
      ],
      "metadata": {
        "id": "Bs05t0ovL6Y9"
      },
      "execution_count": null,
      "outputs": []
    },
    {
      "cell_type": "markdown",
      "source": [
        "Treino:"
      ],
      "metadata": {
        "id": "4aEoOkamMJER"
      }
    },
    {
      "cell_type": "code",
      "source": [
        "start = time.time() #tempo do treino\n",
        "knn_tfidf = KNeighborsClassifier(n_neighbors=3)\n",
        "knn_tfidf.fit(X_train_tfidf, y_train)\n",
        "treino_knn_tfidf = time.time() - start #tempo do treino"
      ],
      "metadata": {
        "id": "GPuW_K_OMLob"
      },
      "execution_count": null,
      "outputs": []
    },
    {
      "cell_type": "markdown",
      "source": [
        "Teste:"
      ],
      "metadata": {
        "id": "YMtfnhXUMPxr"
      }
    },
    {
      "cell_type": "code",
      "source": [
        "start = time.time() #tempo do teste\n",
        "y_pred_tfidf = knn_tfidf.predict(X_test_tfidf)\n",
        "teste_knn_tfidf = time.time() - start #tempo do teste"
      ],
      "metadata": {
        "id": "P-nWOPf5MQ27"
      },
      "execution_count": null,
      "outputs": []
    },
    {
      "cell_type": "markdown",
      "source": [
        "Acurácia:"
      ],
      "metadata": {
        "id": "5QzxJdAGMToz"
      }
    },
    {
      "cell_type": "code",
      "source": [
        "#calcular acuracia:\n",
        "acuracia_knn_tfidf = accuracy_score(y_test, y_pred_tfidf)\n",
        "print(\"Acurácia do KNN usando TF-IDF:\", acuracia_knn_tfidf)"
      ],
      "metadata": {
        "colab": {
          "base_uri": "https://localhost:8080/"
        },
        "id": "nOU80pBUMVNe",
        "outputId": "3b3a63a3-befd-4c41-d095-78447f9b0934"
      },
      "execution_count": null,
      "outputs": [
        {
          "output_type": "stream",
          "name": "stdout",
          "text": [
            "Acurácia do KNN usando TF-IDF: 0.6893518518518519\n"
          ]
        }
      ]
    },
    {
      "cell_type": "markdown",
      "source": [
        "Matriz de confusão:"
      ],
      "metadata": {
        "id": "Drk-uHuUMYuM"
      }
    },
    {
      "cell_type": "code",
      "source": [
        "#matriz de confusão\n",
        "mc_tfidf = confusion_matrix(y_test, y_pred_tfidf, labels=knn_tfidf.classes_)\n",
        "sns.heatmap(mc_tfidf, annot=True, fmt=\"d\", xticklabels=knn_tfidf.classes_, yticklabels=knn_tfidf.classes_)\n",
        "plt.title(\"Matriz de Confusão do KNN - TF-IDF\")\n",
        "plt.xlabel(\"Valores previstos\")\n",
        "plt.ylabel(\"Valores reais\")\n",
        "plt.show()"
      ],
      "metadata": {
        "colab": {
          "base_uri": "https://localhost:8080/",
          "height": 472
        },
        "id": "lFe62S23Maue",
        "outputId": "e8efa1fc-8951-4d5f-b39e-53ac4f51a3d5"
      },
      "execution_count": null,
      "outputs": [
        {
          "output_type": "display_data",
          "data": {
            "text/plain": [
              "<Figure size 640x480 with 2 Axes>"
            ],
            "image/png": "[encoded data removed]"
          },
          "metadata": {}
        }
      ]
    },
    {
      "cell_type": "markdown",
      "source": [
        "#2. Naive Bayes:"
      ],
      "metadata": {
        "id": "iL2LAZwiMdp9"
      }
    },
    {
      "cell_type": "code",
      "source": [
        "print(\"============= Naive Bayes =============\")"
      ],
      "metadata": {
        "colab": {
          "base_uri": "https://localhost:8080/"
        },
        "id": "GtvyC1DvMjUs",
        "outputId": "9eafaa33-2d72-4ab5-fec3-1547a9901b3a"
      },
      "execution_count": null,
      "outputs": [
        {
          "output_type": "stream",
          "name": "stdout",
          "text": [
            "============= Naive Bayes =============\n"
          ]
        }
      ]
    },
    {
      "cell_type": "markdown",
      "source": [
        "## - Vetorização usada: *Bag-of-words*"
      ],
      "metadata": {
        "id": "K34i7C5nMsVr"
      }
    },
    {
      "cell_type": "code",
      "source": [
        "# usando bag of words\n",
        "bag_vetor = CountVectorizer()\n",
        "X_train_bag = bag_vetor.fit_transform(X_train)\n",
        "X_test_bag = bag_vetor.transform(X_test)"
      ],
      "metadata": {
        "id": "FwQR-aGWMxK8"
      },
      "execution_count": null,
      "outputs": []
    },
    {
      "cell_type": "markdown",
      "source": [
        "Treino:"
      ],
      "metadata": {
        "id": "5sXxvBeeM00i"
      }
    },
    {
      "cell_type": "code",
      "source": [
        "start = time.time() #tempo de treino\n",
        "nb_bag = MultinomialNB()\n",
        "nb_bag.fit(X_train_bag, y_train)\n",
        "treino_nb_bow = time.time() - start #tempo do treino"
      ],
      "metadata": {
        "id": "tXmYCdz2M1yc"
      },
      "execution_count": null,
      "outputs": []
    },
    {
      "cell_type": "markdown",
      "source": [
        "Teste:"
      ],
      "metadata": {
        "id": "NQ4uE4_aM3wR"
      }
    },
    {
      "cell_type": "code",
      "source": [
        "start = time.time() #tempo do teste\n",
        "y_pred_bag = nb_bag.predict(X_test_bag)\n",
        "teste_nb_bow = time.time() - start #tempo do teste"
      ],
      "metadata": {
        "id": "UpTZAeImM4s0"
      },
      "execution_count": null,
      "outputs": []
    },
    {
      "cell_type": "markdown",
      "source": [
        "Acurácia:"
      ],
      "metadata": {
        "id": "hqNpnJBaM7M3"
      }
    },
    {
      "cell_type": "code",
      "source": [
        "#calcular acuracia:\n",
        "acuracia_nb_bow = accuracy_score(y_test, y_pred_bag)\n",
        "print(\"Acurácia do Naive Bayes usando bag-of-words:\", acuracia_nb_bow)"
      ],
      "metadata": {
        "colab": {
          "base_uri": "https://localhost:8080/"
        },
        "id": "IZ64XyKOM8Kf",
        "outputId": "b32d0fc6-403c-4da9-9ce5-9a8284b52b3f"
      },
      "execution_count": null,
      "outputs": [
        {
          "output_type": "stream",
          "name": "stdout",
          "text": [
            "Acurácia do Naive Bayes usando bag-of-words: 0.8199074074074074\n"
          ]
        }
      ]
    },
    {
      "cell_type": "markdown",
      "source": [
        "Matriz de confusão:"
      ],
      "metadata": {
        "id": "gxzaOb44NBI7"
      }
    },
    {
      "cell_type": "code",
      "source": [
        "#matriz de confusão\n",
        "mc_bag = confusion_matrix(y_test, y_pred_bag, labels=nb_bag.classes_)\n",
        "sns.heatmap(mc_bag, annot=True, fmt=\"d\", xticklabels=nb_bag.classes_, yticklabels=nb_bag.classes_)\n",
        "plt.title(\"Matriz de Confusão do Naive Bayes - Bag-of-Words\")\n",
        "plt.xlabel(\"Valores previstos\")\n",
        "plt.ylabel(\"Valores reais\")\n",
        "plt.show()"
      ],
      "metadata": {
        "colab": {
          "base_uri": "https://localhost:8080/",
          "height": 472
        },
        "id": "DQUeWRfHNDj7",
        "outputId": "9f4c798a-5fa8-425c-c803-516a1861a78c"
      },
      "execution_count": null,
      "outputs": [
        {
          "output_type": "display_data",
          "data": {
            "text/plain": [
              "<Figure size 640x480 with 2 Axes>"
            ],
            "image/png": "[encoded data removed]"
          },
          "metadata": {}
        }
      ]
    },
    {
      "cell_type": "markdown",
      "source": [
        "## - Vetorização usada: TF-IDF"
      ],
      "metadata": {
        "id": "5O-eDw7fNMWh"
      }
    },
    {
      "cell_type": "code",
      "source": [
        "#usando TF-IDF\n",
        "tfidf_vetor = TfidfVectorizer()\n",
        "X_train_tfidf = tfidf_vetor.fit_transform(X_train)\n",
        "X_test_tfidf = tfidf_vetor.transform(X_test)"
      ],
      "metadata": {
        "id": "Y4wZbCwUNQKP"
      },
      "execution_count": null,
      "outputs": []
    },
    {
      "cell_type": "markdown",
      "source": [
        "Treino:"
      ],
      "metadata": {
        "id": "zd2yx8ZyNVeI"
      }
    },
    {
      "cell_type": "code",
      "source": [
        "start = time.time() #tempo de treino\n",
        "nb_tfidf = MultinomialNB()\n",
        "nb_tfidf.fit(X_train_tfidf, y_train)\n",
        "treino_nb_tfidf = time.time() - start #tempo do treino"
      ],
      "metadata": {
        "id": "Tto412VPNWfI"
      },
      "execution_count": null,
      "outputs": []
    },
    {
      "cell_type": "markdown",
      "source": [
        "Teste:"
      ],
      "metadata": {
        "id": "rmLyMc9WNZLj"
      }
    },
    {
      "cell_type": "code",
      "source": [
        "start = time.time() #tempo de teste\n",
        "y_pred_tfidf = nb_tfidf.predict(X_test_tfidf)\n",
        "teste_nb_tfidf = time.time() - start #tempo do teste"
      ],
      "metadata": {
        "id": "VmLrV5PGNZ-W"
      },
      "execution_count": null,
      "outputs": []
    },
    {
      "cell_type": "markdown",
      "source": [
        "Acurácia:"
      ],
      "metadata": {
        "id": "RJ4RGrPjNbhd"
      }
    },
    {
      "cell_type": "code",
      "source": [
        "#calcular acuracia:\n",
        "acuracia_nb_tfidf = accuracy_score(y_test, y_pred_tfidf)\n",
        "print(\"Acurácia do Naive Bayes usando TF-IDF:\", acuracia_nb_tfidf)"
      ],
      "metadata": {
        "colab": {
          "base_uri": "https://localhost:8080/"
        },
        "id": "dKJN5-bwNcck",
        "outputId": "3be787aa-ec09-4ebe-906d-1e9d11a56342"
      },
      "execution_count": null,
      "outputs": [
        {
          "output_type": "stream",
          "name": "stdout",
          "text": [
            "Acurácia do Naive Bayes usando TF-IDF: 0.5925925925925926\n"
          ]
        }
      ]
    },
    {
      "cell_type": "markdown",
      "source": [
        "Matriz de confusão:"
      ],
      "metadata": {
        "id": "V0GU4pEFNf5T"
      }
    },
    {
      "cell_type": "code",
      "source": [
        "#matriz de confusão\n",
        "mc_tfidf = confusion_matrix(y_test, y_pred_tfidf, labels=nb_tfidf.classes_)\n",
        "sns.heatmap(mc_tfidf, annot=True, fmt=\"d\", xticklabels=nb_tfidf.classes_, yticklabels=nb_tfidf.classes_)\n",
        "plt.title(\"Matriz de Confusão do Naive Bayes - TF-IDF\")\n",
        "plt.xlabel(\"Valores previstos\")\n",
        "plt.ylabel(\"Valores reais\")\n",
        "plt.show()"
      ],
      "metadata": {
        "colab": {
          "base_uri": "https://localhost:8080/",
          "height": 472
        },
        "id": "-E649kUoNfcy",
        "outputId": "334bb8ac-b04e-4a54-a949-eb3788e74c09"
      },
      "execution_count": null,
      "outputs": [
        {
          "output_type": "display_data",
          "data": {
            "text/plain": [
              "<Figure size 640x480 with 2 Axes>"
            ],
            "image/png": "[encoded data removed]"
          },
          "metadata": {}
        }
      ]
    },
    {
      "cell_type": "markdown",
      "source": [
        "#3. Support Vector Machine (SVM)"
      ],
      "metadata": {
        "id": "DOj5N7xcNl3Q"
      }
    },
    {
      "cell_type": "code",
      "source": [
        "print(\"============= SVM =============\")"
      ],
      "metadata": {
        "colab": {
          "base_uri": "https://localhost:8080/"
        },
        "id": "qqyQz_sdN0JB",
        "outputId": "b1782199-9cc0-47e8-b57d-5de61f622943"
      },
      "execution_count": null,
      "outputs": [
        {
          "output_type": "stream",
          "name": "stdout",
          "text": [
            "============= SVM =============\n"
          ]
        }
      ]
    },
    {
      "cell_type": "markdown",
      "source": [
        "## - Vetorização usada: *Bag-of-words*"
      ],
      "metadata": {
        "id": "x6P384atNuL-"
      }
    },
    {
      "cell_type": "code",
      "source": [
        "# usando bag of words\n",
        "bag_vetor = CountVectorizer()\n",
        "X_train_bag = bag_vetor.fit_transform(X_train)\n",
        "X_test_bag = bag_vetor.transform(X_test)"
      ],
      "metadata": {
        "id": "gPvQ0MWqNzED"
      },
      "execution_count": null,
      "outputs": []
    },
    {
      "cell_type": "markdown",
      "source": [
        "Treino:"
      ],
      "metadata": {
        "id": "2mUItzRjOBwO"
      }
    },
    {
      "cell_type": "code",
      "source": [
        "start = time.time() #tempo do treino\n",
        "svm_bag = LinearSVC()\n",
        "svm_bag.fit(X_train_bag, y_train)\n",
        "treino_svm_bow = time.time() - start #tempo do treino"
      ],
      "metadata": {
        "id": "Y6eDzTk4OC_T"
      },
      "execution_count": null,
      "outputs": []
    },
    {
      "cell_type": "markdown",
      "source": [
        "Teste:"
      ],
      "metadata": {
        "id": "iyV5AxwnOGlF"
      }
    },
    {
      "cell_type": "code",
      "source": [
        "start = time.time() #tempo do teste\n",
        "y_pred_bag = svm_bag.predict(X_test_bag)\n",
        "teste_svm_bow = time.time() - start #tempo do teste"
      ],
      "metadata": {
        "id": "JuS6bZZBOHgV"
      },
      "execution_count": null,
      "outputs": []
    },
    {
      "cell_type": "markdown",
      "source": [
        "Acurácia:"
      ],
      "metadata": {
        "id": "598VTKNMOKAt"
      }
    },
    {
      "cell_type": "code",
      "source": [
        "#calcular acuracia:\n",
        "acuracia_svm_bow = accuracy_score(y_test, y_pred_bag)\n",
        "print(\"Acurácia do SVM usando bag-of-words:\", acuracia_svm_bow)"
      ],
      "metadata": {
        "colab": {
          "base_uri": "https://localhost:8080/"
        },
        "id": "w1GYxkgOOLHn",
        "outputId": "f96ba4c7-92ad-4e42-b0f3-857bd5695004"
      },
      "execution_count": null,
      "outputs": [
        {
          "output_type": "stream",
          "name": "stdout",
          "text": [
            "Acurácia do SVM usando bag-of-words: 0.9574074074074074\n"
          ]
        }
      ]
    },
    {
      "cell_type": "markdown",
      "source": [
        "Matriz de confusão:"
      ],
      "metadata": {
        "id": "YwTgPVv5OQGU"
      }
    },
    {
      "cell_type": "code",
      "source": [
        "#matriz de confusão\n",
        "mc_bag = confusion_matrix(y_test, y_pred_bag, labels=svm_bag.classes_)\n",
        "sns.heatmap(mc_bag, annot=True, fmt=\"d\", xticklabels=svm_bag.classes_, yticklabels=svm_bag.classes_)\n",
        "plt.title(\"Matriz de Confusão do SVM - Bag-of-Words\")\n",
        "plt.xlabel(\"Valores previstos\")\n",
        "plt.ylabel(\"Valores reais\")\n",
        "plt.show()"
      ],
      "metadata": {
        "colab": {
          "base_uri": "https://localhost:8080/",
          "height": 472
        },
        "id": "vfLMNLHrORx6",
        "outputId": "8962bd41-54a6-4dff-cbd5-8e07536764f9"
      },
      "execution_count": null,
      "outputs": [
        {
          "output_type": "display_data",
          "data": {
            "text/plain": [
              "<Figure size 640x480 with 2 Axes>"
            ],
            "image/png": "[encoded data removed]"
          },
          "metadata": {}
        }
      ]
    },
    {
      "cell_type": "markdown",
      "source": [
        "## - Vetorização usada: TF-IDF"
      ],
      "metadata": {
        "id": "Tv4M1U8zOmI0"
      }
    },
    {
      "cell_type": "code",
      "source": [
        "#usando TF-IDF\n",
        "tfidf_vetor = TfidfVectorizer()\n",
        "X_train_tfidf = tfidf_vetor.fit_transform(X_train)\n",
        "X_test_tfidf = tfidf_vetor.transform(X_test)"
      ],
      "metadata": {
        "id": "Ct0azaxtOpGM"
      },
      "execution_count": null,
      "outputs": []
    },
    {
      "cell_type": "markdown",
      "source": [
        "Treino:"
      ],
      "metadata": {
        "id": "ORAqpwwPOqwc"
      }
    },
    {
      "cell_type": "code",
      "source": [
        "start = time.time() #tempo do treino\n",
        "svm_tfidf = LinearSVC()\n",
        "treino_svm_tfidf = time.time() - start #tempo do treino"
      ],
      "metadata": {
        "id": "GwZTbe6VOtJM"
      },
      "execution_count": null,
      "outputs": []
    },
    {
      "cell_type": "markdown",
      "source": [
        "Teste:"
      ],
      "metadata": {
        "id": "35umeh3XOvXK"
      }
    },
    {
      "cell_type": "code",
      "source": [
        "svm_tfidf.fit(X_train_tfidf, y_train)\n",
        "start = time.time() #tempo do teste\n",
        "y_pred_tfidf = svm_tfidf.predict(X_test_tfidf)\n",
        "teste_svm_tfidf = time.time() - start #tempo do teste"
      ],
      "metadata": {
        "id": "fElGWog4OwcK"
      },
      "execution_count": null,
      "outputs": []
    },
    {
      "cell_type": "markdown",
      "source": [
        "Acurácia:"
      ],
      "metadata": {
        "id": "E8HOIii7Ox_i"
      }
    },
    {
      "cell_type": "code",
      "source": [
        "#calcular acuracia:\n",
        "acuracia_svm_tfidf = accuracy_score(y_test, y_pred_tfidf)\n",
        "print(\"Acurácia do SVM usando TF-IDF:\", acuracia_svm_tfidf)"
      ],
      "metadata": {
        "colab": {
          "base_uri": "https://localhost:8080/"
        },
        "id": "ejvo7YnzOzA2",
        "outputId": "28fe5cdf-cd17-4ef2-ee8e-49d381ef6349"
      },
      "execution_count": null,
      "outputs": [
        {
          "output_type": "stream",
          "name": "stdout",
          "text": [
            "Acurácia do SVM usando TF-IDF: 0.9574074074074074\n"
          ]
        }
      ]
    },
    {
      "cell_type": "markdown",
      "source": [
        "Matriz de confusão:"
      ],
      "metadata": {
        "id": "Zn10snx4O42F"
      }
    },
    {
      "cell_type": "code",
      "source": [
        "#matriz de confusão\n",
        "mc_tfidf = confusion_matrix(y_test, y_pred_tfidf, labels=svm_tfidf.classes_)\n",
        "sns.heatmap(mc_tfidf, annot=True, fmt=\"d\", xticklabels=svm_tfidf.classes_, yticklabels=svm_tfidf.classes_)\n",
        "plt.title(\"Matriz de Confusão do SVM - TF-IDF\")\n",
        "plt.xlabel(\"Valores previstos\")\n",
        "plt.ylabel(\"Valores reais\")\n",
        "plt.show()"
      ],
      "metadata": {
        "colab": {
          "base_uri": "https://localhost:8080/",
          "height": 472
        },
        "id": "RYvD-NIdO6le",
        "outputId": "cf0db5b0-76d8-41c9-c8da-b32591d6562d"
      },
      "execution_count": null,
      "outputs": [
        {
          "output_type": "display_data",
          "data": {
            "text/plain": [
              "<Figure size 640x480 with 2 Axes>"
            ],
            "image/png": "[encoded data removed]"
          },
          "metadata": {}
        }
      ]
    },
    {
      "cell_type": "markdown",
      "source": [
        "# 4. BERT (Bidirectional Encoder Representations from Transformers)"
      ],
      "metadata": {
        "id": "T-Mx0RWsy2mc"
      }
    },
    {
      "cell_type": "code",
      "source": [
        "print(\"============= BERT =============\")"
      ],
      "metadata": {
        "colab": {
          "base_uri": "https://localhost:8080/"
        },
        "id": "VSwgrKzry2Cs",
        "outputId": "fc6ad5b9-4d03-4171-8aab-2ecd0271b53b"
      },
      "execution_count": null,
      "outputs": [
        {
          "output_type": "stream",
          "name": "stdout",
          "text": [
            "============= BERT =============\n"
          ]
        }
      ]
    },
    {
      "cell_type": "markdown",
      "source": [
        "### ⚠️ Aviso:\n",
        "\n",
        "Devido a problemas de compatibilidade com versões mais novas do TensorFlow, foi utilizado uma versão mais antiga.  \n",
        "A biblioteca Pytorch (criada e mantida pela Meta) seria mais recomendado nesse caso\n",
        "\n",
        "Um dos avisos dados:\n",
        "> TensorFlow and JAX classes are deprecated and will be removed in Transformers v5. We recommend migrating to PyTorch classes or pinning your version of Transformers.\n",
        "\n",
        "Além disso, eu pessoalmente recomendo rodar o BERT após o resto dos modelos, devido ao uso do Keras em uma versão anterior"
      ],
      "metadata": {
        "id": "QBNbKewXzhj7"
      }
    },
    {
      "cell_type": "markdown",
      "source": [
        "### Configuração de ambiente para o BERT"
      ],
      "metadata": {
        "id": "AtJvsNCXz-u7"
      }
    },
    {
      "cell_type": "code",
      "source": [
        "# Para instalar uma versão compatível do tf_keras\n",
        "!pip install tf_keras\n",
        "\n",
        "# Garantindo a importação de algumas bibliotecas\n",
        "import os\n",
        "\n",
        "# Força o TensorFlow a usar a versão Keras 2 (instalada acima)\n",
        "os.environ['TF_USE_LEGACY_KERAS'] = '1'\n",
        "\n",
        "import tensorflow as tf\n",
        "from transformers import TFBertForSequenceClassification, BertTokenizer\n",
        "from sklearn.model_selection import train_test_split\n",
        "from sklearn.metrics import confusion_matrix\n",
        "from tensorflow.keras.optimizers import Adam\n",
        "from tensorflow.keras.losses import SparseCategoricalCrossentropy\n",
        "from tensorflow.keras.metrics import SparseCategoricalAccuracy\n",
        "import pandas as pd\n",
        "import numpy as np\n",
        "import seaborn as sns\n",
        "import matplotlib.pyplot as plt\n",
        "import time"
      ],
      "metadata": {
        "id": "ncUn1eMyzNkZ",
        "colab": {
          "base_uri": "https://localhost:8080/"
        },
        "outputId": "2800609e-82d6-45b9-d197-bb4ba6441ee7"
      },
      "execution_count": null,
      "outputs": [
        {
          "output_type": "stream",
          "name": "stdout",
          "text": [
            "Requirement already satisfied: tf_keras in /usr/local/lib/python3.11/dist-packages (2.18.0)\n",
            "Requirement already satisfied: tensorflow<2.19,>=2.18 in /usr/local/lib/python3.11/dist-packages (from tf_keras) (2.18.0)\n",
            "Requirement already satisfied: absl-py>=1.0.0 in /usr/local/lib/python3.11/dist-packages (from tensorflow<2.19,>=2.18->tf_keras) (1.4.0)\n",
            "Requirement already satisfied: astunparse>=1.6.0 in /usr/local/lib/python3.11/dist-packages (from tensorflow<2.19,>=2.18->tf_keras) (1.6.3)\n",
            "Requirement already satisfied: flatbuffers>=24.3.25 in /usr/local/lib/python3.11/dist-packages (from tensorflow<2.19,>=2.18->tf_keras) (25.2.10)\n",
            "Requirement already satisfied: gast!=0.5.0,!=0.5.1,!=0.5.2,>=0.2.1 in /usr/local/lib/python3.11/dist-packages (from tensorflow<2.19,>=2.18->tf_keras) (0.6.0)\n",
            "Requirement already satisfied: google-pasta>=0.1.1 in /usr/local/lib/python3.11/dist-packages (from tensorflow<2.19,>=2.18->tf_keras) (0.2.0)\n",
            "Requirement already satisfied: libclang>=13.0.0 in /usr/local/lib/python3.11/dist-packages (from tensorflow<2.19,>=2.18->tf_keras) (18.1.1)\n",
            "Requirement already satisfied: opt-einsum>=2.3.2 in /usr/local/lib/python3.11/dist-packages (from tensorflow<2.19,>=2.18->tf_keras) (3.4.0)\n",
            "Requirement already satisfied: packaging in /usr/local/lib/python3.11/dist-packages (from tensorflow<2.19,>=2.18->tf_keras) (24.2)\n",
            "Requirement already satisfied: protobuf!=4.21.0,!=4.21.1,!=4.21.2,!=4.21.3,!=4.21.4,!=4.21.5,<6.0.0dev,>=3.20.3 in /usr/local/lib/python3.11/dist-packages (from tensorflow<2.19,>=2.18->tf_keras) (5.29.5)\n",
            "Requirement already satisfied: requests<3,>=2.21.0 in /usr/local/lib/python3.11/dist-packages (from tensorflow<2.19,>=2.18->tf_keras) (2.32.3)\n",
            "Requirement already satisfied: setuptools in /usr/local/lib/python3.11/dist-packages (from tensorflow<2.19,>=2.18->tf_keras) (75.2.0)\n",
            "Requirement already satisfied: six>=1.12.0 in /usr/local/lib/python3.11/dist-packages (from tensorflow<2.19,>=2.18->tf_keras) (1.17.0)\n",
            "Requirement already satisfied: termcolor>=1.1.0 in /usr/local/lib/python3.11/dist-packages (from tensorflow<2.19,>=2.18->tf_keras) (3.1.0)\n",
            "Requirement already satisfied: typing-extensions>=3.6.6 in /usr/local/lib/python3.11/dist-packages (from tensorflow<2.19,>=2.18->tf_keras) (4.14.1)\n",
            "Requirement already satisfied: wrapt>=1.11.0 in /usr/local/lib/python3.11/dist-packages (from tensorflow<2.19,>=2.18->tf_keras) (1.17.2)\n",
            "Requirement already satisfied: grpcio<2.0,>=1.24.3 in /usr/local/lib/python3.11/dist-packages (from tensorflow<2.19,>=2.18->tf_keras) (1.73.1)\n",
            "Requirement already satisfied: tensorboard<2.19,>=2.18 in /usr/local/lib/python3.11/dist-packages (from tensorflow<2.19,>=2.18->tf_keras) (2.18.0)\n",
            "Requirement already satisfied: keras>=3.5.0 in /usr/local/lib/python3.11/dist-packages (from tensorflow<2.19,>=2.18->tf_keras) (3.8.0)\n",
            "Requirement already satisfied: numpy<2.1.0,>=1.26.0 in /usr/local/lib/python3.11/dist-packages (from tensorflow<2.19,>=2.18->tf_keras) (2.0.2)\n",
            "Requirement already satisfied: h5py>=3.11.0 in /usr/local/lib/python3.11/dist-packages (from tensorflow<2.19,>=2.18->tf_keras) (3.14.0)\n",
            "Requirement already satisfied: ml-dtypes<0.5.0,>=0.4.0 in /usr/local/lib/python3.11/dist-packages (from tensorflow<2.19,>=2.18->tf_keras) (0.4.1)\n",
            "Requirement already satisfied: tensorflow-io-gcs-filesystem>=0.23.1 in /usr/local/lib/python3.11/dist-packages (from tensorflow<2.19,>=2.18->tf_keras) (0.37.1)\n",
            "Requirement already satisfied: wheel<1.0,>=0.23.0 in /usr/local/lib/python3.11/dist-packages (from astunparse>=1.6.0->tensorflow<2.19,>=2.18->tf_keras) (0.45.1)\n",
            "Requirement already satisfied: rich in /usr/local/lib/python3.11/dist-packages (from keras>=3.5.0->tensorflow<2.19,>=2.18->tf_keras) (13.9.4)\n",
            "Requirement already satisfied: namex in /usr/local/lib/python3.11/dist-packages (from keras>=3.5.0->tensorflow<2.19,>=2.18->tf_keras) (0.1.0)\n",
            "Requirement already satisfied: optree in /usr/local/lib/python3.11/dist-packages (from keras>=3.5.0->tensorflow<2.19,>=2.18->tf_keras) (0.16.0)\n",
            "Requirement already satisfied: charset-normalizer<4,>=2 in /usr/local/lib/python3.11/dist-packages (from requests<3,>=2.21.0->tensorflow<2.19,>=2.18->tf_keras) (3.4.2)\n",
            "Requirement already satisfied: idna<4,>=2.5 in /usr/local/lib/python3.11/dist-packages (from requests<3,>=2.21.0->tensorflow<2.19,>=2.18->tf_keras) (3.10)\n",
            "Requirement already satisfied: urllib3<3,>=1.21.1 in /usr/local/lib/python3.11/dist-packages (from requests<3,>=2.21.0->tensorflow<2.19,>=2.18->tf_keras) (2.4.0)\n",
            "Requirement already satisfied: certifi>=2017.4.17 in /usr/local/lib/python3.11/dist-packages (from requests<3,>=2.21.0->tensorflow<2.19,>=2.18->tf_keras) (2025.7.9)\n",
            "Requirement already satisfied: markdown>=2.6.8 in /usr/local/lib/python3.11/dist-packages (from tensorboard<2.19,>=2.18->tensorflow<2.19,>=2.18->tf_keras) (3.8.2)\n",
            "Requirement already satisfied: tensorboard-data-server<0.8.0,>=0.7.0 in /usr/local/lib/python3.11/dist-packages (from tensorboard<2.19,>=2.18->tensorflow<2.19,>=2.18->tf_keras) (0.7.2)\n",
            "Requirement already satisfied: werkzeug>=1.0.1 in /usr/local/lib/python3.11/dist-packages (from tensorboard<2.19,>=2.18->tensorflow<2.19,>=2.18->tf_keras) (3.1.3)\n",
            "Requirement already satisfied: MarkupSafe>=2.1.1 in /usr/local/lib/python3.11/dist-packages (from werkzeug>=1.0.1->tensorboard<2.19,>=2.18->tensorflow<2.19,>=2.18->tf_keras) (3.0.2)\n",
            "Requirement already satisfied: markdown-it-py>=2.2.0 in /usr/local/lib/python3.11/dist-packages (from rich->keras>=3.5.0->tensorflow<2.19,>=2.18->tf_keras) (3.0.0)\n",
            "Requirement already satisfied: pygments<3.0.0,>=2.13.0 in /usr/local/lib/python3.11/dist-packages (from rich->keras>=3.5.0->tensorflow<2.19,>=2.18->tf_keras) (2.19.2)\n",
            "Requirement already satisfied: mdurl~=0.1 in /usr/local/lib/python3.11/dist-packages (from markdown-it-py>=2.2.0->rich->keras>=3.5.0->tensorflow<2.19,>=2.18->tf_keras) (0.1.2)\n"
          ]
        }
      ]
    },
    {
      "cell_type": "code",
      "source": [
        "# --- Configuração Inicial e Carregamento de Dados ---\n",
        "print(\"Carregando o arquivo pre-processed.csv...\")\n",
        "dados = pd.read_csv('pre-processed.csv')\n",
        "\n",
        "# Verificação e limpeza de dados\n",
        "print(\"Verificando e limpando os dados...\")\n",
        "dados.dropna(subset=['preprocessed_news', 'label'], inplace=True)\n",
        "dados['preprocessed_news'] = dados['preprocessed_news'].astype(str)\n",
        "\n",
        "X = dados['preprocessed_news']\n",
        "y = dados['label']\n",
        "\n",
        "# Mapeando os labels para inteiros\n",
        "label_map = {label: i for i, label in enumerate(np.unique(y))}\n",
        "y_numeric = y.map(label_map).values\n",
        "num_labels = len(label_map)\n",
        "\n",
        "# Separação dos dados\n",
        "X_train, X_temp, y_train, y_temp = train_test_split(X, y_numeric, test_size=0.4, random_state=13, stratify=y_numeric)\n",
        "X_val, X_test, y_val, y_test = train_test_split(X_temp, y_temp, test_size=0.75, random_state=13, stratify=y_temp)\n",
        "print(f\"Dataset dividido em: {len(X_train)} amostras de treino, {len(X_val)} de validação e {len(X_test)} de teste.\")"
      ],
      "metadata": {
        "id": "lV36nVuw0B8Y",
        "colab": {
          "base_uri": "https://localhost:8080/"
        },
        "outputId": "835cd6fb-573f-4271-8869-4e11155fc990"
      },
      "execution_count": null,
      "outputs": [
        {
          "output_type": "stream",
          "name": "stdout",
          "text": [
            "Carregando o arquivo pre-processed.csv...\n",
            "Verificando e limpando os dados...\n",
            "Dataset dividido em: 4320 amostras de treino, 720 de validação e 2160 de teste.\n"
          ]
        }
      ]
    },
    {
      "cell_type": "code",
      "source": [
        "# --- Carregamento do Modelo e Tokenizador BERT ---\n",
        "print(\"\\nCarregando o tokenizador e o modelo BERT pré-treinado...\")\n",
        "model_name = 'neuralmind/bert-base-portuguese-cased' # Usando um modelo em português\n",
        "tokenizer = BertTokenizer.from_pretrained(model_name)\n",
        "model = TFBertForSequenceClassification.from_pretrained(model_name, num_labels=num_labels)"
      ],
      "metadata": {
        "colab": {
          "base_uri": "https://localhost:8080/",
          "height": 465,
          "referenced_widgets": [
            "675f835adc0448fcaa06ed4fc74ecb27",
            "e677e3458b2b46cab09c5de0c11de867",
            "b44384520c074c7f9d23512851bd4da0",
            "966bd941be494b07879ed5f567ab0f0a",
            "6e04d5f3d9784cb79a624e22fa7995f3",
            "63b61022916e415082487568bf22ece4",
            "0cc8ffad995943e9bcc95b6ad03f271c",
            "c2b2494f26b34ee7a6fb20dc27d14789",
            "1a6573b422eb480187b516f4abad385e",
            "7fc4cdf7965b44528511b25c1592d8c8",
            "cd1a66e4a99242399b86b215131b049d",
            "2037c1bdf3614ff585a70314d975d95a",
            "48eaafb475ce48f088f6a420f52ea9eb",
            "1487ee4e2948447ba83c179ca83a427a",
            "93f9e977125345a1ad6f80a10c68eb8c",
            "dcee40ad3e944e088fc80ae0f2b4cc52",
            "f92e5f7a5b3142e29a031f2d42d4d62e",
            "597f93a6b5e84fbea1bac7656fcb9c76",
            "80e051e74d8b43feb41666c0e779579e",
            "09522ccb20a34404a1ffb401bc5646b7",
            "3c49a04f9e68410ea9af249195bceb62",
            "552b03c91ca1459493c9c4c97a16fd8e",
            "896a2986aa644eb3b146241267018484",
            "51eb3ef8bf334754948d3c6776e24a5f",
            "d2fe959dabca4c4ab71ae679e590a6f2",
            "23e1b0b5e5e24c508cc4eea16b122e6a",
            "ed93dd8620f24d11818b4e78d68156a3",
            "f62be7168ca24fd49addc285b514d3d4",
            "28aef5523aba4714bddc88b2f9bfb944",
            "51ee567a865a4b1181d1e94cdc64eb7c",
            "c8ad2dc556284f80b231000597a11366",
            "6dd9a94c3c7b4865b385845e45962ac1",
            "3dff1bf6fe4d4cf0985af1c95676153a",
            "5c76aa8bb92247758ba0bd02dce30c4c",
            "1d5680efdf4941af96f64cd9b9eb1bb1",
            "3cdc36c3eeb54443bb3068db7e9a336c",
            "e40140a7071d422aa8ad9e8c6ca7fa9f",
            "8171e260b0f1419abd52b809c2a22031",
            "ab9c04cfb6fe415b921edb8c449c7e7f",
            "831ab76b47e24671a976c230bcba7967",
            "6f55f69e358c478ab85a48602acbdaaf",
            "8778f1e57ff24d109fe2651f04a4b2c0",
            "32fae8d563154052a3a1f93644e5c538",
            "dd5804feeac444a893853bf69482dcfb",
            "ac225bf570e840ca951520673c72c1ec",
            "20736a59c85a4b0aa1c31860be471915",
            "d8b8fbcbc8b044b5b0e16322ca1d8172",
            "22b1c24875a94586b96aced37e04a1bc",
            "cedced7ee1a0446e8c00e49f03ccd4c5",
            "1d9cd266c1f5435e93f520a9398740b0",
            "e60419fd622342f080b6ebdd77fe7d48",
            "074442bc911f4d7fa15c218c00d14546",
            "758eb560bfc54900b57f07885bf0f184",
            "5eb99e5468b74bb2bb1cbbad061014be",
            "367a8fbdeddb4f6fbfa7fa41ce595e68",
            "e31e3b4ac3114f95bd29b0405386d886",
            "01ce6cbe12ce475a807677b1c709781d",
            "9d8f8552403f45b19bb5a7bd05ca1356",
            "505b8682f65b472e9b2fd7d7fbf32364",
            "b2754a524af94396b253591d063c9c63",
            "e193e0a24bcd4e75bea9ef3c86e2eab7",
            "e03ed8a16f2345d4b650b2d71a653129",
            "ee76f1a59114487a9fc10f0add360430",
            "7f006950b2c84cc5b295910579baf219",
            "cc410e08ba9c490693d2e7e9b36b0319",
            "8570d2edae4b46179b77bc0c2b2a0f39"
          ]
        },
        "id": "ctz-MNvr3pLK",
        "outputId": "d04e4b23-6dd4-4dec-a87c-db5859ed9ec0"
      },
      "execution_count": null,
      "outputs": [
        {
          "output_type": "stream",
          "name": "stdout",
          "text": [
            "\n",
            "Carregando o tokenizador e o modelo BERT pré-treinado...\n"
          ]
        },
        {
          "output_type": "stream",
          "name": "stderr",
          "text": [
            "/usr/local/lib/python3.11/dist-packages/huggingface_hub/utils/_auth.py:94: UserWarning: \n",
            "The secret `HF_TOKEN` does not exist in your Colab secrets.\n",
            "To authenticate with the Hugging Face Hub, create a token in your settings tab (https://huggingface.co/settings/tokens), set it as secret in your Google Colab and restart your session.\n",
            "You will be able to reuse this secret in all of your notebooks.\n",
            "Please note that authentication is recommended but still optional to access public models or datasets.\n",
            "  warnings.warn(\n"
          ]
        },
        {
          "output_type": "display_data",
          "data": {
            "text/plain": [
              "tokenizer_config.json:   0%|          | 0.00/43.0 [00:00<?, ?B/s]"
            ],
            "application/vnd.jupyter.widget-view+json": {
              "version_major": 2,
              "version_minor": 0,
              "model_id": "675f835adc0448fcaa06ed4fc74ecb27"
            }
          },
          "metadata": {}
        },
        {
          "output_type": "display_data",
          "data": {
            "text/plain": [
              "vocab.txt: 0.00B [00:00, ?B/s]"
            ],
            "application/vnd.jupyter.widget-view+json": {
              "version_major": 2,
              "version_minor": 0,
              "model_id": "2037c1bdf3614ff585a70314d975d95a"
            }
          },
          "metadata": {}
        },
        {
          "output_type": "display_data",
          "data": {
            "text/plain": [
              "added_tokens.json:   0%|          | 0.00/2.00 [00:00<?, ?B/s]"
            ],
            "application/vnd.jupyter.widget-view+json": {
              "version_major": 2,
              "version_minor": 0,
              "model_id": "896a2986aa644eb3b146241267018484"
            }
          },
          "metadata": {}
        },
        {
          "output_type": "display_data",
          "data": {
            "text/plain": [
              "special_tokens_map.json:   0%|          | 0.00/112 [00:00<?, ?B/s]"
            ],
            "application/vnd.jupyter.widget-view+json": {
              "version_major": 2,
              "version_minor": 0,
              "model_id": "5c76aa8bb92247758ba0bd02dce30c4c"
            }
          },
          "metadata": {}
        },
        {
          "output_type": "display_data",
          "data": {
            "text/plain": [
              "config.json:   0%|          | 0.00/647 [00:00<?, ?B/s]"
            ],
            "application/vnd.jupyter.widget-view+json": {
              "version_major": 2,
              "version_minor": 0,
              "model_id": "ac225bf570e840ca951520673c72c1ec"
            }
          },
          "metadata": {}
        },
        {
          "output_type": "display_data",
          "data": {
            "text/plain": [
              "tf_model.h5:   0%|          | 0.00/529M [00:00<?, ?B/s]"
            ],
            "application/vnd.jupyter.widget-view+json": {
              "version_major": 2,
              "version_minor": 0,
              "model_id": "e31e3b4ac3114f95bd29b0405386d886"
            }
          },
          "metadata": {}
        },
        {
          "output_type": "stream",
          "name": "stderr",
          "text": [
            "TensorFlow and JAX classes are deprecated and will be removed in Transformers v5. We recommend migrating to PyTorch classes or pinning your version of Transformers.\n",
            "All model checkpoint layers were used when initializing TFBertForSequenceClassification.\n",
            "\n",
            "Some layers of TFBertForSequenceClassification were not initialized from the model checkpoint at neuralmind/bert-base-portuguese-cased and are newly initialized: ['classifier', 'bert/pooler/dense/bias:0', 'bert/pooler/dense/kernel:0']\n",
            "You should probably TRAIN this model on a down-stream task to be able to use it for predictions and inference.\n"
          ]
        }
      ]
    },
    {
      "cell_type": "code",
      "source": [
        "# Tokenização dos textos\n",
        "def tokenize_data(texts, tokenizer, max_length=128):\n",
        "    return tokenizer(list(texts), max_length=max_length, padding='max_length', truncation=True, return_tensors='tf')\n",
        "\n",
        "print(\"Tokenizando os dados... (Isso pode levar alguns minutos)\")\n",
        "train_encodings = tokenize_data(X_train, tokenizer)\n",
        "val_encodings = tokenize_data(X_val, tokenizer)\n",
        "test_encodings = tokenize_data(X_test, tokenizer)"
      ],
      "metadata": {
        "colab": {
          "base_uri": "https://localhost:8080/"
        },
        "id": "m6RahCoA32Zv",
        "outputId": "9b5dc898-a5f7-4b9d-ea50-7eccb48db565"
      },
      "execution_count": null,
      "outputs": [
        {
          "output_type": "stream",
          "name": "stderr",
          "text": [
            "TensorFlow and JAX classes are deprecated and will be removed in Transformers v5. We recommend migrating to PyTorch classes or pinning your version of Transformers.\n"
          ]
        },
        {
          "output_type": "stream",
          "name": "stdout",
          "text": [
            "Tokenizando os dados... (Isso pode levar alguns minutos)\n"
          ]
        }
      ]
    },
    {
      "cell_type": "code",
      "source": [
        "# Criação de datasets TensorFlow\n",
        "\n",
        "train_dataset = tf.data.Dataset.from_tensor_slices((dict(train_encodings), y_train)).shuffle(1000).batch(16)\n",
        "val_dataset = tf.data.Dataset.from_tensor_slices((dict(val_encodings), y_val)).batch(16)\n",
        "test_dataset = tf.data.Dataset.from_tensor_slices((dict(test_encodings), y_test)).batch(16)\n",
        "\n",
        "print(\"Datasets do TensorFlow criados.\")"
      ],
      "metadata": {
        "colab": {
          "base_uri": "https://localhost:8080/"
        },
        "id": "6ziLvH9z4cDs",
        "outputId": "684f620b-e2e0-439d-d5e2-08b148ab3933"
      },
      "execution_count": null,
      "outputs": [
        {
          "output_type": "stream",
          "name": "stdout",
          "text": [
            "Datasets do TensorFlow criados.\n"
          ]
        }
      ]
    },
    {
      "cell_type": "code",
      "source": [
        "# --- Compilação e Treino do Modelo ---\n",
        "optimizer = Adam(learning_rate=3e-5)\n",
        "loss = SparseCategoricalCrossentropy(from_logits=True)\n",
        "metric = SparseCategoricalAccuracy('acuracia_bert')\n",
        "\n",
        "model.compile(optimizer=optimizer, loss=loss, metrics=[metric])"
      ],
      "metadata": {
        "id": "eG6ev1CK4qWY"
      },
      "execution_count": null,
      "outputs": []
    },
    {
      "cell_type": "code",
      "source": [
        "print(\"\\n============= BERT =============\")\n",
        "print(\"Iniciando o treinamento do modelo BERT...\")\n",
        "start_time_train = time.time()\n",
        "history = model.fit(train_dataset, epochs=3, validation_data=val_dataset) # Somente 3 iterações\n",
        "end_time_train = time.time()\n",
        "treino_bert = end_time_train - start_time_train\n",
        "print(f\"Tempo de treino do BERT: {treino_bert:.2f} segundos\")\n",
        "\n",
        "# --- Avaliação do Modelo ---\n",
        "print(\"\\nAvaliando o modelo BERT no conjunto de teste...\")\n",
        "start_time_test = time.time()\n",
        "loss, acuracia_bert = model.evaluate(test_dataset)\n",
        "end_time_test = time.time()\n",
        "teste_bert = end_time_test - start_time_test\n",
        "print(f\"Tempo de teste do BERT: {teste_bert:.2f} segundos\")\n",
        "print(f\"Acurácia do BERT no conjunto de teste: {acuracia_bert:.4f}\")"
      ],
      "metadata": {
        "colab": {
          "base_uri": "https://localhost:8080/"
        },
        "id": "_FlPbB_P432b",
        "outputId": "5c2ca366-f42a-43f4-8588-d9dc97bba996"
      },
      "execution_count": null,
      "outputs": [
        {
          "output_type": "stream",
          "name": "stdout",
          "text": [
            "\n",
            "============= BERT =============\n",
            "Iniciando o treinamento do modelo BERT...\n",
            "Epoch 1/3\n",
            "270/270 [==============================] - 189s 468ms/step - loss: 0.3641 - acuracia_bert: 0.8313 - val_loss: 0.1620 - val_acuracia_bert: 0.9375\n",
            "Epoch 2/3\n",
            "270/270 [==============================] - 121s 449ms/step - loss: 0.1117 - acuracia_bert: 0.9581 - val_loss: 0.1721 - val_acuracia_bert: 0.9319\n",
            "Epoch 3/3\n",
            "270/270 [==============================] - 119s 442ms/step - loss: 0.0496 - acuracia_bert: 0.9824 - val_loss: 0.1357 - val_acuracia_bert: 0.9528\n",
            "Tempo de treino do BERT: 473.04 segundos\n",
            "\n",
            "Avaliando o modelo BERT no conjunto de teste...\n",
            "135/135 [==============================] - 20s 146ms/step - loss: 0.1799 - acuracia_bert: 0.9407\n",
            "Tempo de teste do BERT: 20.48 segundos\n",
            "Acurácia do BERT no conjunto de teste: 0.9407\n"
          ]
        }
      ]
    },
    {
      "cell_type": "code",
      "source": [
        "# Salvando o modelo\n",
        "if not os.path.exists('modelos'):\n",
        "    os.makedirs('modelos')\n",
        "\n",
        "model.save_pretrained('modelos/bert_model')\n",
        "tokenizer.save_pretrained('modelos/bert_tokenizer')\n",
        "print(\"\\nModelo e tokenizador BERT foram salvos nos diretórios 'modelos/bert_model' e 'modelos/bert_tokenizer'\")"
      ],
      "metadata": {
        "colab": {
          "base_uri": "https://localhost:8080/"
        },
        "id": "UP1nChyLES_-",
        "outputId": "30ab6698-4e32-4b74-d9dc-05d405d0f505"
      },
      "execution_count": null,
      "outputs": [
        {
          "output_type": "stream",
          "name": "stdout",
          "text": [
            "\n",
            "Modelo e tokenizador BERT foram salvos nos diretórios 'modelos/bert_model' e 'modelos/bert_tokenizer'\n"
          ]
        }
      ]
    },
    {
      "cell_type": "code",
      "source": [
        "# --- Predições e Matriz de Confusão ---\n",
        "print(\"Gerando predições e matriz de confusão...\")\n",
        "y_pred_logits = model.predict(test_dataset).logits\n",
        "y_pred = tf.argmax(y_pred_logits, axis=1).numpy()\n",
        "\n",
        "mc_bert = confusion_matrix(y_test, y_pred)\n",
        "plt.figure(figsize=(10, 8))\n",
        "sns.heatmap(mc_bert, annot=True, fmt=\"d\", xticklabels=label_map.keys(), yticklabels=label_map.keys())\n",
        "plt.title(\"Matriz de Confusão do BERT\", fontsize=16)\n",
        "plt.xlabel(\"Valores Previstos\", fontsize=12)\n",
        "plt.ylabel(\"Valores Reais\", fontsize=12)\n",
        "plt.show()"
      ],
      "metadata": {
        "id": "1xx3Zk_r5uwt",
        "colab": {
          "base_uri": "https://localhost:8080/",
          "height": 760
        },
        "outputId": "1e2fa0f3-7607-4b63-a4b2-c13b0e3c8cf8"
      },
      "execution_count": null,
      "outputs": [
        {
          "output_type": "stream",
          "name": "stdout",
          "text": [
            "Gerando predições e matriz de confusão...\n",
            "135/135 [==============================] - 23s 146ms/step\n"
          ]
        },
        {
          "output_type": "display_data",
          "data": {
            "text/plain": [
              "<Figure size 1000x800 with 2 Axes>"
            ],
            "image/png": "[encoded data removed]"
          },
          "metadata": {}
        }
      ]
    },
    {
      "cell_type": "markdown",
      "source": [
        "#Gráfico de Comparação de Acurácia entre Modelos usados"
      ],
      "metadata": {
        "id": "VGA5MhGmQyNc"
      }
    },
    {
      "cell_type": "code",
      "source": [
        "acuracias = {\n",
        "  'KNN (BoW)': acuracia_knn_bow,\n",
        "  'KNN (TF-IDF)': acuracia_knn_tfidf,\n",
        "  'Naive Bayes (BoW)': acuracia_nb_bow,\n",
        "  'Naive Bayes (TF-IDF)': acuracia_nb_tfidf,\n",
        "  'SVM (BoW)': acuracia_svm_bow,\n",
        "  'SVM (TF-IDF)': acuracia_svm_tfidf,\n",
        "  'BERT': acuracia_bert\n",
        "}\n",
        "\n",
        "cores = []\n",
        "for modelo in acuracias.keys():\n",
        "  if 'KNN' in modelo:\n",
        "    cores.append('violet')   # rosa\n",
        "  elif 'Naive Bayes' in modelo:\n",
        "    cores.append('mediumorchid')  # roxo\n",
        "  elif 'SVM' in modelo:\n",
        "    cores.append('cornflowerblue')  # azul\n",
        "  elif 'BERT' in modelo:\n",
        "    cores.append('darkslateblue') # roxo escuro\n",
        "\n",
        "plt.figure(figsize=(12, 6))\n",
        "plt.bar(acuracias.keys(), acuracias.values(), color=cores)\n",
        "plt.title('Comparação de Acurácia entre Modelos')\n",
        "plt.ylabel('Acurácia')\n",
        "plt.ylim(0, 1.0)\n",
        "\n",
        "#valores no topo das barras:\n",
        "for i, (modelo, valor) in enumerate(acuracias.items()):\n",
        "  plt.text(i, valor + 0.01, f\"{valor:.2f}\", ha='center', fontsize=10)\n",
        "\n",
        "plt.tight_layout()\n",
        "plt.show()"
      ],
      "metadata": {
        "colab": {
          "base_uri": "https://localhost:8080/",
          "height": 606
        },
        "id": "0mmVWPGBYjym",
        "outputId": "03fd7c82-7f48-4025-fd66-8a54bb5187ff"
      },
      "execution_count": null,
      "outputs": [
        {
          "output_type": "display_data",
          "data": {
            "text/plain": [
              "<Figure size 1200x600 with 1 Axes>"
            ],
            "image/png": "[encoded data removed]"
          },
          "metadata": {}
        }
      ]
    },
    {
      "cell_type": "markdown",
      "source": [
        "#Gráfico de comparação de tempos de execução entre modelos:"
      ],
      "metadata": {
        "id": "dqF7x0GwQ7PC"
      }
    },
    {
      "cell_type": "code",
      "source": [
        "import matplotlib.pyplot as plt\n",
        "import numpy as np\n",
        "\n",
        "tecnicas = ['BoW', 'TF-IDF']\n",
        "x = np.arange(len(tecnicas))\n",
        "\n",
        "treino_nb = [treino_nb_bow, treino_nb_tfidf]\n",
        "teste_nb = [teste_nb_bow, teste_nb_tfidf]\n",
        "\n",
        "treino_knn = [treino_knn_bow, treino_knn_tfidf]\n",
        "teste_knn = [teste_knn_bow, teste_knn_tfidf]\n",
        "\n",
        "treino_svm = [treino_svm_bow, treino_svm_tfidf]\n",
        "teste_svm = [teste_svm_bow, teste_svm_tfidf]\n",
        "\n",
        "plt.figure(figsize=(10, 6))\n",
        "\n",
        "plt.plot(x, treino_knn, label='KNN Treinamento', color='#2ca02c', linewidth=2) # verde\n",
        "plt.plot(x, teste_knn, label='KNN Teste', color='#98df8a', linewidth=2)        # verde claro\n",
        "\n",
        "plt.plot(x, treino_nb, label='NB Treinamento', color='#6a0dad', linewidth=2)   # roxo escuro\n",
        "plt.plot(x, teste_nb, label='NB Teste',color='#b19cd9', linewidth=2)          # roxo claro\n",
        "\n",
        "plt.plot(x, treino_svm, label='SVM Treinamento', color='#1f77b4', linewidth=2) # azul\n",
        "plt.plot(x, teste_svm, label='SVM Teste', color='#aec7e8', linewidth=2)        # azul claro\n",
        "\n",
        "plt.xticks(x, tecnicas)\n",
        "plt.xlabel('Técnica de Vetorização')\n",
        "plt.ylabel('Tempo (segundos) - escala logarítmica')\n",
        "plt.title('Tempo de Treinamento e Teste por Algoritmo e Vetorização')\n",
        "\n",
        "plt.grid(True, linestyle='--', alpha=0.3)\n",
        "\n",
        "plt.yscale('log')\n",
        "\n",
        "plt.legend(loc='upper left', bbox_to_anchor=(1, 1))\n",
        "plt.tight_layout(rect=[0, 0, 0.8, 1])\n",
        "plt.show()"
      ],
      "metadata": {
        "colab": {
          "base_uri": "https://localhost:8080/",
          "height": 607
        },
        "id": "cQpzCVtuYlZm",
        "outputId": "f3e57fe0-a862-4534-908d-80cd34838041"
      },
      "execution_count": null,
      "outputs": [
        {
          "output_type": "display_data",
          "data": {
            "text/plain": [
              "<Figure size 1000x600 with 1 Axes>"
            ],
            "image/png": "[encoded data removed]"
          },
          "metadata": {}
        }
      ]
    },
    {
      "cell_type": "markdown",
      "source": [
        "## Exportação dos melhores modelos de cada método"
      ],
      "metadata": {
        "id": "WH3gledZzYiN"
      }
    },
    {
      "cell_type": "code",
      "source": [
        "import pickle\n",
        "import os\n",
        "\n",
        "if not os.path.exists('modelos'):\n",
        "    os.makedirs('modelos')\n",
        "\n",
        "best_models = {}\n",
        "\n",
        "best_models['KNN'] = {'model': knn_bag, 'vectorizer': bag_vetor, 'accuracy': acuracias['KNN (BoW)']}\n",
        "best_models['Naive Bayes'] = {'model': nb_bag, 'vectorizer': bag_vetor, 'accuracy': acuracias['Naive Bayes (BoW)']}\n",
        "best_models['SVM'] = {'model': svm_tfidf, 'vectorizer': tfidf_vetor, 'accuracy': acuracias['SVM (TF-IDF)']}\n",
        "\n",
        "for model_name, model_info in best_models.items():\n",
        "    model_filename = f'modelos/{model_name.lower().replace(\" \", \"_\")}_model.pkl'\n",
        "    with open(model_filename, 'wb') as f:\n",
        "        pickle.dump(model_info['model'], f)\n",
        "    print(f\"Salvando modelo {model_name} em {model_filename}\")\n",
        "\n",
        "    vectorizer_filename = f'modelos/{model_name.lower().replace(\" \", \"_\")}_vectorizer.pkl'\n",
        "    with open(vectorizer_filename, 'wb') as f:\n",
        "        pickle.dump(model_info['vectorizer'], f)\n",
        "    print(f\"Salvando {model_name} vetorizador em {vectorizer_filename}\")"
      ],
      "metadata": {
        "colab": {
          "base_uri": "https://localhost:8080/"
        },
        "id": "PSReb2gWh52C",
        "outputId": "a822214b-ca17-4044-e58b-b3d4d02d3c35"
      },
      "execution_count": null,
      "outputs": [
        {
          "output_type": "stream",
          "name": "stdout",
          "text": [
            "Salvando modelo KNN em modelos/knn_model.pkl\n",
            "Salvando KNN vetorizador em modelos/knn_vectorizer.pkl\n",
            "Salvando modelo Naive Bayes em modelos/naive_bayes_model.pkl\n",
            "Salvando Naive Bayes vetorizador em modelos/naive_bayes_vectorizer.pkl\n",
            "Salvando modelo SVM em modelos/svm_model.pkl\n",
            "Salvando SVM vetorizador em modelos/svm_vectorizer.pkl\n"
          ]
        }
      ]
    }
  ]
}